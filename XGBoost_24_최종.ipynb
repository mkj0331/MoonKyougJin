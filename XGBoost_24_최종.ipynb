{
  "cells": [
    {
      "cell_type": "markdown",
      "metadata": {
        "id": "view-in-github",
        "colab_type": "text"
      },
      "source": [
        "<a href=\"https://colab.research.google.com/github/mkj0331/MoonKyoungJin/blob/main/XGBoost_24_%EC%B5%9C%EC%A2%85.ipynb\" target=\"_parent\"><img src=\"https://colab.research.google.com/assets/colab-badge.svg\" alt=\"Open In Colab\"/></a>"
      ]
    },
    {
      "cell_type": "markdown",
      "metadata": {
        "id": "lWAugzLtn8J3"
      },
      "source": [
        "# Anomalous Financial Transaction Detection\n",
        "\n",
        "본 대회의 과제는 금융 거래 데이터에서 **이상 거래를 탐지하는 기능**을 개선하고 활용도를 높이는 분류 AI모델을 개발하는 것입니다.\n",
        "\n",
        "특히, 클래스 불균형 문제를 해결하기 위해 오픈소스 생성형 AI 모델을 활용하여 부족한 클래스의 데이터를 보완하고, 이를 통해 분류 모델의 성능을 향상시키는 것이 핵심 목표입니다.\n",
        "\n",
        "이러한 접근을 통해 금융보안에 특화된 데이터 분석 및 활용 역량을 강화하여 전문 인력을 양성하고, 금융권의 AI 활용 어려움에 따른 해결 방안을 함께 모색하며 금융 산업의 AI 활용 활성화를 지원하는 것을 목표로 합니다."
      ]
    },
    {
      "cell_type": "markdown",
      "metadata": {
        "id": "3HbWnXnrn8J5"
      },
      "source": [
        "# Import Library"
      ]
    },
    {
      "cell_type": "code",
      "source": [
        "!pip install sdv"
      ],
      "metadata": {
        "colab": {
          "base_uri": "https://localhost:8080/"
        },
        "id": "s8603JnOxpX0",
        "outputId": "ba09dd99-fcba-4d02-acd7-74b869a98ea8"
      },
      "execution_count": null,
      "outputs": [
        {
          "output_type": "stream",
          "name": "stdout",
          "text": [
            "Collecting sdv\n",
            "  Downloading sdv-1.16.1-py3-none-any.whl.metadata (13 kB)\n",
            "Collecting boto3<2.0.0,>=1.28 (from sdv)\n",
            "  Downloading boto3-1.35.24-py3-none-any.whl.metadata (6.6 kB)\n",
            "Collecting botocore<2.0.0,>=1.31 (from sdv)\n",
            "  Downloading botocore-1.35.24-py3-none-any.whl.metadata (5.7 kB)\n",
            "Requirement already satisfied: cloudpickle>=2.1.0 in /usr/local/lib/python3.10/dist-packages (from sdv) (2.2.1)\n",
            "Requirement already satisfied: graphviz>=0.13.2 in /usr/local/lib/python3.10/dist-packages (from sdv) (0.20.3)\n",
            "Requirement already satisfied: tqdm>=4.29 in /usr/local/lib/python3.10/dist-packages (from sdv) (4.66.5)\n",
            "Collecting copulas>=0.11.0 (from sdv)\n",
            "  Downloading copulas-0.11.1-py3-none-any.whl.metadata (9.1 kB)\n",
            "Collecting ctgan>=0.10.0 (from sdv)\n",
            "  Downloading ctgan-0.10.1-py3-none-any.whl.metadata (11 kB)\n",
            "Collecting deepecho>=0.6.0 (from sdv)\n",
            "  Downloading deepecho-0.6.0-py3-none-any.whl.metadata (10 kB)\n",
            "Collecting rdt>=1.12.3 (from sdv)\n",
            "  Downloading rdt-1.12.4-py3-none-any.whl.metadata (10 kB)\n",
            "Collecting sdmetrics>=0.14.0 (from sdv)\n",
            "  Downloading sdmetrics-0.15.1-py3-none-any.whl.metadata (8.7 kB)\n",
            "Requirement already satisfied: platformdirs>=4.0 in /usr/local/lib/python3.10/dist-packages (from sdv) (4.3.6)\n",
            "Requirement already satisfied: pyyaml>=6.0.1 in /usr/local/lib/python3.10/dist-packages (from sdv) (6.0.2)\n",
            "Requirement already satisfied: pandas>=1.4.0 in /usr/local/lib/python3.10/dist-packages (from sdv) (2.1.4)\n",
            "Requirement already satisfied: numpy<2.0.0,>=1.23.3 in /usr/local/lib/python3.10/dist-packages (from sdv) (1.26.4)\n",
            "Collecting jmespath<2.0.0,>=0.7.1 (from boto3<2.0.0,>=1.28->sdv)\n",
            "  Downloading jmespath-1.0.1-py3-none-any.whl.metadata (7.6 kB)\n",
            "Collecting s3transfer<0.11.0,>=0.10.0 (from boto3<2.0.0,>=1.28->sdv)\n",
            "  Downloading s3transfer-0.10.2-py3-none-any.whl.metadata (1.7 kB)\n",
            "Requirement already satisfied: python-dateutil<3.0.0,>=2.1 in /usr/local/lib/python3.10/dist-packages (from botocore<2.0.0,>=1.31->sdv) (2.8.2)\n",
            "Requirement already satisfied: urllib3!=2.2.0,<3,>=1.25.4 in /usr/local/lib/python3.10/dist-packages (from botocore<2.0.0,>=1.31->sdv) (2.0.7)\n",
            "Requirement already satisfied: plotly>=5.10.0 in /usr/local/lib/python3.10/dist-packages (from copulas>=0.11.0->sdv) (5.15.0)\n",
            "Requirement already satisfied: scipy>=1.9.2 in /usr/local/lib/python3.10/dist-packages (from copulas>=0.11.0->sdv) (1.13.1)\n",
            "Requirement already satisfied: torch>=1.11.0 in /usr/local/lib/python3.10/dist-packages (from ctgan>=0.10.0->sdv) (2.4.1+cu121)\n",
            "Requirement already satisfied: pytz>=2020.1 in /usr/local/lib/python3.10/dist-packages (from pandas>=1.4.0->sdv) (2024.2)\n",
            "Requirement already satisfied: tzdata>=2022.1 in /usr/local/lib/python3.10/dist-packages (from pandas>=1.4.0->sdv) (2024.1)\n",
            "Collecting Faker>=17 (from rdt>=1.12.3->sdv)\n",
            "  Downloading Faker-29.0.0-py3-none-any.whl.metadata (15 kB)\n",
            "Requirement already satisfied: scikit-learn>=1.1.0 in /usr/local/lib/python3.10/dist-packages (from rdt>=1.12.3->sdv) (1.3.2)\n",
            "Collecting plotly>=5.10.0 (from copulas>=0.11.0->sdv)\n",
            "  Downloading plotly-5.24.1-py3-none-any.whl.metadata (7.3 kB)\n",
            "Requirement already satisfied: tenacity>=6.2.0 in /usr/local/lib/python3.10/dist-packages (from plotly>=5.10.0->copulas>=0.11.0->sdv) (9.0.0)\n",
            "Requirement already satisfied: packaging in /usr/local/lib/python3.10/dist-packages (from plotly>=5.10.0->copulas>=0.11.0->sdv) (24.1)\n",
            "Requirement already satisfied: six>=1.5 in /usr/local/lib/python3.10/dist-packages (from python-dateutil<3.0.0,>=2.1->botocore<2.0.0,>=1.31->sdv) (1.16.0)\n",
            "Requirement already satisfied: joblib>=1.1.1 in /usr/local/lib/python3.10/dist-packages (from scikit-learn>=1.1.0->rdt>=1.12.3->sdv) (1.4.2)\n",
            "Requirement already satisfied: threadpoolctl>=2.0.0 in /usr/local/lib/python3.10/dist-packages (from scikit-learn>=1.1.0->rdt>=1.12.3->sdv) (3.5.0)\n",
            "Requirement already satisfied: filelock in /usr/local/lib/python3.10/dist-packages (from torch>=1.11.0->ctgan>=0.10.0->sdv) (3.16.1)\n",
            "Requirement already satisfied: typing-extensions>=4.8.0 in /usr/local/lib/python3.10/dist-packages (from torch>=1.11.0->ctgan>=0.10.0->sdv) (4.12.2)\n",
            "Requirement already satisfied: sympy in /usr/local/lib/python3.10/dist-packages (from torch>=1.11.0->ctgan>=0.10.0->sdv) (1.13.2)\n",
            "Requirement already satisfied: networkx in /usr/local/lib/python3.10/dist-packages (from torch>=1.11.0->ctgan>=0.10.0->sdv) (3.3)\n",
            "Requirement already satisfied: jinja2 in /usr/local/lib/python3.10/dist-packages (from torch>=1.11.0->ctgan>=0.10.0->sdv) (3.1.4)\n",
            "Requirement already satisfied: fsspec in /usr/local/lib/python3.10/dist-packages (from torch>=1.11.0->ctgan>=0.10.0->sdv) (2024.6.1)\n",
            "Requirement already satisfied: MarkupSafe>=2.0 in /usr/local/lib/python3.10/dist-packages (from jinja2->torch>=1.11.0->ctgan>=0.10.0->sdv) (2.1.5)\n",
            "Requirement already satisfied: mpmath<1.4,>=1.1.0 in /usr/local/lib/python3.10/dist-packages (from sympy->torch>=1.11.0->ctgan>=0.10.0->sdv) (1.3.0)\n",
            "Downloading sdv-1.16.1-py3-none-any.whl (148 kB)\n",
            "\u001b[2K   \u001b[90m━━━━━━━━━━━━━━━━━━━━━━━━━━━━━━━━━━━━━━━━\u001b[0m \u001b[32m148.8/148.8 kB\u001b[0m \u001b[31m13.8 MB/s\u001b[0m eta \u001b[36m0:00:00\u001b[0m\n",
            "\u001b[?25hDownloading boto3-1.35.24-py3-none-any.whl (139 kB)\n",
            "\u001b[2K   \u001b[90m━━━━━━━━━━━━━━━━━━━━━━━━━━━━━━━━━━━━━━━━\u001b[0m \u001b[32m139.2/139.2 kB\u001b[0m \u001b[31m14.9 MB/s\u001b[0m eta \u001b[36m0:00:00\u001b[0m\n",
            "\u001b[?25hDownloading botocore-1.35.24-py3-none-any.whl (12.6 MB)\n",
            "\u001b[2K   \u001b[90m━━━━━━━━━━━━━━━━━━━━━━━━━━━━━━━━━━━━━━━━\u001b[0m \u001b[32m12.6/12.6 MB\u001b[0m \u001b[31m114.4 MB/s\u001b[0m eta \u001b[36m0:00:00\u001b[0m\n",
            "\u001b[?25hDownloading copulas-0.11.1-py3-none-any.whl (51 kB)\n",
            "\u001b[2K   \u001b[90m━━━━━━━━━━━━━━━━━━━━━━━━━━━━━━━━━━━━━━━━\u001b[0m \u001b[32m51.6/51.6 kB\u001b[0m \u001b[31m5.4 MB/s\u001b[0m eta \u001b[36m0:00:00\u001b[0m\n",
            "\u001b[?25hDownloading ctgan-0.10.1-py3-none-any.whl (24 kB)\n",
            "Downloading deepecho-0.6.0-py3-none-any.whl (27 kB)\n",
            "Downloading rdt-1.12.4-py3-none-any.whl (65 kB)\n",
            "\u001b[2K   \u001b[90m━━━━━━━━━━━━━━━━━━━━━━━━━━━━━━━━━━━━━━━━\u001b[0m \u001b[32m65.3/65.3 kB\u001b[0m \u001b[31m7.0 MB/s\u001b[0m eta \u001b[36m0:00:00\u001b[0m\n",
            "\u001b[?25hDownloading sdmetrics-0.15.1-py3-none-any.whl (170 kB)\n",
            "\u001b[2K   \u001b[90m━━━━━━━━━━━━━━━━━━━━━━━━━━━━━━━━━━━━━━━━\u001b[0m \u001b[32m170.7/170.7 kB\u001b[0m \u001b[31m16.7 MB/s\u001b[0m eta \u001b[36m0:00:00\u001b[0m\n",
            "\u001b[?25hDownloading Faker-29.0.0-py3-none-any.whl (1.8 MB)\n",
            "\u001b[2K   \u001b[90m━━━━━━━━━━━━━━━━━━━━━━━━━━━━━━━━━━━━━━━━\u001b[0m \u001b[32m1.8/1.8 MB\u001b[0m \u001b[31m79.6 MB/s\u001b[0m eta \u001b[36m0:00:00\u001b[0m\n",
            "\u001b[?25hDownloading jmespath-1.0.1-py3-none-any.whl (20 kB)\n",
            "Downloading plotly-5.24.1-py3-none-any.whl (19.1 MB)\n",
            "\u001b[2K   \u001b[90m━━━━━━━━━━━━━━━━━━━━━━━━━━━━━━━━━━━━━━━━\u001b[0m \u001b[32m19.1/19.1 MB\u001b[0m \u001b[31m105.3 MB/s\u001b[0m eta \u001b[36m0:00:00\u001b[0m\n",
            "\u001b[?25hDownloading s3transfer-0.10.2-py3-none-any.whl (82 kB)\n",
            "\u001b[2K   \u001b[90m━━━━━━━━━━━━━━━━━━━━━━━━━━━━━━━━━━━━━━━━\u001b[0m \u001b[32m82.7/82.7 kB\u001b[0m \u001b[31m8.3 MB/s\u001b[0m eta \u001b[36m0:00:00\u001b[0m\n",
            "\u001b[?25hInstalling collected packages: plotly, jmespath, Faker, botocore, s3transfer, rdt, deepecho, copulas, sdmetrics, ctgan, boto3, sdv\n",
            "  Attempting uninstall: plotly\n",
            "    Found existing installation: plotly 5.15.0\n",
            "    Uninstalling plotly-5.15.0:\n",
            "      Successfully uninstalled plotly-5.15.0\n",
            "Successfully installed Faker-29.0.0 boto3-1.35.24 botocore-1.35.24 copulas-0.11.1 ctgan-0.10.1 deepecho-0.6.0 jmespath-1.0.1 plotly-5.24.1 rdt-1.12.4 s3transfer-0.10.2 sdmetrics-0.15.1 sdv-1.16.1\n"
          ]
        }
      ]
    },
    {
      "cell_type": "code",
      "execution_count": null,
      "metadata": {
        "id": "IBZC9HPNn8J6"
      },
      "outputs": [],
      "source": [
        "# 제출 파일 생성 관련\n",
        "import os\n",
        "import zipfile\n",
        "\n",
        "# 데이터 처리 및 분석\n",
        "import pandas as pd\n",
        "import numpy as np\n",
        "from scipy import stats\n",
        "from tqdm import tqdm\n",
        "\n",
        "# 머신러닝 전처리\n",
        "from sklearn.preprocessing import LabelEncoder, OrdinalEncoder\n",
        "\n",
        "# 머신러닝 모델\n",
        "from xgboost import XGBClassifier\n",
        "\n",
        "# 합성 데이터 생성\n",
        "from sdv.metadata import SingleTableMetadata\n",
        "from sdv.single_table import CTGANSynthesizer\n",
        "\n",
        "# To ignore all warnings\n",
        "import warnings\n",
        "warnings.filterwarnings('ignore')"
      ]
    },
    {
      "cell_type": "code",
      "source": [
        "from google.colab import drive\n",
        "drive.mount('/content/drive')"
      ],
      "metadata": {
        "colab": {
          "base_uri": "https://localhost:8080/"
        },
        "id": "JNbBleahxefl",
        "outputId": "8c8c1e2a-9211-406a-bfb6-bc0e5beee9b4"
      },
      "execution_count": null,
      "outputs": [
        {
          "output_type": "stream",
          "name": "stdout",
          "text": [
            "Mounted at /content/drive\n"
          ]
        }
      ]
    },
    {
      "cell_type": "markdown",
      "metadata": {
        "id": "UsjxjP7Vn8J7"
      },
      "source": [
        "# 생성 🏭"
      ]
    },
    {
      "cell_type": "markdown",
      "metadata": {
        "id": "dKRY-IL_n8J7"
      },
      "source": [
        "# Load Data"
      ]
    },
    {
      "cell_type": "code",
      "execution_count": null,
      "metadata": {
        "id": "WQwWrxFZn8J7"
      },
      "outputs": [],
      "source": [
        "train_all = pd.read_csv(\"/content/drive/MyDrive/fsi 공모전/train.csv\")\n",
        "test_all = pd.read_csv(\"/content/drive/MyDrive/fsi 공모전/test.csv\")"
      ]
    },
    {
      "cell_type": "code",
      "execution_count": null,
      "metadata": {
        "id": "vWpiulcsn8J8"
      },
      "outputs": [],
      "source": [
        "train = train_all.drop(columns=\"ID\")"
      ]
    },
    {
      "cell_type": "code",
      "execution_count": null,
      "metadata": {
        "colab": {
          "base_uri": "https://localhost:8080/"
        },
        "id": "SUceKZKln8J9",
        "outputId": "ddf5b236-f7ff-4e84-886c-d59866d6d66b",
        "scrolled": true
      },
      "outputs": [
        {
          "output_type": "stream",
          "name": "stderr",
          "text": [
            "100%|██████████| 13/13 [02:15<00:00, 10.41s/it]"
          ]
        },
        {
          "output_type": "stream",
          "name": "stdout",
          "text": [
            "\n",
            "Final All Synthetic Data Shape: (26000, 63)\n"
          ]
        },
        {
          "output_type": "stream",
          "name": "stderr",
          "text": [
            "\n"
          ]
        }
      ],
      "source": [
        "N_CLS_PER_GEN = 2000\n",
        "\n",
        "# Time_difference 컬럼을 총 초로 변환\n",
        "train['Time_difference'] = pd.to_timedelta(train['Time_difference']).dt.total_seconds()\n",
        "\n",
        "# 0보다 작은 경우 1으로 대치\n",
        "train['Time_difference'] = train['Time_difference'].clip(lower=1)\n",
        "\n",
        "# velocity 컬럼 생성 => Distance / Time_difference\n",
        "train['velocity'] = (train['Distance'])/(train['Time_difference'])\n",
        "\n",
        "# 모든 Fraud_Type 목록 생성 (m 포함)\n",
        "fraud_types = train['Fraud_Type'].unique()\n",
        "\n",
        "# 모든 합성 데이터를 저장할 DataFrame 초기화\n",
        "all_synthetic_data = pd.DataFrame()\n",
        "\n",
        "N_SAMPLE = 100\n",
        "\n",
        "# 각 Fraud_Type에 대해 합성 데이터 생성 및 저장\n",
        "for fraud_type in tqdm(fraud_types):\n",
        "\n",
        "    # 해당 Fraud_Type에 대한 서브셋 생성\n",
        "    subset = train[train[\"Fraud_Type\"] == fraud_type]\n",
        "\n",
        "    # 모든 Fraud_Type에 대해 100개씩 샘플링\n",
        "    subset = subset.sample(n=N_SAMPLE, random_state=42)\n",
        "\n",
        "    # 메타데이터 생성 및 모델 학습\n",
        "    metadata = SingleTableMetadata()\n",
        "\n",
        "    metadata.detect_from_dataframe(subset)\n",
        "    metadata.set_primary_key(None)\n",
        "\n",
        "    # 데이터 타입 설정\n",
        "    column_sdtypes = {\n",
        "        'Account_initial_balance': 'numerical',\n",
        "        'Account_balance': 'numerical',\n",
        "        'Customer_identification_number': 'categorical',\n",
        "        'Customer_personal_identifier': 'categorical',\n",
        "        'Account_account_number': 'categorical',\n",
        "        'IP_Address': 'ipv4_address',\n",
        "        'Location': 'categorical',\n",
        "        'Recipient_Account_Number': 'categorical',\n",
        "        'Fraud_Type': 'categorical',\n",
        "        'Time_difference': 'numerical',\n",
        "        'Customer_Birthyear': 'numerical'\n",
        "    }\n",
        "\n",
        "    # 각 컬럼에 대해 데이터 타입 설정\n",
        "    for column, sdtype in column_sdtypes.items():\n",
        "        metadata.update_column(\n",
        "            column_name=column,\n",
        "            sdtype=sdtype\n",
        "        )\n",
        "\n",
        "    synthesizer = CTGANSynthesizer(\n",
        "                            metadata,\n",
        "                            epochs=100\n",
        "                        )\n",
        "    synthesizer.fit(subset)\n",
        "\n",
        "    synthetic_subset = synthesizer.sample(num_rows=N_CLS_PER_GEN)\n",
        "\n",
        "    # 생성된 데이터를 all_synthetic_data에 추가\n",
        "    all_synthetic_data = pd.concat([all_synthetic_data, synthetic_subset], ignore_index=True)\n",
        "\n",
        "    # Distance 칼럼 복원 => Distance = velocity * Time_difference\n",
        "    all_synthetic_data['Distance'] = (all_synthetic_data['velocity']) * (all_synthetic_data['Time_difference'])\n",
        "\n",
        "    # velocity 칼럼 삭제\n",
        "    all_synthetic_data = all_synthetic_data.drop('velocity', axis=1)\n",
        "# 최종 결과 확인\n",
        "print(\"\\nFinal All Synthetic Data Shape:\", all_synthetic_data.shape)"
      ]
    },
    {
      "cell_type": "code",
      "source": [
        "all_synthetic_data['Fraud_Type'].value_counts()"
      ],
      "metadata": {
        "colab": {
          "base_uri": "https://localhost:8080/",
          "height": 522
        },
        "id": "-Cpg0P5LzARB",
        "outputId": "7c344cfc-5a9e-4804-8cb7-ba29a71b5536"
      },
      "execution_count": null,
      "outputs": [
        {
          "output_type": "execute_result",
          "data": {
            "text/plain": [
              "Fraud_Type\n",
              "m    2000\n",
              "a    2000\n",
              "j    2000\n",
              "h    2000\n",
              "k    2000\n",
              "c    2000\n",
              "g    2000\n",
              "i    2000\n",
              "b    2000\n",
              "f    2000\n",
              "d    2000\n",
              "e    2000\n",
              "l    2000\n",
              "Name: count, dtype: int64"
            ],
            "text/html": [
              "<div>\n",
              "<style scoped>\n",
              "    .dataframe tbody tr th:only-of-type {\n",
              "        vertical-align: middle;\n",
              "    }\n",
              "\n",
              "    .dataframe tbody tr th {\n",
              "        vertical-align: top;\n",
              "    }\n",
              "\n",
              "    .dataframe thead th {\n",
              "        text-align: right;\n",
              "    }\n",
              "</style>\n",
              "<table border=\"1\" class=\"dataframe\">\n",
              "  <thead>\n",
              "    <tr style=\"text-align: right;\">\n",
              "      <th></th>\n",
              "      <th>count</th>\n",
              "    </tr>\n",
              "    <tr>\n",
              "      <th>Fraud_Type</th>\n",
              "      <th></th>\n",
              "    </tr>\n",
              "  </thead>\n",
              "  <tbody>\n",
              "    <tr>\n",
              "      <th>m</th>\n",
              "      <td>2000</td>\n",
              "    </tr>\n",
              "    <tr>\n",
              "      <th>a</th>\n",
              "      <td>2000</td>\n",
              "    </tr>\n",
              "    <tr>\n",
              "      <th>j</th>\n",
              "      <td>2000</td>\n",
              "    </tr>\n",
              "    <tr>\n",
              "      <th>h</th>\n",
              "      <td>2000</td>\n",
              "    </tr>\n",
              "    <tr>\n",
              "      <th>k</th>\n",
              "      <td>2000</td>\n",
              "    </tr>\n",
              "    <tr>\n",
              "      <th>c</th>\n",
              "      <td>2000</td>\n",
              "    </tr>\n",
              "    <tr>\n",
              "      <th>g</th>\n",
              "      <td>2000</td>\n",
              "    </tr>\n",
              "    <tr>\n",
              "      <th>i</th>\n",
              "      <td>2000</td>\n",
              "    </tr>\n",
              "    <tr>\n",
              "      <th>b</th>\n",
              "      <td>2000</td>\n",
              "    </tr>\n",
              "    <tr>\n",
              "      <th>f</th>\n",
              "      <td>2000</td>\n",
              "    </tr>\n",
              "    <tr>\n",
              "      <th>d</th>\n",
              "      <td>2000</td>\n",
              "    </tr>\n",
              "    <tr>\n",
              "      <th>e</th>\n",
              "      <td>2000</td>\n",
              "    </tr>\n",
              "    <tr>\n",
              "      <th>l</th>\n",
              "      <td>2000</td>\n",
              "    </tr>\n",
              "  </tbody>\n",
              "</table>\n",
              "</div><br><label><b>dtype:</b> int64</label>"
            ]
          },
          "metadata": {},
          "execution_count": 11
        }
      ]
    },
    {
      "cell_type": "code",
      "source": [
        "train.shape"
      ],
      "metadata": {
        "colab": {
          "base_uri": "https://localhost:8080/"
        },
        "id": "afDJMuS2xzTO",
        "outputId": "43ae386f-f139-4607-9aa8-b14499e05109"
      },
      "execution_count": null,
      "outputs": [
        {
          "output_type": "execute_result",
          "data": {
            "text/plain": [
              "(120000, 64)"
            ]
          },
          "metadata": {},
          "execution_count": 10
        }
      ]
    },
    {
      "cell_type": "code",
      "execution_count": null,
      "metadata": {
        "id": "0mopOhaQxIOM"
      },
      "outputs": [],
      "source": [
        "df = all_synthetic_data.copy()"
      ]
    },
    {
      "cell_type": "code",
      "execution_count": null,
      "metadata": {
        "id": "bNfZ0AxLxIOM"
      },
      "outputs": [],
      "source": [
        "# Mobile이 아닌 기기 중 로밍된 데이터 제거\n",
        "df = df[~((df['Channel'] != 'mobile') & (df['Customer_mobile_roaming_indicator'] == 1))]\n",
        "# Others에서 OS가 Windows, Others가 아닌 데이터 삭제\n",
        "exclude_condition1 = (df['Channel'] == 'Others') & (df['Operating_System'].isin(['iOS','Android','Linux','macOS']))\n",
        "df = df[~exclude_condition1]\n",
        "# ATM에서 OS가 Windows, Others가 아닌 데이터 삭제\n",
        "exclude_condition2 = (df['Channel'] == 'ATM') & (df['Operating_System'].isin(['iOS','Android','Linux','macOS']))\n",
        "df = df[~exclude_condition2]\n",
        "# mobile에서 OS가 Windows, Linux, macOS인 데이터 삭제\n",
        "exclude_condition3 = (df['Channel'] == 'mobile') & (df['Operating_System'].isin(['Windows','Linux','macOS']))\n",
        "df = df[~exclude_condition3]\n",
        "# internet에서 OS가 iOS, Android인 데이터 삭제\n",
        "exclude_condition4 = (df['Channel'] == 'internet') & (df['Operating_System'].isin(['iOS','Android']))\n",
        "df = df[~exclude_condition4]"
      ]
    },
    {
      "cell_type": "code",
      "execution_count": null,
      "metadata": {
        "id": "_ktjU8MBxIOM"
      },
      "outputs": [],
      "source": [
        "synthetic_data = df.groupby('Fraud_Type').apply(lambda x: x.sample(n=1000, random_state=42) if len(x) >= 1000 else x).reset_index(drop=True)"
      ]
    },
    {
      "cell_type": "code",
      "execution_count": null,
      "metadata": {
        "colab": {
          "base_uri": "https://localhost:8080/",
          "height": 146
        },
        "id": "WAIY2X08xION",
        "outputId": "9a3af1b0-ef8e-4a7d-aa7a-7a63db4209db"
      },
      "outputs": [
        {
          "output_type": "execute_result",
          "data": {
            "text/plain": [
              "Fraud_Type\n",
              "c    4\n",
              "Name: count, dtype: int64"
            ],
            "text/html": [
              "<div>\n",
              "<style scoped>\n",
              "    .dataframe tbody tr th:only-of-type {\n",
              "        vertical-align: middle;\n",
              "    }\n",
              "\n",
              "    .dataframe tbody tr th {\n",
              "        vertical-align: top;\n",
              "    }\n",
              "\n",
              "    .dataframe thead th {\n",
              "        text-align: right;\n",
              "    }\n",
              "</style>\n",
              "<table border=\"1\" class=\"dataframe\">\n",
              "  <thead>\n",
              "    <tr style=\"text-align: right;\">\n",
              "      <th></th>\n",
              "      <th>count</th>\n",
              "    </tr>\n",
              "    <tr>\n",
              "      <th>Fraud_Type</th>\n",
              "      <th></th>\n",
              "    </tr>\n",
              "  </thead>\n",
              "  <tbody>\n",
              "    <tr>\n",
              "      <th>c</th>\n",
              "      <td>4</td>\n",
              "    </tr>\n",
              "  </tbody>\n",
              "</table>\n",
              "</div><br><label><b>dtype:</b> int64</label>"
            ]
          },
          "metadata": {},
          "execution_count": 15
        }
      ],
      "source": [
        "# 1000개 중 17개로 원본데이터와 유사한 비율을 보임.\n",
        "synthetic_data[synthetic_data['Customer_registration_datetime'] > '2013-01-01']['Fraud_Type'].value_counts()"
      ]
    },
    {
      "cell_type": "markdown",
      "metadata": {
        "id": "on6Y2G4Tn8J-"
      },
      "source": [
        "## 원본 데이터와 concat"
      ]
    },
    {
      "cell_type": "code",
      "execution_count": null,
      "metadata": {
        "colab": {
          "base_uri": "https://localhost:8080/"
        },
        "id": "uBB1Go16n8J-",
        "outputId": "4a7f943a-2ab8-4b2b-fcfe-4595b6c2d292"
      },
      "outputs": [
        {
          "output_type": "execute_result",
          "data": {
            "text/plain": [
              "(133000, 63)"
            ]
          },
          "metadata": {},
          "execution_count": 16
        }
      ],
      "source": [
        "origin_train = train_all.drop(columns=\"ID\")\n",
        "\n",
        "# train data Time_difference의 숫자형 변환\n",
        "origin_train['Time_difference'] = pd.to_timedelta(origin_train['Time_difference']).dt.total_seconds()\n",
        "# 0보다 작은 경우 1으로 대치\n",
        "origin_train['Time_difference'] = origin_train['Time_difference'].clip(lower=1)\n",
        "\n",
        "# 생성데이터와 훈련데이터 병합\n",
        "train_total = pd.concat([origin_train, synthetic_data])\n",
        "train_total.shape"
      ]
    },
    {
      "cell_type": "code",
      "execution_count": null,
      "metadata": {
        "id": "tqRt7xlBEqyW"
      },
      "outputs": [],
      "source": [
        "train_df = train_total.copy()\n",
        "test_data = test_all.copy()"
      ]
    },
    {
      "cell_type": "code",
      "execution_count": null,
      "metadata": {
        "id": "UdLnX9JlxIOO"
      },
      "outputs": [],
      "source": [
        "# Fraud_Type이 'm'인 데이터 추출\n",
        "type_m = train_df[train_df['Fraud_Type'] == 'm']\n",
        "\n",
        "# 2200개만 선택\n",
        "m_sample = type_m.sample(n=1100, random_state=42)\n",
        "\n",
        "# 나머지 Fraud_Type (a부터 l까지) 추출\n",
        "other_types = train_df[train_df['Fraud_Type'] != 'm']\n",
        "\n",
        "# 데이터프레임 병합 (m을 제외한 클래스는 두 배로 복사)\n",
        "train_data = pd.concat([m_sample, other_types, other_types, other_types])\n",
        "\n",
        "# 행의 순서를 랜덤으로 섞기\n",
        "train_data = train_data.sample(frac=1).reset_index(drop=True)"
      ]
    },
    {
      "cell_type": "code",
      "execution_count": null,
      "metadata": {
        "colab": {
          "base_uri": "https://localhost:8080/",
          "height": 522
        },
        "id": "c0SR-Hj2xIOO",
        "outputId": "1dac2d1f-e9e1-4218-97a3-cbeb821db274"
      },
      "outputs": [
        {
          "output_type": "execute_result",
          "data": {
            "text/plain": [
              "Fraud_Type\n",
              "e    3300\n",
              "c    3300\n",
              "i    3300\n",
              "j    3300\n",
              "l    3300\n",
              "k    3300\n",
              "f    3300\n",
              "a    3300\n",
              "h    3300\n",
              "d    3300\n",
              "b    3300\n",
              "g    3300\n",
              "m    1100\n",
              "Name: count, dtype: int64"
            ],
            "text/html": [
              "<div>\n",
              "<style scoped>\n",
              "    .dataframe tbody tr th:only-of-type {\n",
              "        vertical-align: middle;\n",
              "    }\n",
              "\n",
              "    .dataframe tbody tr th {\n",
              "        vertical-align: top;\n",
              "    }\n",
              "\n",
              "    .dataframe thead th {\n",
              "        text-align: right;\n",
              "    }\n",
              "</style>\n",
              "<table border=\"1\" class=\"dataframe\">\n",
              "  <thead>\n",
              "    <tr style=\"text-align: right;\">\n",
              "      <th></th>\n",
              "      <th>count</th>\n",
              "    </tr>\n",
              "    <tr>\n",
              "      <th>Fraud_Type</th>\n",
              "      <th></th>\n",
              "    </tr>\n",
              "  </thead>\n",
              "  <tbody>\n",
              "    <tr>\n",
              "      <th>e</th>\n",
              "      <td>3300</td>\n",
              "    </tr>\n",
              "    <tr>\n",
              "      <th>c</th>\n",
              "      <td>3300</td>\n",
              "    </tr>\n",
              "    <tr>\n",
              "      <th>i</th>\n",
              "      <td>3300</td>\n",
              "    </tr>\n",
              "    <tr>\n",
              "      <th>j</th>\n",
              "      <td>3300</td>\n",
              "    </tr>\n",
              "    <tr>\n",
              "      <th>l</th>\n",
              "      <td>3300</td>\n",
              "    </tr>\n",
              "    <tr>\n",
              "      <th>k</th>\n",
              "      <td>3300</td>\n",
              "    </tr>\n",
              "    <tr>\n",
              "      <th>f</th>\n",
              "      <td>3300</td>\n",
              "    </tr>\n",
              "    <tr>\n",
              "      <th>a</th>\n",
              "      <td>3300</td>\n",
              "    </tr>\n",
              "    <tr>\n",
              "      <th>h</th>\n",
              "      <td>3300</td>\n",
              "    </tr>\n",
              "    <tr>\n",
              "      <th>d</th>\n",
              "      <td>3300</td>\n",
              "    </tr>\n",
              "    <tr>\n",
              "      <th>b</th>\n",
              "      <td>3300</td>\n",
              "    </tr>\n",
              "    <tr>\n",
              "      <th>g</th>\n",
              "      <td>3300</td>\n",
              "    </tr>\n",
              "    <tr>\n",
              "      <th>m</th>\n",
              "      <td>1100</td>\n",
              "    </tr>\n",
              "  </tbody>\n",
              "</table>\n",
              "</div><br><label><b>dtype:</b> int64</label>"
            ]
          },
          "metadata": {},
          "execution_count": 19
        }
      ],
      "source": [
        "train_data['Fraud_Type'].value_counts()"
      ]
    },
    {
      "cell_type": "code",
      "execution_count": null,
      "metadata": {
        "id": "tSbatGMexIOO",
        "outputId": "fd7f9fbe-b323-4370-839e-c40ab3e15528"
      },
      "outputs": [
        {
          "data": {
            "text/plain": [
              "(120000, 63)"
            ]
          },
          "execution_count": 96,
          "metadata": {},
          "output_type": "execute_result"
        }
      ],
      "source": [
        "test_data.shape"
      ]
    },
    {
      "cell_type": "code",
      "execution_count": null,
      "metadata": {
        "id": "AXwRlvHzxIOP"
      },
      "outputs": [],
      "source": [
        "# 날짜 데이터 삭제\n",
        "train_data.drop('Account_creation_datetime', axis=1, inplace=True)\n",
        "train_data.drop('Transaction_Datetime', axis=1, inplace=True)\n",
        "train_data.drop('Last_atm_transaction_datetime', axis=1, inplace=True)\n",
        "train_data.drop('Last_bank_branch_transaction_datetime', axis=1, inplace=True)\n",
        "train_data.drop('Transaction_resumed_date', axis=1, inplace=True)\n",
        "\n",
        "test_data.drop('Account_creation_datetime', axis=1, inplace=True)\n",
        "test_data.drop('Transaction_Datetime', axis=1, inplace=True)\n",
        "test_data.drop('Last_atm_transaction_datetime', axis=1, inplace=True)\n",
        "test_data.drop('Last_bank_branch_transaction_datetime', axis=1, inplace=True)\n",
        "test_data.drop('Transaction_resumed_date', axis=1, inplace=True)"
      ]
    },
    {
      "cell_type": "code",
      "execution_count": null,
      "metadata": {
        "id": "QB459YKexIOP"
      },
      "outputs": [],
      "source": [
        "# 날짜에 따른 이진변수 생성\n",
        "train_data['Customer_registration_datetime'] = (train_data['Customer_registration_datetime'] > '2013-01-01').astype(int)\n",
        "test_data['Customer_registration_datetime'] = (test_data['Customer_registration_datetime'] > '2013-01-01').astype(int)"
      ]
    },
    {
      "cell_type": "code",
      "execution_count": null,
      "metadata": {
        "id": "VM4FW86ZAQ1S"
      },
      "outputs": [],
      "source": [
        "# test data time_difference 숫자형 변환\n",
        "test_data['Time_difference'] = pd.to_timedelta(test_data['Time_difference']).dt.total_seconds()\n",
        "test_data['Time_difference'] = test_data['Time_difference'].clip(lower=0)"
      ]
    },
    {
      "cell_type": "code",
      "execution_count": null,
      "metadata": {
        "id": "riqyZfn7BSGD"
      },
      "outputs": [],
      "source": [
        "# '도' 단위로 사용\n",
        "train_data['Location'] = train_data['Location'].apply(lambda x : x.split(' ')[0])\n",
        "test_data['Location'] = test_data['Location'].apply(lambda x : x.split(' ')[0])"
      ]
    },
    {
      "cell_type": "code",
      "execution_count": null,
      "metadata": {
        "id": "UnrHt5_9ECdU"
      },
      "outputs": [],
      "source": [
        "# 이체 한도를 순서형 범주처럼 변환\n",
        "train_data['Account_amount_daily_limit'] = (train_data['Account_amount_daily_limit']/1000000).astype(int)\n",
        "test_data['Account_amount_daily_limit'] = (test_data['Account_amount_daily_limit']/1000000).astype(int)"
      ]
    },
    {
      "cell_type": "code",
      "execution_count": null,
      "metadata": {
        "id": "665aRyJZYBE0"
      },
      "outputs": [],
      "source": [
        "# IP 주소의 맨 앞 두자리만 사용 (한자리로 바꿀 수 있음)\n",
        "train_data['IP_Address'] = train_data['IP_Address'].apply(lambda x: '.'.join(x.split('.')[:2]))\n",
        "test_data['IP_Address'] = test_data['IP_Address'].apply(lambda x: '.'.join(x.split('.')[:2]))"
      ]
    },
    {
      "cell_type": "code",
      "execution_count": null,
      "metadata": {
        "id": "dDMe8MQ5DnyY"
      },
      "outputs": [],
      "source": [
        "# 고윳값이 1개이거나 거의 1개에 가까운 변수 제거\n",
        "train_data.drop('Another_Person_Account', axis=1, inplace=True)\n",
        "train_data.drop('Account_indicator_Openbanking', axis=1, inplace=True)\n",
        "train_data.drop('First_time_iOS_by_vulnerable_user', axis=1, inplace=True)\n",
        "\n",
        "test_data.drop('Another_Person_Account', axis=1, inplace=True)\n",
        "test_data.drop('Account_indicator_Openbanking', axis=1, inplace=True)\n",
        "test_data.drop('First_time_iOS_by_vulnerable_user', axis=1, inplace=True)"
      ]
    },
    {
      "cell_type": "code",
      "execution_count": null,
      "metadata": {
        "id": "L_FPemW3TGsg"
      },
      "outputs": [],
      "source": [
        "# 삭제해도 될 것 같은 변수들. 이름\n",
        "train_data.drop('Customer_personal_identifier', axis=1, inplace=True)\n",
        "test_data.drop('Customer_personal_identifier', axis=1, inplace=True)"
      ]
    },
    {
      "cell_type": "markdown",
      "metadata": {
        "id": "9-YxBzyPn8J-"
      },
      "source": [
        "# Data Preprocessing 1 : Select x, y"
      ]
    },
    {
      "cell_type": "code",
      "execution_count": null,
      "metadata": {
        "id": "o1P5HRxLn8J-"
      },
      "outputs": [],
      "source": [
        "train_x = train_data.drop(columns=['Fraud_Type'])\n",
        "train_y = train_data['Fraud_Type']\n",
        "\n",
        "test_x = test_data.drop(columns=['ID'])"
      ]
    },
    {
      "cell_type": "markdown",
      "metadata": {
        "id": "H7Yy35h6n8J_"
      },
      "source": [
        "# Data Preprocessing 2 : 범주형 변수 인코딩"
      ]
    },
    {
      "cell_type": "code",
      "execution_count": null,
      "metadata": {
        "colab": {
          "base_uri": "https://localhost:8080/"
        },
        "id": "Vn49oIl5n8J_",
        "outputId": "f5c0ec70-7b5b-4148-8a28-7565189744c3"
      },
      "outputs": [
        {
          "name": "stdout",
          "output_type": "stream",
          "text": [
            "원래 레이블: a, 변환된 숫자: 0\n",
            "원래 레이블: b, 변환된 숫자: 1\n",
            "원래 레이블: c, 변환된 숫자: 2\n",
            "원래 레이블: d, 변환된 숫자: 3\n",
            "원래 레이블: e, 변환된 숫자: 4\n",
            "원래 레이블: f, 변환된 숫자: 5\n",
            "원래 레이블: g, 변환된 숫자: 6\n",
            "원래 레이블: h, 변환된 숫자: 7\n",
            "원래 레이블: i, 변환된 숫자: 8\n",
            "원래 레이블: j, 변환된 숫자: 9\n",
            "원래 레이블: k, 변환된 숫자: 10\n",
            "원래 레이블: l, 변환된 숫자: 11\n",
            "원래 레이블: m, 변환된 숫자: 12\n"
          ]
        }
      ],
      "source": [
        "le_subclass = LabelEncoder()\n",
        "train_y_encoded = le_subclass.fit_transform(train_y)\n",
        "\n",
        "# 변환된 레이블 확인\n",
        "for i, label in enumerate(le_subclass.classes_):\n",
        "    print(f\"원래 레이블: {label}, 변환된 숫자: {i}\")"
      ]
    },
    {
      "cell_type": "code",
      "execution_count": null,
      "metadata": {
        "id": "-jiyZm4E1qWF"
      },
      "outputs": [],
      "source": [
        "# 훈련 데이터 복사\n",
        "train_x_encoded = train_x.copy()\n",
        "\n",
        "# 원핫 인코딩할 칼럼 목록\n",
        "one_hot_columns = ['Customer_loan_type']\n",
        "\n",
        "# 나머지 범주형 변수 선택 (원핫 인코딩을 하지 않을 범주형 변수)\n",
        "categorical_columns = train_x_encoded.select_dtypes(include=['object', 'category']).columns.difference(one_hot_columns)\n",
        "\n",
        "# Ordinal Encoding\n",
        "ordinal_encoder = OrdinalEncoder(handle_unknown='use_encoded_value', unknown_value=-1)\n",
        "train_x_encoded[categorical_columns] = ordinal_encoder.fit_transform(train_x_encoded[categorical_columns])\n",
        "\n",
        "# 원핫 인코딩 적용\n",
        "train_x_encoded = pd.get_dummies(train_x_encoded, columns=one_hot_columns, drop_first=True)\n",
        "\n",
        "# 특성 순서 저장\n",
        "feature_order = train_x_encoded.columns.tolist()"
      ]
    },
    {
      "cell_type": "code",
      "execution_count": null,
      "metadata": {
        "colab": {
          "base_uri": "https://localhost:8080/"
        },
        "id": "Vmp06ULuOJFd",
        "outputId": "70ee09cc-7c80-4409-ae2c-cd2754ffbc2b"
      },
      "outputs": [
        {
          "data": {
            "text/plain": [
              "(40700, 56)"
            ]
          },
          "execution_count": 108,
          "metadata": {},
          "output_type": "execute_result"
        }
      ],
      "source": [
        "train_x_encoded.shape"
      ]
    },
    {
      "cell_type": "code",
      "execution_count": null,
      "metadata": {
        "id": "qHcBvzlfEJ3Z"
      },
      "outputs": [],
      "source": [
        "import optuna\n",
        "from sklearn.model_selection import StratifiedKFold\n",
        "from sklearn.neighbors import KNeighborsClassifier\n",
        "from sklearn.metrics import f1_score"
      ]
    },
    {
      "cell_type": "code",
      "execution_count": null,
      "metadata": {
        "id": "w1dfvTDrxIOR",
        "outputId": "2bd8aea5-8d51-4896-9ff2-40d02aaa4301"
      },
      "outputs": [
        {
          "name": "stderr",
          "output_type": "stream",
          "text": [
            "[I 2024-08-28 14:25:13,388] A new study created in memory with name: no-name-13073d8a-373c-4342-aec5-a8e4b4f12cce\n",
            "[I 2024-08-28 14:27:41,343] Trial 0 finished with value: 0.9923317916700498 and parameters: {'learning_rate': 0.04370861069626263, 'n_estimators': 1912, 'max_depth': 23, 'gamma': 0.5387926357773329, 'min_child_weight': 5.524540572830659, 'subsample': 0.32479561626896214, 'colsample_bytree': 0.5290418060840998, 'reg_lambda': 0.8663099696291603, 'reg_alpha': 0.6015138967314656, 'scale_pos_weight': 7.372653200164409, 'max_delta_step': 0.20584494295802447}. Best is trial 0 with value: 0.9923317916700498.\n",
            "[I 2024-08-28 14:29:26,816] Trial 1 finished with value: 0.9950603226493719 and parameters: {'learning_rate': 0.0972918866945795, 'n_estimators': 1699, 'max_depth': 9, 'gamma': 0.16364247048639055, 'min_child_weight': 6.3187307857495805, 'subsample': 0.4433937943676302, 'colsample_bytree': 0.762378215816119, 'reg_lambda': 0.43251307362347363, 'reg_alpha': 0.2919379110578439, 'scale_pos_weight': 6.506676052501415, 'max_delta_step': 1.3949386065204183}. Best is trial 1 with value: 0.9950603226493719.\n",
            "[I 2024-08-28 14:30:42,330] Trial 2 finished with value: 0.9940618724534204 and parameters: {'learning_rate': 0.03629301836816964, 'n_estimators': 859, 'max_depth': 16, 'gamma': 0.7066583652537123, 'min_child_weight': 6.790539682592432, 'subsample': 0.6113875507308892, 'colsample_bytree': 0.7962072844310213, 'reg_lambda': 0.047403962307277725, 'reg_alpha': 0.607937307049537, 'scale_pos_weight': 2.5347171131856236, 'max_delta_step': 0.6505159298527952}. Best is trial 1 with value: 0.9950603226493719.\n",
            "[I 2024-08-28 14:32:35,865] Trial 3 finished with value: 0.9959383909524796 and parameters: {'learning_rate': 0.0953996983528, 'n_estimators': 1939, 'max_depth': 25, 'gamma': 0.2741523922560336, 'min_child_weight': 3.8324913061851325, 'subsample': 0.7473864212097256, 'colsample_bytree': 0.7200762468698007, 'reg_lambda': 0.12291619660993405, 'reg_alpha': 0.49568173320115894, 'scale_pos_weight': 1.3094966900369656, 'max_delta_step': 9.093204020787821}. Best is trial 3 with value: 0.9959383909524796.\n",
            "[I 2024-08-28 14:34:31,135] Trial 4 finished with value: 0.9891838505924282 and parameters: {'learning_rate': 0.03329019834400153, 'n_estimators': 1393, 'max_depth': 12, 'gamma': 0.46806121906002973, 'min_child_weight': 16.85459810095511, 'subsample': 0.3478835644204217, 'colsample_bytree': 0.9847923138822793, 'reg_lambda': 0.7753576905377534, 'reg_alpha': 0.9395594426226249, 'scale_pos_weight': 9.053446153848839, 'max_delta_step': 5.978999788110851}. Best is trial 3 with value: 0.9959383909524796.\n",
            "[I 2024-08-28 14:35:09,408] Trial 5 finished with value: 0.9948201734435942 and parameters: {'learning_rate': 0.09296868115208053, 'n_estimators': 359, 'max_depth': 9, 'gamma': 0.04070456001948426, 'min_child_weight': 10.434579592134666, 'subsample': 0.5109418317515857, 'colsample_bytree': 0.6356745158869479, 'reg_lambda': 0.8289087716427774, 'reg_alpha': 0.3573965733668957, 'scale_pos_weight': 3.5284105871864266, 'max_delta_step': 5.426960831582485}. Best is trial 3 with value: 0.9959383909524796.\n",
            "[I 2024-08-28 14:37:13,484] Trial 6 finished with value: 0.9786904148827895 and parameters: {'learning_rate': 0.02268318024772864, 'n_estimators': 1644, 'max_depth': 6, 'gamma': 0.8881982429404656, 'min_child_weight': 23.395098309603064, 'subsample': 0.35897254522733796, 'colsample_bytree': 0.5027610585618012, 'reg_lambda': 0.8156459670263794, 'reg_alpha': 0.7071504865037695, 'scale_pos_weight': 7.561064512368886, 'max_delta_step': 7.712703466859457}. Best is trial 3 with value: 0.9959383909524796.\n",
            "[I 2024-08-28 14:38:42,626] Trial 7 finished with value: 0.981596505122937 and parameters: {'learning_rate': 0.016664018656068133, 'n_estimators': 845, 'max_depth': 7, 'gamma': 0.7767930832880342, 'min_child_weight': 19.07564567799918, 'subsample': 0.46471841988211937, 'colsample_bytree': 0.5317791751430119, 'reg_lambda': 0.31167133939394653, 'reg_alpha': 0.3258581387047203, 'scale_pos_weight': 7.566455605042576, 'max_delta_step': 6.3755747135521315}. Best is trial 3 with value: 0.9959383909524796.\n",
            "[I 2024-08-28 14:39:51,631] Trial 8 finished with value: 0.9909442954096754 and parameters: {'learning_rate': 0.0898491468318694, 'n_estimators': 1050, 'max_depth': 7, 'gamma': 0.6419203085006955, 'min_child_weight': 23.062766409890024, 'subsample': 0.649021758055597, 'colsample_bytree': 0.8854835899772805, 'reg_lambda': 0.4943018007680264, 'reg_alpha': 0.5232100965526121, 'scale_pos_weight': 4.847869165226946, 'max_delta_step': 0.2541912674409519}. Best is trial 3 with value: 0.9959383909524796.\n",
            "[I 2024-08-28 14:40:38,934] Trial 9 finished with value: 0.9838991698424964 and parameters: {'learning_rate': 0.019710228429397403, 'n_estimators': 256, 'max_depth': 21, 'gamma': 0.28292038296869404, 'min_child_weight': 15.74855004377638, 'subsample': 0.9260531791408744, 'colsample_bytree': 0.6246461145744375, 'reg_lambda': 0.4109725401125941, 'reg_alpha': 0.7557955874045056, 'scale_pos_weight': 3.059183489424602, 'max_delta_step': 0.7697990982879299}. Best is trial 3 with value: 0.9959383909524796.\n",
            "[I 2024-08-28 14:42:21,459] Trial 10 finished with value: 0.9967015165413621 and parameters: {'learning_rate': 0.06917144074969221, 'n_estimators': 1427, 'max_depth': 30, 'gamma': 0.3121658022659596, 'min_child_weight': 1.4255341682051212, 'subsample': 0.8302740765229655, 'colsample_bytree': 0.6806559982209046, 'reg_lambda': 0.012149862901935704, 'reg_alpha': 0.09787181096853131, 'scale_pos_weight': 1.1108005260844367, 'max_delta_step': 9.923290764061804}. Best is trial 10 with value: 0.9967015165413621.\n",
            "[I 2024-08-28 14:43:58,980] Trial 11 finished with value: 0.9968306811304739 and parameters: {'learning_rate': 0.07075756834173534, 'n_estimators': 1352, 'max_depth': 30, 'gamma': 0.3082643943639809, 'min_child_weight': 1.3191700940154778, 'subsample': 0.8236947472956689, 'colsample_bytree': 0.6743595107582037, 'reg_lambda': 0.00896610914955391, 'reg_alpha': 0.007588940593869664, 'scale_pos_weight': 1.5452602682051642, 'max_delta_step': 9.987524270874559}. Best is trial 11 with value: 0.9968306811304739.\n",
            "[I 2024-08-28 14:45:42,192] Trial 12 finished with value: 0.9969971241251224 and parameters: {'learning_rate': 0.06753600496596449, 'n_estimators': 1308, 'max_depth': 30, 'gamma': 0.3715776593809629, 'min_child_weight': 1.0919597399743322, 'subsample': 0.9310924236431963, 'colsample_bytree': 0.6707503323647319, 'reg_lambda': 0.18854496492794348, 'reg_alpha': 0.0028408380219868594, 'scale_pos_weight': 1.0407344303681858, 'max_delta_step': 9.566437542337109}. Best is trial 12 with value: 0.9969971241251224.\n",
            "[I 2024-08-28 14:47:01,870] Trial 13 finished with value: 0.9927645436888508 and parameters: {'learning_rate': 0.06729346565672331, 'n_estimators': 1257, 'max_depth': 30, 'gamma': 0.3765871852818674, 'min_child_weight': 28.9948004358982, 'subsample': 0.9948465276781249, 'colsample_bytree': 0.8229217698204416, 'reg_lambda': 0.2022167832879017, 'reg_alpha': 0.0207407868343257, 'scale_pos_weight': 4.7368595472697, 'max_delta_step': 2.942416004428991}. Best is trial 12 with value: 0.9969971241251224.\n",
            "[I 2024-08-28 14:48:26,770] Trial 14 finished with value: 0.9957148997289444 and parameters: {'learning_rate': 0.07344343743413595, 'n_estimators': 1066, 'max_depth': 26, 'gamma': 0.13256898150188834, 'min_child_weight': 11.845353466505948, 'subsample': 0.8241079846621333, 'colsample_bytree': 0.6220325882329786, 'reg_lambda': 0.22990974626131686, 'reg_alpha': 0.1424426574106989, 'scale_pos_weight': 1.9432697161390018, 'max_delta_step': 8.038333215403295}. Best is trial 12 with value: 0.9969971241251224.\n",
            "[I 2024-08-28 14:49:26,705] Trial 15 finished with value: 0.9962683169486664 and parameters: {'learning_rate': 0.055458736029923364, 'n_estimators': 646, 'max_depth': 18, 'gamma': 0.5062615713228074, 'min_child_weight': 1.3306218675632535, 'subsample': 0.7272401600868831, 'colsample_bytree': 0.694384597393193, 'reg_lambda': 0.6205287588767731, 'reg_alpha': 0.21407005229549114, 'scale_pos_weight': 3.54816757625393, 'max_delta_step': 7.984012183955261}. Best is trial 12 with value: 0.9969971241251224.\n"
          ]
        },
        {
          "name": "stderr",
          "output_type": "stream",
          "text": [
            "[I 2024-08-28 14:51:01,682] Trial 16 finished with value: 0.9956638751447582 and parameters: {'learning_rate': 0.08107630501300286, 'n_estimators': 1516, 'max_depth': 28, 'gamma': 0.38232476113715913, 'min_child_weight': 10.480180004574486, 'subsample': 0.8949934195833377, 'colsample_bytree': 0.5766561179278353, 'reg_lambda': 0.14521569599048656, 'reg_alpha': 0.04081575960516835, 'scale_pos_weight': 1.003521452598798, 'max_delta_step': 9.776871518860196}. Best is trial 12 with value: 0.9969971241251224.\n",
            "[I 2024-08-28 14:52:40,635] Trial 17 finished with value: 0.9920778175384921 and parameters: {'learning_rate': 0.055131131388013004, 'n_estimators': 1215, 'max_depth': 20, 'gamma': 0.18766589802984435, 'min_child_weight': 8.928657722615005, 'subsample': 0.20980473423481372, 'colsample_bytree': 0.8366733523272174, 'reg_lambda': 0.9912859189474561, 'reg_alpha': 0.17959932103282444, 'scale_pos_weight': 2.2890041635998633, 'max_delta_step': 2.9683677471242937}. Best is trial 12 with value: 0.9969971241251224.\n",
            "[I 2024-08-28 14:55:28,384] Trial 18 finished with value: 0.9961249480934292 and parameters: {'learning_rate': 0.062202305000932455, 'n_estimators': 1681, 'max_depth': 26, 'gamma': 0.005406638502716832, 'min_child_weight': 3.349683279510989, 'subsample': 0.7490847235286239, 'colsample_bytree': 0.7406704093868243, 'reg_lambda': 0.3138480155266759, 'reg_alpha': 0.23806927680745785, 'scale_pos_weight': 4.262445096202383, 'max_delta_step': 7.167190764009181}. Best is trial 12 with value: 0.9969971241251224.\n",
            "[I 2024-08-28 14:56:24,611] Trial 19 finished with value: 0.9945709134934345 and parameters: {'learning_rate': 0.07977054512508439, 'n_estimators': 890, 'max_depth': 15, 'gamma': 0.627735135119813, 'min_child_weight': 13.469262208574303, 'subsample': 0.9898942902259423, 'colsample_bytree': 0.6633559374631878, 'reg_lambda': 0.6546741971329005, 'reg_alpha': 0.007614737344009736, 'scale_pos_weight': 5.685521744329735, 'max_delta_step': 8.965246232357295}. Best is trial 12 with value: 0.9969971241251224.\n",
            "[I 2024-08-28 14:57:50,595] Trial 20 finished with value: 0.9955340430125152 and parameters: {'learning_rate': 0.0454110049051632, 'n_estimators': 1213, 'max_depth': 23, 'gamma': 0.4067549130132297, 'min_child_weight': 7.980525072197397, 'subsample': 0.856432539151454, 'colsample_bytree': 0.906708728779495, 'reg_lambda': 0.08299327364631176, 'reg_alpha': 0.4439229065881754, 'scale_pos_weight': 9.60507318003113, 'max_delta_step': 3.796196696595427}. Best is trial 12 with value: 0.9969971241251224.\n",
            "[I 2024-08-28 14:59:36,149] Trial 21 finished with value: 0.9964722440843259 and parameters: {'learning_rate': 0.06665039521221286, 'n_estimators': 1458, 'max_depth': 30, 'gamma': 0.311594871103939, 'min_child_weight': 1.6687653717589874, 'subsample': 0.8050545394421281, 'colsample_bytree': 0.6834137704330506, 'reg_lambda': 0.006754605546176617, 'reg_alpha': 0.11386060354729544, 'scale_pos_weight': 1.4940625614295757, 'max_delta_step': 9.875862823729136}. Best is trial 12 with value: 0.9969971241251224.\n",
            "[I 2024-08-28 15:01:36,360] Trial 22 finished with value: 0.9969381986493999 and parameters: {'learning_rate': 0.07909445031619695, 'n_estimators': 1347, 'max_depth': 28, 'gamma': 0.19581196279274982, 'min_child_weight': 1.0431745561791939, 'subsample': 0.9299902968090756, 'colsample_bytree': 0.5852118044587676, 'reg_lambda': 0.026486678657673512, 'reg_alpha': 0.09838332618129482, 'scale_pos_weight': 2.1547283468851477, 'max_delta_step': 8.924037781577503}. Best is trial 12 with value: 0.9969971241251224.\n",
            "[I 2024-08-28 15:03:12,359] Trial 23 finished with value: 0.9964548977726393 and parameters: {'learning_rate': 0.08104141219500667, 'n_estimators': 1309, 'max_depth': 28, 'gamma': 0.22340353363044752, 'min_child_weight': 3.7123880255152284, 'subsample': 0.9317603162097724, 'colsample_bytree': 0.5857429353915715, 'reg_lambda': 0.2027207155880979, 'reg_alpha': 0.08453236083805195, 'scale_pos_weight': 2.49920917434507, 'max_delta_step': 8.907898277529899}. Best is trial 12 with value: 0.9969971241251224.\n",
            "[I 2024-08-28 15:04:36,963] Trial 24 finished with value: 0.9964406481175404 and parameters: {'learning_rate': 0.07678830186965897, 'n_estimators': 1008, 'max_depth': 28, 'gamma': 0.11424024227077406, 'min_child_weight': 5.0519886403513565, 'subsample': 0.9306910798522424, 'colsample_bytree': 0.5734944053373263, 'reg_lambda': 0.32683783848793074, 'reg_alpha': 0.006274678656880855, 'scale_pos_weight': 1.8355144500162968, 'max_delta_step': 6.99092452831182}. Best is trial 12 with value: 0.9969971241251224.\n",
            "[I 2024-08-28 15:07:06,567] Trial 25 finished with value: 0.9967604158653216 and parameters: {'learning_rate': 0.05826809580487764, 'n_estimators': 1568, 'max_depth': 24, 'gamma': 0.10031874916166766, 'min_child_weight': 1.1623644553395114, 'subsample': 0.7048929875886045, 'colsample_bytree': 0.606232535508134, 'reg_lambda': 0.1421055028124888, 'reg_alpha': 0.17701354775369885, 'scale_pos_weight': 3.005137618278308, 'max_delta_step': 8.845185832723848}. Best is trial 12 with value: 0.9969971241251224.\n",
            "[I 2024-08-28 15:09:09,752] Trial 26 finished with value: 0.9964798465649232 and parameters: {'learning_rate': 0.07337412736869259, 'n_estimators': 1770, 'max_depth': 27, 'gamma': 0.22817273774821442, 'min_child_weight': 3.5519515381374696, 'subsample': 0.8868655596646322, 'colsample_bytree': 0.6580150750882017, 'reg_lambda': 0.07883422593324917, 'reg_alpha': 0.09879779612339862, 'scale_pos_weight': 3.7672512092084016, 'max_delta_step': 8.30388252350378}. Best is trial 12 with value: 0.9969971241251224.\n",
            "[I 2024-08-28 15:10:00,705] Trial 27 finished with value: 0.9953306324642405 and parameters: {'learning_rate': 0.08780896307844242, 'n_estimators': 670, 'max_depth': 30, 'gamma': 0.3696960219709549, 'min_child_weight': 8.324554093392045, 'subsample': 0.7973357701382928, 'colsample_bytree': 0.713478335091035, 'reg_lambda': 0.2503900968880106, 'reg_alpha': 0.2439936958727998, 'scale_pos_weight': 1.9202234341243254, 'max_delta_step': 7.104283619442655}. Best is trial 12 with value: 0.9969971241251224.\n",
            "[I 2024-08-28 15:11:22,226] Trial 28 finished with value: 0.9959093492253611 and parameters: {'learning_rate': 0.08595405981898478, 'n_estimators': 1341, 'max_depth': 21, 'gamma': 0.4571802612215683, 'min_child_weight': 5.2198547091672065, 'subsample': 0.9959233521824076, 'colsample_bytree': 0.7583988118178068, 'reg_lambda': 0.00645311680193561, 'reg_alpha': 0.37884243550051405, 'scale_pos_weight': 2.8845611721932167, 'max_delta_step': 4.419161826892605}. Best is trial 12 with value: 0.9969971241251224.\n",
            "[I 2024-08-28 15:12:51,845] Trial 29 finished with value: 0.9951480945287855 and parameters: {'learning_rate': 0.049473561467640925, 'n_estimators': 1172, 'max_depth': 24, 'gamma': 0.5175854689543111, 'min_child_weight': 6.813074039065418, 'subsample': 0.6690478749974975, 'colsample_bytree': 0.5649010441930588, 'reg_lambda': 0.14745587452049908, 'reg_alpha': 0.9932454477001187, 'scale_pos_weight': 5.747354395634088, 'max_delta_step': 9.43283968728172}. Best is trial 12 with value: 0.9969971241251224.\n",
            "[I 2024-08-28 15:15:05,310] Trial 30 finished with value: 0.9965315353649824 and parameters: {'learning_rate': 0.06249781178997186, 'n_estimators': 1838, 'max_depth': 23, 'gamma': 0.2355932438283368, 'min_child_weight': 3.253044564026485, 'subsample': 0.7779052410199375, 'colsample_bytree': 0.5383940234824017, 'reg_lambda': 0.08685769343368334, 'reg_alpha': 0.06516900507637116, 'scale_pos_weight': 1.8054365841249527, 'max_delta_step': 8.508117950980136}. Best is trial 12 with value: 0.9969971241251224.\n",
            "[I 2024-08-28 15:17:35,847] Trial 31 finished with value: 0.9964909378058918 and parameters: {'learning_rate': 0.060482198864110714, 'n_estimators': 1557, 'max_depth': 28, 'gamma': 0.08066393001065786, 'min_child_weight': 1.1421052545711916, 'subsample': 0.6676811353721206, 'colsample_bytree': 0.606779081302616, 'reg_lambda': 0.18152071960558067, 'reg_alpha': 0.16616735648210984, 'scale_pos_weight': 2.724281859282484, 'max_delta_step': 8.910281462759066}. Best is trial 12 with value: 0.9969971241251224.\n",
            "[I 2024-08-28 15:19:35,907] Trial 32 finished with value: 0.9956820114434766 and parameters: {'learning_rate': 0.04937951313670018, 'n_estimators': 1537, 'max_depth': 25, 'gamma': 0.16730644806619066, 'min_child_weight': 5.052753729182712, 'subsample': 0.5497775224076928, 'colsample_bytree': 0.6413894216704602, 'reg_lambda': 0.1144062173398826, 'reg_alpha': 0.26015364935207436, 'scale_pos_weight': 3.1780175813727514, 'max_delta_step': 9.397842201931729}. Best is trial 12 with value: 0.9969971241251224.\n"
          ]
        },
        {
          "name": "stderr",
          "output_type": "stream",
          "text": [
            "[I 2024-08-28 15:21:35,890] Trial 33 finished with value: 0.9966705890153594 and parameters: {'learning_rate': 0.07151978930757344, 'n_estimators': 1575, 'max_depth': 27, 'gamma': 0.10207271549457508, 'min_child_weight': 2.752705964569417, 'subsample': 0.8705700577903196, 'colsample_bytree': 0.5956891284569581, 'reg_lambda': 0.27696381861769426, 'reg_alpha': 0.16683242585105904, 'scale_pos_weight': 1.5269875408377835, 'max_delta_step': 7.586814576991795}. Best is trial 12 with value: 0.9969971241251224.\n",
            "[I 2024-08-28 15:23:19,253] Trial 34 finished with value: 0.9958302335048052 and parameters: {'learning_rate': 0.040097213920907725, 'n_estimators': 1375, 'max_depth': 29, 'gamma': 0.3353518851359859, 'min_child_weight': 5.65398020881627, 'subsample': 0.7232642027693708, 'colsample_bytree': 0.7859671959510122, 'reg_lambda': 0.41093601413556197, 'reg_alpha': 0.001863459406494739, 'scale_pos_weight': 2.1776798284073546, 'max_delta_step': 8.561191732278907}. Best is trial 12 with value: 0.9969971241251224.\n",
            "[I 2024-08-28 15:25:14,643] Trial 35 finished with value: 0.9961851930236504 and parameters: {'learning_rate': 0.059718177628318235, 'n_estimators': 1793, 'max_depth': 25, 'gamma': 0.2559318206803439, 'min_child_weight': 6.879804914789242, 'subsample': 0.9172660999059379, 'colsample_bytree': 0.7140129278415488, 'reg_lambda': 0.05725577119957391, 'reg_alpha': 0.07282427614993067, 'scale_pos_weight': 6.439377995579704, 'max_delta_step': 9.360484046388304}. Best is trial 12 with value: 0.9969971241251224.\n",
            "[I 2024-08-28 15:27:27,502] Trial 36 finished with value: 0.9960842764618839 and parameters: {'learning_rate': 0.09783227583494272, 'n_estimators': 1949, 'max_depth': 22, 'gamma': 0.18536730112830477, 'min_child_weight': 2.382983765641753, 'subsample': 0.5984166706853735, 'colsample_bytree': 0.5514092616637158, 'reg_lambda': 0.15230869075676415, 'reg_alpha': 0.3032279411338571, 'scale_pos_weight': 4.193663319901919, 'max_delta_step': 6.489411768584985}. Best is trial 12 with value: 0.9969971241251224.\n",
            "[I 2024-08-28 15:30:34,018] Trial 37 finished with value: 0.9966632290442548 and parameters: {'learning_rate': 0.03026605938538472, 'n_estimators': 1154, 'max_depth': 19, 'gamma': 0.020519983375933637, 'min_child_weight': 1.084646779993462, 'subsample': 0.7013507109039885, 'colsample_bytree': 0.5118151822910793, 'reg_lambda': 0.3599517109882876, 'reg_alpha': 0.12829314426878907, 'scale_pos_weight': 1.0473458531262672, 'max_delta_step': 9.930566765659652}. Best is trial 12 with value: 0.9969971241251224.\n",
            "[I 2024-08-28 15:32:27,879] Trial 38 finished with value: 0.9962938667826062 and parameters: {'learning_rate': 0.06546759657620468, 'n_estimators': 1633, 'max_depth': 26, 'gamma': 0.4282872649826918, 'min_child_weight': 4.383276660487004, 'subsample': 0.9597775135866096, 'colsample_bytree': 0.6595897093126948, 'reg_lambda': 0.04702275442429789, 'reg_alpha': 0.21095352978903326, 'scale_pos_weight': 8.20082834323797, 'max_delta_step': 8.431772859746449}. Best is trial 12 with value: 0.9969971241251224.\n",
            "[I 2024-08-28 15:34:23,306] Trial 39 finished with value: 0.9949836540217355 and parameters: {'learning_rate': 0.07810320683924717, 'n_estimators': 1464, 'max_depth': 15, 'gamma': 0.06016768376551356, 'min_child_weight': 18.356078475656282, 'subsample': 0.8520077957581997, 'colsample_bytree': 0.6101792606612801, 'reg_lambda': 0.5333777312528722, 'reg_alpha': 0.4061443012970663, 'scale_pos_weight': 2.5194268691697914, 'max_delta_step': 7.573367105939229}. Best is trial 12 with value: 0.9969971241251224.\n",
            "[I 2024-08-28 15:36:22,157] Trial 40 finished with value: 0.9855514905046894 and parameters: {'learning_rate': 0.010943757916484623, 'n_estimators': 938, 'max_depth': 11, 'gamma': 0.587976595675926, 'min_child_weight': 23.34602883659565, 'subsample': 0.7705722287390598, 'colsample_bytree': 0.9985439360693054, 'reg_lambda': 0.10855880279097874, 'reg_alpha': 0.7790752587359369, 'scale_pos_weight': 1.5241025422497065, 'max_delta_step': 5.599775838976792}. Best is trial 12 with value: 0.9969971241251224.\n",
            "[I 2024-08-28 15:38:04,866] Trial 41 finished with value: 0.9964582449996804 and parameters: {'learning_rate': 0.0694368749124669, 'n_estimators': 1436, 'max_depth': 30, 'gamma': 0.316296197492136, 'min_child_weight': 2.4444866478661234, 'subsample': 0.8484267256528002, 'colsample_bytree': 0.6852350469043845, 'reg_lambda': 0.04207332026892496, 'reg_alpha': 0.07024403577791802, 'scale_pos_weight': 1.1397015041836893, 'max_delta_step': 9.950793942100352}. Best is trial 12 with value: 0.9969971241251224.\n",
            "[I 2024-08-28 15:39:39,230] Trial 42 finished with value: 0.9963603831116881 and parameters: {'learning_rate': 0.08355408910325685, 'n_estimators': 1332, 'max_depth': 29, 'gamma': 0.28495252737403504, 'min_child_weight': 2.3184912182319932, 'subsample': 0.6155050128691162, 'colsample_bytree': 0.7308206647490462, 'reg_lambda': 0.011866577791605187, 'reg_alpha': 0.1228136659030249, 'scale_pos_weight': 1.499611804543164, 'max_delta_step': 9.336044965679852}. Best is trial 12 with value: 0.9969971241251224.\n",
            "[I 2024-08-28 15:41:15,702] Trial 43 finished with value: 0.9960539429856292 and parameters: {'learning_rate': 0.05737814600608285, 'n_estimators': 1281, 'max_depth': 29, 'gamma': 0.3365911292169474, 'min_child_weight': 4.272410781964999, 'subsample': 0.8361557778856783, 'colsample_bytree': 0.6427773724825446, 'reg_lambda': 0.16173950677014773, 'reg_alpha': 0.5634999842710562, 'scale_pos_weight': 2.160503081732714, 'max_delta_step': 8.89927619806873}. Best is trial 12 with value: 0.9969971241251224.\n",
            "[I 2024-08-28 15:43:00,662] Trial 44 finished with value: 0.994359876130623 and parameters: {'learning_rate': 0.049704665718143824, 'n_estimators': 1382, 'max_depth': 27, 'gamma': 0.20232368365592485, 'min_child_weight': 27.383932859840158, 'subsample': 0.965891373054829, 'colsample_bytree': 0.6842842115537824, 'reg_lambda': 0.04640018731398267, 'reg_alpha': 0.03965902251623952, 'scale_pos_weight': 2.9953057038988793, 'max_delta_step': 9.6442105052122}. Best is trial 12 with value: 0.9969971241251224.\n",
            "[I 2024-08-28 15:45:22,704] Trial 45 finished with value: 0.99679630184608 and parameters: {'learning_rate': 0.07498894009643389, 'n_estimators': 1617, 'max_depth': 30, 'gamma': 0.14333606930942838, 'min_child_weight': 1.0860521206724723, 'subsample': 0.8977362274938574, 'colsample_bytree': 0.6260785765281541, 'reg_lambda': 0.22901370335596072, 'reg_alpha': 0.17962071764443957, 'scale_pos_weight': 1.3652951797548363, 'max_delta_step': 7.949267515517545}. Best is trial 12 with value: 0.9969971241251224.\n",
            "[I 2024-08-28 15:47:06,523] Trial 46 finished with value: 0.9959017744121912 and parameters: {'learning_rate': 0.09313418215400832, 'n_estimators': 1650, 'max_depth': 24, 'gamma': 0.1528229193587553, 'min_child_weight': 6.22180287335323, 'subsample': 0.8936879720386097, 'colsample_bytree': 0.6187746685126521, 'reg_lambda': 0.25430456064504803, 'reg_alpha': 0.2871218732477629, 'scale_pos_weight': 3.3838802570431907, 'max_delta_step': 8.037181089978818}. Best is trial 12 with value: 0.9969971241251224.\n",
            "[I 2024-08-28 15:49:00,211] Trial 47 finished with value: 0.9954632293894379 and parameters: {'learning_rate': 0.0750362944599498, 'n_estimators': 1748, 'max_depth': 29, 'gamma': 0.13087522545136485, 'min_child_weight': 21.38629165781754, 'subsample': 0.9554162262186012, 'colsample_bytree': 0.6347101443166692, 'reg_lambda': 0.20867065319276926, 'reg_alpha': 0.18482789789548842, 'scale_pos_weight': 2.6204241771434864, 'max_delta_step': 8.512688285566119}. Best is trial 12 with value: 0.9969971241251224.\n",
            "[I 2024-08-28 15:51:42,386] Trial 48 finished with value: 0.9964295827104941 and parameters: {'learning_rate': 0.0713382779505425, 'n_estimators': 1856, 'max_depth': 27, 'gamma': 0.05038011018076066, 'min_child_weight': 2.5693665885242103, 'subsample': 0.8131094194759625, 'colsample_bytree': 0.5525914087407544, 'reg_lambda': 0.1161693407143222, 'reg_alpha': 0.3279311353669079, 'scale_pos_weight': 1.7318660643873, 'max_delta_step': 6.27838271118764}. Best is trial 12 with value: 0.9969971241251224.\n",
            "[I 2024-08-28 15:53:21,186] Trial 49 finished with value: 0.9946018411628964 and parameters: {'learning_rate': 0.06445226361882893, 'n_estimators': 1607, 'max_depth': 26, 'gamma': 0.7515311079827272, 'min_child_weight': 9.972102374141274, 'subsample': 0.9049139923395346, 'colsample_bytree': 0.5965123944915889, 'reg_lambda': 0.3715463326301852, 'reg_alpha': 0.048710504122504494, 'scale_pos_weight': 3.90065409209184, 'max_delta_step': 9.109848402110904}. Best is trial 12 with value: 0.9969971241251224.\n"
          ]
        },
        {
          "name": "stderr",
          "output_type": "stream",
          "text": [
            "[I 2024-08-28 15:54:41,271] Trial 50 finished with value: 0.9957242164781732 and parameters: {'learning_rate': 0.08381853195407346, 'n_estimators': 1496, 'max_depth': 4, 'gamma': 0.26410410561859526, 'min_child_weight': 1.1195713921396255, 'subsample': 0.7735302472214554, 'colsample_bytree': 0.5174176337591558, 'reg_lambda': 0.2918042986519578, 'reg_alpha': 0.14466719203091102, 'scale_pos_weight': 2.233751127623563, 'max_delta_step': 1.6591631045550792}. Best is trial 12 with value: 0.9969971241251224.\n",
            "[I 2024-08-28 15:55:52,941] Trial 51 finished with value: 0.9950176518826837 and parameters: {'learning_rate': 0.06886434940381944, 'n_estimators': 1110, 'max_depth': 30, 'gamma': 0.8986828190179268, 'min_child_weight': 4.072072017383184, 'subsample': 0.8656714775370659, 'colsample_bytree': 0.7025558566030652, 'reg_lambda': 0.11156491076945235, 'reg_alpha': 0.6751104391614813, 'scale_pos_weight': 1.2308931620363737, 'max_delta_step': 9.981483196709153}. Best is trial 12 with value: 0.9969971241251224.\n",
            "[I 2024-08-28 15:57:23,677] Trial 52 finished with value: 0.9960192803810098 and parameters: {'learning_rate': 0.07645422810883776, 'n_estimators': 1412, 'max_depth': 29, 'gamma': 0.3620451482275815, 'min_child_weight': 2.1408298927108884, 'subsample': 0.39451109587602895, 'colsample_bytree': 0.6622554181043272, 'reg_lambda': 0.012803982593725172, 'reg_alpha': 0.10244008088526063, 'scale_pos_weight': 1.0572566871160398, 'max_delta_step': 9.541018441516579}. Best is trial 12 with value: 0.9969971241251224.\n",
            "[I 2024-08-28 15:58:59,042] Trial 53 finished with value: 0.9964173383445634 and parameters: {'learning_rate': 0.0575149500518784, 'n_estimators': 1244, 'max_depth': 28, 'gamma': 0.40378909484225384, 'min_child_weight': 3.137961999202873, 'subsample': 0.8248922159166373, 'colsample_bytree': 0.6695265430654608, 'reg_lambda': 0.1753334817733735, 'reg_alpha': 0.2127320239826797, 'scale_pos_weight': 1.4000988559462437, 'max_delta_step': 8.794062869174715}. Best is trial 12 with value: 0.9969971241251224.\n",
            "[I 2024-08-28 16:01:26,896] Trial 54 finished with value: 0.9970081595993433 and parameters: {'learning_rate': 0.0527744780291379, 'n_estimators': 1690, 'max_depth': 30, 'gamma': 0.2931713655890639, 'min_child_weight': 1.0654578921933648, 'subsample': 0.9438530755013759, 'colsample_bytree': 0.7852213001579419, 'reg_lambda': 0.0692174353157601, 'reg_alpha': 0.03662328560611763, 'scale_pos_weight': 2.0632985375506028, 'max_delta_step': 7.889146954893609}. Best is trial 54 with value: 0.9970081595993433.\n",
            "[I 2024-08-28 16:03:33,274] Trial 55 finished with value: 0.9960115894965689 and parameters: {'learning_rate': 0.0525542052042774, 'n_estimators': 1998, 'max_depth': 30, 'gamma': 0.2834522594971313, 'min_child_weight': 7.312152362144106, 'subsample': 0.9355188743085835, 'colsample_bytree': 0.8275631116436533, 'reg_lambda': 0.2269104683413384, 'reg_alpha': 0.02613766662591538, 'scale_pos_weight': 2.1336338646227704, 'max_delta_step': 8.042118141047254}. Best is trial 54 with value: 0.9970081595993433.\n",
            "[I 2024-08-28 16:05:47,509] Trial 56 finished with value: 0.9964593490379798 and parameters: {'learning_rate': 0.04482266575522228, 'n_estimators': 1707, 'max_depth': 27, 'gamma': 0.15361532345368242, 'min_child_weight': 4.779073352293318, 'subsample': 0.9693880559331761, 'colsample_bytree': 0.7839663734195883, 'reg_lambda': 0.07648282587777716, 'reg_alpha': 0.052315063160206135, 'scale_pos_weight': 4.927385775279775, 'max_delta_step': 6.739028225202588}. Best is trial 54 with value: 0.9970081595993433.\n",
            "[I 2024-08-28 16:07:57,604] Trial 57 finished with value: 0.9957350294695976 and parameters: {'learning_rate': 0.05332838745240442, 'n_estimators': 1723, 'max_depth': 17, 'gamma': 0.08437993980678499, 'min_child_weight': 14.79339458022628, 'subsample': 0.8868892344094835, 'colsample_bytree': 0.857798161755622, 'reg_lambda': 0.7166835567327432, 'reg_alpha': 0.15339947148372618, 'scale_pos_weight': 2.458669451540237, 'max_delta_step': 7.384414783039732}. Best is trial 54 with value: 0.9970081595993433.\n",
            "[I 2024-08-28 16:09:42,442] Trial 58 finished with value: 0.9964573012648541 and parameters: {'learning_rate': 0.08976120363868666, 'n_estimators': 1508, 'max_depth': 28, 'gamma': 0.20864108098990986, 'min_child_weight': 1.0981162365486212, 'subsample': 0.9418785183511998, 'colsample_bytree': 0.7464061250408537, 'reg_lambda': 0.13778663763913745, 'reg_alpha': 0.8741436457524652, 'scale_pos_weight': 1.7625962501167016, 'max_delta_step': 7.983245187029286}. Best is trial 54 with value: 0.9970081595993433.\n",
            "[I 2024-08-28 16:11:49,595] Trial 59 finished with value: 0.9963505480808816 and parameters: {'learning_rate': 0.04017532722797826, 'n_estimators': 1613, 'max_depth': 24, 'gamma': 0.24309593803545612, 'min_child_weight': 3.6255913288853314, 'subsample': 0.9978626515943259, 'colsample_bytree': 0.8027126717645814, 'reg_lambda': 0.47271679425576146, 'reg_alpha': 0.09137988380330225, 'scale_pos_weight': 3.106325482950208, 'max_delta_step': 9.265470599100937}. Best is trial 54 with value: 0.9970081595993433.\n",
            "[I 2024-08-28 16:13:19,553] Trial 60 finished with value: 0.9932838390114007 and parameters: {'learning_rate': 0.06515656505019406, 'n_estimators': 1293, 'max_depth': 29, 'gamma': 0.49577969683144896, 'min_child_weight': 6.104984717084006, 'subsample': 0.23809823833398547, 'colsample_bytree': 0.5871082036013103, 'reg_lambda': 0.1848689946850735, 'reg_alpha': 0.47587911067610267, 'scale_pos_weight': 1.9001624078335142, 'max_delta_step': 4.878734230087331}. Best is trial 54 with value: 0.9970081595993433.\n",
            "[I 2024-08-28 16:15:01,827] Trial 61 finished with value: 0.9967114704516838 and parameters: {'learning_rate': 0.07311394513736215, 'n_estimators': 1431, 'max_depth': 30, 'gamma': 0.3220547905615079, 'min_child_weight': 2.10905189164629, 'subsample': 0.9144611930217058, 'colsample_bytree': 0.6251652365571424, 'reg_lambda': 0.042444162539341114, 'reg_alpha': 0.11613897303766789, 'scale_pos_weight': 1.395040309370915, 'max_delta_step': 8.745556281488566}. Best is trial 54 with value: 0.9970081595993433.\n",
            "[I 2024-08-28 16:16:46,915] Trial 62 finished with value: 0.9966706491617785 and parameters: {'learning_rate': 0.07263528569865198, 'n_estimators': 1465, 'max_depth': 30, 'gamma': 0.3001669683449977, 'min_child_weight': 2.025240197470173, 'subsample': 0.914039527098295, 'colsample_bytree': 0.6280206113036128, 'reg_lambda': 0.07861561619097135, 'reg_alpha': 0.18790663475031377, 'scale_pos_weight': 1.3754478992333614, 'max_delta_step': 8.25167488377976}. Best is trial 54 with value: 0.9970081595993433.\n",
            "[I 2024-08-28 16:18:23,429] Trial 63 finished with value: 0.996535408313075 and parameters: {'learning_rate': 0.07894997550221046, 'n_estimators': 1381, 'max_depth': 28, 'gamma': 0.4220795583349789, 'min_child_weight': 2.1033163040287546, 'subsample': 0.8736918319844125, 'colsample_bytree': 0.6441202408669484, 'reg_lambda': 0.9395025333008924, 'reg_alpha': 0.03064041541747825, 'scale_pos_weight': 1.6235391488428232, 'max_delta_step': 8.691798534620201}. Best is trial 54 with value: 0.9970081595993433.\n",
            "[I 2024-08-28 16:20:33,299] Trial 64 finished with value: 0.9963831841258444 and parameters: {'learning_rate': 0.06853612937821908, 'n_estimators': 1558, 'max_depth': 29, 'gamma': 0.3484461670559758, 'min_child_weight': 3.486288873943084, 'subsample': 0.9728520410618127, 'colsample_bytree': 0.5674221980719834, 'reg_lambda': 0.037320497474296555, 'reg_alpha': 0.12162715730922478, 'scale_pos_weight': 2.0237118866154766, 'max_delta_step': 7.782707094532771}. Best is trial 54 with value: 0.9970081595993433.\n",
            "[I 2024-08-28 16:22:17,450] Trial 65 finished with value: 0.9966335165312487 and parameters: {'learning_rate': 0.0617585242694374, 'n_estimators': 1203, 'max_depth': 30, 'gamma': 0.3810076525638954, 'min_child_weight': 1.0506363214028789, 'subsample': 0.9151354042189217, 'colsample_bytree': 0.7692024012273712, 'reg_lambda': 0.10039310398115533, 'reg_alpha': 0.0068781696299565626, 'scale_pos_weight': 2.7917234267814255, 'max_delta_step': 9.000289034766785}. Best is trial 54 with value: 0.9970081595993433.\n",
            "[I 2024-08-28 16:23:58,397] Trial 66 finished with value: 0.996390792101398 and parameters: {'learning_rate': 0.08224063366063597, 'n_estimators': 1668, 'max_depth': 27, 'gamma': 0.18058681962841086, 'min_child_weight': 3.0116542231581045, 'subsample': 0.9381824991090436, 'colsample_bytree': 0.9479501478983964, 'reg_lambda': 0.002487522474964709, 'reg_alpha': 0.08412828583477244, 'scale_pos_weight': 2.2711550725529306, 'max_delta_step': 9.62479551491414}. Best is trial 54 with value: 0.9970081595993433.\n"
          ]
        },
        {
          "name": "stderr",
          "output_type": "stream",
          "text": [
            "[I 2024-08-28 16:25:52,241] Trial 67 finished with value: 0.9955148743283064 and parameters: {'learning_rate': 0.07478995298902463, 'n_estimators': 1839, 'max_depth': 25, 'gamma': 0.2613552055756396, 'min_child_weight': 12.692486366625788, 'subsample': 0.8016389872887526, 'colsample_bytree': 0.6029484604546204, 'reg_lambda': 0.06793890024923045, 'reg_alpha': 0.24285395287094835, 'scale_pos_weight': 1.012494125633359, 'max_delta_step': 9.21506182233648}. Best is trial 54 with value: 0.9970081595993433.\n",
            "[I 2024-08-28 16:26:41,333] Trial 68 finished with value: 0.9960722111018768 and parameters: {'learning_rate': 0.08646095716124884, 'n_estimators': 507, 'max_depth': 28, 'gamma': 0.10851720786706873, 'min_child_weight': 4.557900045753485, 'subsample': 0.7543007461865636, 'colsample_bytree': 0.7041335010779479, 'reg_lambda': 0.14355622662469014, 'reg_alpha': 0.052808545363822644, 'scale_pos_weight': 3.3393590057180473, 'max_delta_step': 7.309068135142363}. Best is trial 54 with value: 0.9970081595993433.\n",
            "[I 2024-08-28 16:28:13,672] Trial 69 finished with value: 0.9964200602908436 and parameters: {'learning_rate': 0.05795724370918641, 'n_estimators': 1111, 'max_depth': 26, 'gamma': 0.22148233872651357, 'min_child_weight': 1.8799438672689672, 'subsample': 0.7036638074023903, 'colsample_bytree': 0.6221550434478492, 'reg_lambda': 0.2385178824964707, 'reg_alpha': 0.14096791850891188, 'scale_pos_weight': 1.6925909869810587, 'max_delta_step': 8.71739385841965}. Best is trial 54 with value: 0.9970081595993433.\n",
            "[I 2024-08-28 16:29:42,662] Trial 70 finished with value: 0.9958490359217862 and parameters: {'learning_rate': 0.0631829316248417, 'n_estimators': 1343, 'max_depth': 29, 'gamma': 0.47252764199981345, 'min_child_weight': 5.61402010635327, 'subsample': 0.8867032238357897, 'colsample_bytree': 0.585649132532854, 'reg_lambda': 0.03345058319149737, 'reg_alpha': 0.1971131862378298, 'scale_pos_weight': 2.458543151605001, 'max_delta_step': 8.35089524964581}. Best is trial 54 with value: 0.9970081595993433.\n",
            "[I 2024-08-28 16:31:25,120] Trial 71 finished with value: 0.996604493517701 and parameters: {'learning_rate': 0.07018798873365696, 'n_estimators': 1434, 'max_depth': 30, 'gamma': 0.3141371172811501, 'min_child_weight': 1.6237828976263788, 'subsample': 0.835415007415451, 'colsample_bytree': 0.6773659439010711, 'reg_lambda': 0.06594133386160464, 'reg_alpha': 0.10557598269467627, 'scale_pos_weight': 1.2713902715791536, 'max_delta_step': 9.813282417939124}. Best is trial 54 with value: 0.9970081595993433.\n",
            "[I 2024-08-28 16:33:11,623] Trial 72 finished with value: 0.9966949598970061 and parameters: {'learning_rate': 0.06781349652921623, 'n_estimators': 1522, 'max_depth': 30, 'gamma': 0.33178363685150497, 'min_child_weight': 3.029266035350094, 'subsample': 0.8642374709494297, 'colsample_bytree': 0.7321469779263974, 'reg_lambda': 0.02661436973080268, 'reg_alpha': 0.0018849390819847822, 'scale_pos_weight': 1.9429749018715414, 'max_delta_step': 9.528500684728476}. Best is trial 54 with value: 0.9970081595993433.\n",
            "[I 2024-08-28 16:34:28,162] Trial 73 finished with value: 0.9947862773257947 and parameters: {'learning_rate': 0.07700351846650642, 'n_estimators': 1252, 'max_depth': 28, 'gamma': 0.860779509672933, 'min_child_weight': 1.7916453037161608, 'subsample': 0.49939917256591626, 'colsample_bytree': 0.6404369324270162, 'reg_lambda': 0.10386991627471516, 'reg_alpha': 0.07847854010022506, 'scale_pos_weight': 1.2984623025728215, 'max_delta_step': 9.124600529568992}. Best is trial 54 with value: 0.9970081595993433.\n",
            "[I 2024-08-28 16:36:12,905] Trial 74 finished with value: 0.9962735472439654 and parameters: {'learning_rate': 0.07340685600610512, 'n_estimators': 1577, 'max_depth': 13, 'gamma': 0.1385304402991003, 'min_child_weight': 4.063725430520673, 'subsample': 0.7955201376194405, 'colsample_bytree': 0.6517296984878467, 'reg_lambda': 0.5577128053242332, 'reg_alpha': 0.1608481272164587, 'scale_pos_weight': 1.6211956168906365, 'max_delta_step': 9.69428697450185}. Best is trial 54 with value: 0.9970081595993433.\n",
            "[I 2024-08-28 16:37:28,898] Trial 75 finished with value: 0.9965546165548519 and parameters: {'learning_rate': 0.08082843322644978, 'n_estimators': 1009, 'max_depth': 29, 'gamma': 0.39339759172759486, 'min_child_weight': 2.5227265835965262, 'subsample': 0.9470153218741555, 'colsample_bytree': 0.6143712856810816, 'reg_lambda': 0.1259194213159684, 'reg_alpha': 0.03904124374708687, 'scale_pos_weight': 1.3555420304812515, 'max_delta_step': 8.236638722584978}. Best is trial 54 with value: 0.9970081595993433.\n",
            "[I 2024-08-28 16:39:41,102] Trial 76 finished with value: 0.9969681166203745 and parameters: {'learning_rate': 0.0666347091263877, 'n_estimators': 1486, 'max_depth': 27, 'gamma': 0.3018263767202625, 'min_child_weight': 1.7359333633558052, 'subsample': 0.9023904288112988, 'colsample_bytree': 0.5543081645971142, 'reg_lambda': 0.058472876393282795, 'reg_alpha': 0.1116909759884694, 'scale_pos_weight': 6.934725123762522, 'max_delta_step': 8.694592784768336}. Best is trial 54 with value: 0.9970081595993433.\n",
            "[I 2024-08-28 16:41:48,608] Trial 77 finished with value: 0.9964533266702535 and parameters: {'learning_rate': 0.059469496991493016, 'n_estimators': 1488, 'max_depth': 26, 'gamma': 0.43524335897277244, 'min_child_weight': 3.0470926695305045, 'subsample': 0.979418472052997, 'colsample_bytree': 0.5551653179595264, 'reg_lambda': 0.1906947266933697, 'reg_alpha': 0.12613095363462273, 'scale_pos_weight': 7.187447214546956, 'max_delta_step': 6.90651522580006}. Best is trial 54 with value: 0.9970081595993433.\n",
            "[I 2024-08-28 16:43:22,814] Trial 78 finished with value: 0.9962461803181354 and parameters: {'learning_rate': 0.06635298723378097, 'n_estimators': 1323, 'max_depth': 27, 'gamma': 0.3013920476829674, 'min_child_weight': 5.102944401537277, 'subsample': 0.907669877648278, 'colsample_bytree': 0.5839107057117353, 'reg_lambda': 0.16222326058406916, 'reg_alpha': 0.26275071635325475, 'scale_pos_weight': 6.447798650847576, 'max_delta_step': 7.86919276896468}. Best is trial 54 with value: 0.9970081595993433.\n",
            "[I 2024-08-28 16:46:05,530] Trial 79 finished with value: 0.9967204712438436 and parameters: {'learning_rate': 0.05205747653756435, 'n_estimators': 1790, 'max_depth': 26, 'gamma': 0.25327950154986, 'min_child_weight': 1.623411874879392, 'subsample': 0.8813154676983368, 'colsample_bytree': 0.5341530398954959, 'reg_lambda': 0.21512808588410026, 'reg_alpha': 0.07188118158153156, 'scale_pos_weight': 8.368448990499667, 'max_delta_step': 7.49184827370409}. Best is trial 54 with value: 0.9970081595993433.\n",
            "[I 2024-08-28 16:48:54,061] Trial 80 finished with value: 0.9966634927426303 and parameters: {'learning_rate': 0.047995166450560796, 'n_estimators': 1804, 'max_depth': 22, 'gamma': 0.20408718711542928, 'min_child_weight': 1.0581301639561147, 'subsample': 0.8479140877522499, 'colsample_bytree': 0.5278421442184699, 'reg_lambda': 0.19882010913672019, 'reg_alpha': 0.06277255474962053, 'scale_pos_weight': 8.551285135804626, 'max_delta_step': 7.6086860075999745}. Best is trial 54 with value: 0.9970081595993433.\n",
            "[I 2024-08-28 16:51:30,059] Trial 81 finished with value: 0.9965313871788102 and parameters: {'learning_rate': 0.05379285216448675, 'n_estimators': 1699, 'max_depth': 25, 'gamma': 0.25106869473157106, 'min_child_weight': 1.7721112014641176, 'subsample': 0.8844915769019503, 'colsample_bytree': 0.5012941432373128, 'reg_lambda': 0.057323856907631254, 'reg_alpha': 0.09549982705947789, 'scale_pos_weight': 6.854162723908346, 'max_delta_step': 8.74922386812416}. Best is trial 54 with value: 0.9970081595993433.\n",
            "[I 2024-08-28 16:53:48,313] Trial 82 finished with value: 0.9968220513677186 and parameters: {'learning_rate': 0.05098589858601374, 'n_estimators': 1891, 'max_depth': 26, 'gamma': 0.35820646361429964, 'min_child_weight': 3.564999679376114, 'subsample': 0.9232075196717427, 'colsample_bytree': 0.5331372389713428, 'reg_lambda': 0.14000279502153212, 'reg_alpha': 0.02859567394992401, 'scale_pos_weight': 7.886470553970069, 'max_delta_step': 8.208341517843579}. Best is trial 54 with value: 0.9970081595993433.\n",
            "[I 2024-08-28 16:56:07,093] Trial 83 finished with value: 0.9965634128096958 and parameters: {'learning_rate': 0.04761971065712799, 'n_estimators': 1859, 'max_depth': 24, 'gamma': 0.35576493765622524, 'min_child_weight': 3.8031875224528138, 'subsample': 0.9284939440517793, 'colsample_bytree': 0.5371843731708745, 'reg_lambda': 0.2580983129212999, 'reg_alpha': 0.04092481732855631, 'scale_pos_weight': 8.236937728938836, 'max_delta_step': 8.232442435985597}. Best is trial 54 with value: 0.9970081595993433.\n"
          ]
        },
        {
          "name": "stderr",
          "output_type": "stream",
          "text": [
            "[I 2024-08-28 16:59:03,812] Trial 84 finished with value: 0.9968665225291866 and parameters: {'learning_rate': 0.042009572013753146, 'n_estimators': 1906, 'max_depth': 26, 'gamma': 0.28432857507849635, 'min_child_weight': 2.8071209124640184, 'subsample': 0.9504376950663768, 'colsample_bytree': 0.5248519889258145, 'reg_lambda': 0.34932201049574624, 'reg_alpha': 0.025319229856391557, 'scale_pos_weight': 9.649885929541455, 'max_delta_step': 7.436792516016767}. Best is trial 54 with value: 0.9970081595993433.\n",
            "[I 2024-08-28 17:01:58,803] Trial 85 finished with value: 0.9966039117595337 and parameters: {'learning_rate': 0.04331669523820592, 'n_estimators': 1889, 'max_depth': 25, 'gamma': 0.29159526093268895, 'min_child_weight': 2.704756980859953, 'subsample': 0.9475472656876068, 'colsample_bytree': 0.5180457259147133, 'reg_lambda': 0.33439774283777945, 'reg_alpha': 0.019970074031703183, 'scale_pos_weight': 9.852517022145703, 'max_delta_step': 8.5489077418906}. Best is trial 54 with value: 0.9970081595993433.\n",
            "[I 2024-08-28 17:04:36,621] Trial 86 finished with value: 0.9968363219360341 and parameters: {'learning_rate': 0.030775218216031634, 'n_estimators': 1750, 'max_depth': 27, 'gamma': 0.16850060322481053, 'min_child_weight': 4.1455030207991985, 'subsample': 0.9788239475092116, 'colsample_bytree': 0.5599529465336673, 'reg_lambda': 0.43009109380758936, 'reg_alpha': 0.023529745676434843, 'scale_pos_weight': 7.729628089005855, 'max_delta_step': 9.084377127424245}. Best is trial 54 with value: 0.9970081595993433.\n",
            "[I 2024-08-28 17:07:37,870] Trial 87 finished with value: 0.9965210788135985 and parameters: {'learning_rate': 0.0258844993337864, 'n_estimators': 1998, 'max_depth': 27, 'gamma': 0.18499279252553755, 'min_child_weight': 4.379059764209356, 'subsample': 0.9794768410123327, 'colsample_bytree': 0.562143462731938, 'reg_lambda': 0.28912068708576594, 'reg_alpha': 0.03219565441600883, 'scale_pos_weight': 7.609197109830615, 'max_delta_step': 7.8182202733533614}. Best is trial 54 with value: 0.9970081595993433.\n",
            "[I 2024-08-28 17:10:14,263] Trial 88 finished with value: 0.9959411981745141 and parameters: {'learning_rate': 0.033913683034436266, 'n_estimators': 1957, 'max_depth': 28, 'gamma': 0.28036764858460184, 'min_child_weight': 9.115811177095924, 'subsample': 0.9592951653318939, 'colsample_bytree': 0.5413368954481187, 'reg_lambda': 0.4553330096921353, 'reg_alpha': 0.0023520814297975185, 'scale_pos_weight': 9.068962138383892, 'max_delta_step': 5.806626209057189}. Best is trial 54 with value: 0.9970081595993433.\n",
            "[I 2024-08-28 17:12:56,245] Trial 89 finished with value: 0.9966503191866126 and parameters: {'learning_rate': 0.026354227858308987, 'n_estimators': 1742, 'max_depth': 29, 'gamma': 0.22706312684385999, 'min_child_weight': 3.616169131727963, 'subsample': 0.9907214874930886, 'colsample_bytree': 0.57352306561562, 'reg_lambda': 0.4057796898769524, 'reg_alpha': 0.06985991470179974, 'scale_pos_weight': 5.891956537360286, 'max_delta_step': 9.034214477989186}. Best is trial 54 with value: 0.9970081595993433.\n",
            "[I 2024-08-28 17:15:08,181] Trial 90 finished with value: 0.993748038965778 and parameters: {'learning_rate': 0.04048394690500316, 'n_estimators': 1913, 'max_depth': 28, 'gamma': 0.35966360056771174, 'min_child_weight': 24.951733639946653, 'subsample': 0.9032985669514669, 'colsample_bytree': 0.5464864509235923, 'reg_lambda': 0.35767958077716344, 'reg_alpha': 0.027402555289674807, 'scale_pos_weight': 9.22678395414907, 'max_delta_step': 7.248803025215569}. Best is trial 54 with value: 0.9970081595993433.\n",
            "[I 2024-08-28 17:18:44,825] Trial 91 finished with value: 0.9968092192981647 and parameters: {'learning_rate': 0.017157039534352797, 'n_estimators': 1616, 'max_depth': 27, 'gamma': 0.1683896459833723, 'min_child_weight': 2.727073889517054, 'subsample': 0.9277373658061457, 'colsample_bytree': 0.5991798000098647, 'reg_lambda': 0.3986868167564943, 'reg_alpha': 0.05745505275521054, 'scale_pos_weight': 8.717742745325674, 'max_delta_step': 3.357372792309587}. Best is trial 54 with value: 0.9970081595993433.\n",
            "[I 2024-08-28 17:23:15,003] Trial 92 finished with value: 0.9967416985399268 and parameters: {'learning_rate': 0.013716721914394074, 'n_estimators': 1667, 'max_depth': 26, 'gamma': 0.12587701370713594, 'min_child_weight': 2.786564378483947, 'subsample': 0.9313010777036735, 'colsample_bytree': 0.52461114853279, 'reg_lambda': 0.524306446090517, 'reg_alpha': 0.05497628684373663, 'scale_pos_weight': 7.966243132521757, 'max_delta_step': 1.2753991307919934}. Best is trial 54 with value: 0.9970081595993433.\n",
            "[I 2024-08-28 17:25:35,077] Trial 93 finished with value: 0.9965284379416592 and parameters: {'learning_rate': 0.037310066804960726, 'n_estimators': 1615, 'max_depth': 27, 'gamma': 0.17713054777062087, 'min_child_weight': 5.1437025079779, 'subsample': 0.9529761896925146, 'colsample_bytree': 0.595083546055083, 'reg_lambda': 0.31596921301932807, 'reg_alpha': 0.09436939698634535, 'scale_pos_weight': 8.756477355551754, 'max_delta_step': 2.8095826670022923}. Best is trial 54 with value: 0.9970081595993433.\n",
            "[I 2024-08-28 17:28:48,279] Trial 94 finished with value: 0.9964930242204652 and parameters: {'learning_rate': 0.01827858528568302, 'n_estimators': 1778, 'max_depth': 29, 'gamma': 0.20198441787348725, 'min_child_weight': 5.948572433251199, 'subsample': 0.9994811215939793, 'colsample_bytree': 0.5587706642900117, 'reg_lambda': 0.43169989076449283, 'reg_alpha': 0.017239812625852054, 'scale_pos_weight': 7.717350262572175, 'max_delta_step': 2.603553011060459}. Best is trial 54 with value: 0.9970081595993433.\n",
            "[I 2024-08-28 17:32:06,095] Trial 95 finished with value: 0.9963388123081597 and parameters: {'learning_rate': 0.021161574168725834, 'n_estimators': 1884, 'max_depth': 23, 'gamma': 0.15407989006475295, 'min_child_weight': 7.68910006815399, 'subsample': 0.9708472666854444, 'colsample_bytree': 0.574832902749444, 'reg_lambda': 0.3743497080887161, 'reg_alpha': 0.14110348079790466, 'scale_pos_weight': 7.233925260354745, 'max_delta_step': 5.248418698949591}. Best is trial 54 with value: 0.9970081595993433.\n",
            "[I 2024-08-28 17:35:32,454] Trial 96 finished with value: 0.9966827552181418 and parameters: {'learning_rate': 0.025546722632567277, 'n_estimators': 1936, 'max_depth': 27, 'gamma': 0.2706375439154357, 'min_child_weight': 2.4559352775975967, 'subsample': 0.8987577495805518, 'colsample_bytree': 0.5103221050739013, 'reg_lambda': 0.4344283402187378, 'reg_alpha': 0.05427619104126727, 'scale_pos_weight': 9.554086831034558, 'max_delta_step': 4.432664675655396}. Best is trial 54 with value: 0.9970081595993433.\n",
            "[I 2024-08-28 17:37:58,700] Trial 97 finished with value: 0.9963473242859282 and parameters: {'learning_rate': 0.031143532226323267, 'n_estimators': 1826, 'max_depth': 25, 'gamma': 0.33519563456487117, 'min_child_weight': 3.38523233595082, 'subsample': 0.9274503834910544, 'colsample_bytree': 0.7984182311612871, 'reg_lambda': 0.09044167997911465, 'reg_alpha': 0.08625033632231091, 'scale_pos_weight': 8.629773685914937, 'max_delta_step': 4.114705818891327}. Best is trial 54 with value: 0.9970081595993433.\n",
            "[I 2024-08-28 17:40:04,770] Trial 98 finished with value: 0.9946871626564512 and parameters: {'learning_rate': 0.03651907727037877, 'n_estimators': 1739, 'max_depth': 28, 'gamma': 0.3867334860031659, 'min_child_weight': 17.15937167223779, 'subsample': 0.8565631206885594, 'colsample_bytree': 0.5999996072134888, 'reg_lambda': 0.12654057449262307, 'reg_alpha': 0.11168920614158931, 'scale_pos_weight': 6.933255606992955, 'max_delta_step': 3.6821000922213294}. Best is trial 54 with value: 0.9970081595993433.\n",
            "[I 2024-08-28 17:42:38,137] Trial 99 finished with value: 0.996909416689582 and parameters: {'learning_rate': 0.0433067166550285, 'n_estimators': 1574, 'max_depth': 26, 'gamma': 0.23748269679238618, 'min_child_weight': 1.6389492453820134, 'subsample': 0.9572999047235202, 'colsample_bytree': 0.5508093391148827, 'reg_lambda': 0.4814321214956109, 'reg_alpha': 0.018021606286329775, 'scale_pos_weight': 8.04960837980499, 'max_delta_step': 2.2816292657203308}. Best is trial 54 with value: 0.9970081595993433.\n",
            "[I 2024-08-28 17:44:32,165] Trial 100 finished with value: 0.9964235381224601 and parameters: {'learning_rate': 0.047361821335691306, 'n_estimators': 1361, 'max_depth': 23, 'gamma': 0.23667627310058492, 'min_child_weight': 4.1593448633568375, 'subsample': 0.9786534205020408, 'colsample_bytree': 0.5463281948686807, 'reg_lambda': 0.5617505634501216, 'reg_alpha': 0.022189408635794383, 'scale_pos_weight': 7.825629774744496, 'max_delta_step': 1.6554467398315276}. Best is trial 54 with value: 0.9970081595993433.\n"
          ]
        },
        {
          "name": "stderr",
          "output_type": "stream",
          "text": [
            "[I 2024-08-28 17:47:09,865] Trial 101 finished with value: 0.996763397166348 and parameters: {'learning_rate': 0.04342483181664214, 'n_estimators': 1638, 'max_depth': 26, 'gamma': 0.21596258547481156, 'min_child_weight': 1.6741193186617667, 'subsample': 0.951505284975448, 'colsample_bytree': 0.5691090994835536, 'reg_lambda': 0.4714502586343364, 'reg_alpha': 0.04265271542654893, 'scale_pos_weight': 8.101700528773605, 'max_delta_step': 2.5578283201543535}. Best is trial 54 with value: 0.9970081595993433.\n",
            "[I 2024-08-28 17:49:03,673] Trial 102 finished with value: 0.9965884374564655 and parameters: {'learning_rate': 0.051363605349680444, 'n_estimators': 1600, 'max_depth': 9, 'gamma': 0.07724190675053089, 'min_child_weight': 1.5320373576672561, 'subsample': 0.916131693209753, 'colsample_bytree': 0.5247989018909525, 'reg_lambda': 0.40102724601370343, 'reg_alpha': 0.0013394381774896602, 'scale_pos_weight': 7.41093473607063, 'max_delta_step': 3.334476530127872}. Best is trial 54 with value: 0.9970081595993433.\n",
            "[I 2024-08-28 17:50:59,560] Trial 103 finished with value: 0.9966116177580082 and parameters: {'learning_rate': 0.05510864432845185, 'n_estimators': 1528, 'max_depth': 29, 'gamma': 0.16230396534869726, 'min_child_weight': 2.282648148762246, 'subsample': 0.9339594271243278, 'colsample_bytree': 0.8129783275420756, 'reg_lambda': 0.5071410495876262, 'reg_alpha': 0.0588323557302631, 'scale_pos_weight': 8.897268475850888, 'max_delta_step': 2.383477924132315}. Best is trial 54 with value: 0.9970081595993433.\n",
            "[I 2024-08-28 17:53:13,730] Trial 104 finished with value: 0.9964754682677986 and parameters: {'learning_rate': 0.041374224710291486, 'n_estimators': 1694, 'max_depth': 30, 'gamma': 0.30132031598561104, 'min_child_weight': 3.0166392585843544, 'subsample': 0.9653187521864781, 'colsample_bytree': 0.5909898063034366, 'reg_lambda': 0.6181831679874982, 'reg_alpha': 0.07872317630244306, 'scale_pos_weight': 9.380609029693593, 'max_delta_step': 2.2445132699388184}. Best is trial 54 with value: 0.9970081595993433.\n",
            "[I 2024-08-28 17:55:44,394] Trial 105 finished with value: 0.996742320811301 and parameters: {'learning_rate': 0.03393214052605416, 'n_estimators': 1409, 'max_depth': 28, 'gamma': 0.23663228514663706, 'min_child_weight': 1.08622753403647, 'subsample': 0.9012058657291305, 'colsample_bytree': 0.5809331163063398, 'reg_lambda': 0.34062361728360846, 'reg_alpha': 0.027735021245365726, 'scale_pos_weight': 9.976082641379474, 'max_delta_step': 9.18199202114313}. Best is trial 54 with value: 0.9970081595993433.\n",
            "[I 2024-08-28 17:57:46,628] Trial 106 finished with value: 0.9962773527895399 and parameters: {'learning_rate': 0.04602436009862499, 'n_estimators': 1574, 'max_depth': 26, 'gamma': 0.2729708277392626, 'min_child_weight': 4.539764447665001, 'subsample': 0.8746747240337875, 'colsample_bytree': 0.7668955453262147, 'reg_lambda': 0.3831501671841671, 'reg_alpha': 0.10162334355171083, 'scale_pos_weight': 8.428536540718442, 'max_delta_step': 1.924689805519665}. Best is trial 54 with value: 0.9970081595993433.\n",
            "[I 2024-08-28 18:00:04,196] Trial 107 finished with value: 0.9962927079280692 and parameters: {'learning_rate': 0.02984130051904617, 'n_estimators': 1464, 'max_depth': 27, 'gamma': 0.40982465099205034, 'min_child_weight': 3.6938397930406976, 'subsample': 0.9431347715627736, 'colsample_bytree': 0.5528523923768943, 'reg_lambda': 0.43828186191122487, 'reg_alpha': 0.1313409506538167, 'scale_pos_weight': 7.9417633848866185, 'max_delta_step': 0.8368289308125041}. Best is trial 54 with value: 0.9970081595993433.\n",
            "[I 2024-08-28 18:01:53,519] Trial 108 finished with value: 0.99612681630215 and parameters: {'learning_rate': 0.0564258009294704, 'n_estimators': 1660, 'max_depth': 30, 'gamma': 0.34754583949948215, 'min_child_weight': 6.582669279259868, 'subsample': 0.9860852444894059, 'colsample_bytree': 0.6100849765976741, 'reg_lambda': 0.4814495391478603, 'reg_alpha': 0.5952716483108376, 'scale_pos_weight': 6.922250423252431, 'max_delta_step': 9.425029991428703}. Best is trial 54 with value: 0.9970081595993433.\n",
            "[I 2024-08-28 18:04:27,901] Trial 109 finished with value: 0.996792848495268 and parameters: {'learning_rate': 0.0754207690764339, 'n_estimators': 1757, 'max_depth': 29, 'gamma': 0.13834453149753345, 'min_child_weight': 2.0386781002843537, 'subsample': 0.8959387275594219, 'colsample_bytree': 0.5072859508540686, 'reg_lambda': 0.16325134435775224, 'reg_alpha': 0.06865180679465532, 'scale_pos_weight': 9.088250473385886, 'max_delta_step': 8.100656148835487}. Best is trial 54 with value: 0.9970081595993433.\n",
            "[I 2024-08-28 18:08:16,089] Trial 110 finished with value: 0.9969704219247879 and parameters: {'learning_rate': 0.015674897962286265, 'n_estimators': 1718, 'max_depth': 20, 'gamma': 0.19743903737019097, 'min_child_weight': 2.737619564152467, 'subsample': 0.9183944477489256, 'colsample_bytree': 0.5601926576326759, 'reg_lambda': 0.022768982800891784, 'reg_alpha': 0.16567685358445766, 'scale_pos_weight': 5.295706995165174, 'max_delta_step': 8.465375451103213}. Best is trial 54 with value: 0.9970081595993433.\n",
            "[I 2024-08-28 18:12:08,307] Trial 111 finished with value: 0.9969386632143424 and parameters: {'learning_rate': 0.015865762757754073, 'n_estimators': 1716, 'max_depth': 19, 'gamma': 0.19468723616989383, 'min_child_weight': 2.4515848011936523, 'subsample': 0.9193223905681118, 'colsample_bytree': 0.5654869625728222, 'reg_lambda': 0.020543599741599708, 'reg_alpha': 0.17831356272226953, 'scale_pos_weight': 5.209880251360825, 'max_delta_step': 8.5214923144534}. Best is trial 54 with value: 0.9970081595993433.\n",
            "[I 2024-08-28 18:15:38,030] Trial 112 finished with value: 0.9350992650934806 and parameters: {'learning_rate': 0.010679360469540884, 'n_estimators': 1714, 'max_depth': 18, 'gamma': 0.19366490772692135, 'min_child_weight': 2.6533481709099878, 'subsample': 0.9214920650003757, 'colsample_bytree': 0.563360267318776, 'reg_lambda': 0.026754207047214734, 'reg_alpha': 0.1530780227649852, 'scale_pos_weight': 5.168922576883331, 'max_delta_step': 0.0195120736932477}. Best is trial 54 with value: 0.9970081595993433.\n",
            "[I 2024-08-28 18:19:38,929] Trial 113 finished with value: 0.9968688664163166 and parameters: {'learning_rate': 0.015929390055472885, 'n_estimators': 1818, 'max_depth': 20, 'gamma': 0.17073705097096098, 'min_child_weight': 3.3091657082916655, 'subsample': 0.9608104014302892, 'colsample_bytree': 0.5345415966701312, 'reg_lambda': 0.023261069028990767, 'reg_alpha': 0.030238134193472658, 'scale_pos_weight': 5.34679429335883, 'max_delta_step': 8.480821575595693}. Best is trial 54 with value: 0.9970081595993433.\n",
            "[I 2024-08-28 18:23:25,282] Trial 114 finished with value: 0.9967826261580817 and parameters: {'learning_rate': 0.015449923631870945, 'n_estimators': 1816, 'max_depth': 21, 'gamma': 0.3229586979802041, 'min_child_weight': 3.153158133585389, 'subsample': 0.9745088980090222, 'colsample_bytree': 0.5380676045981468, 'reg_lambda': 0.016626915571296114, 'reg_alpha': 0.021100546909984256, 'scale_pos_weight': 4.601500050473756, 'max_delta_step': 8.372801398074337}. Best is trial 54 with value: 0.9970081595993433.\n",
            "[I 2024-08-28 18:27:46,080] Trial 115 finished with value: 0.9969412883570925 and parameters: {'learning_rate': 0.013723592388685124, 'n_estimators': 1872, 'max_depth': 19, 'gamma': 0.2210665968417517, 'min_child_weight': 1.7392946722791705, 'subsample': 0.9599935451937298, 'colsample_bytree': 0.5285988393130264, 'reg_lambda': 0.0020960646021365194, 'reg_alpha': 0.04079257352502189, 'scale_pos_weight': 6.134870403765887, 'max_delta_step': 8.520050836247336}. Best is trial 54 with value: 0.9970081595993433.\n",
            "[I 2024-08-28 18:31:32,680] Trial 116 finished with value: 0.9967901317480561 and parameters: {'learning_rate': 0.014080961771488848, 'n_estimators': 1769, 'max_depth': 20, 'gamma': 0.2510779807071658, 'min_child_weight': 1.5770814760673606, 'subsample': 0.9569393893756033, 'colsample_bytree': 0.7778252373956275, 'reg_lambda': 0.0010058932853874436, 'reg_alpha': 0.11035952511965424, 'scale_pos_weight': 6.082132501172424, 'max_delta_step': 8.552718942276263}. Best is trial 54 with value: 0.9970081595993433.\n",
            "[I 2024-08-28 18:36:05,418] Trial 117 finished with value: 0.9967125377810528 and parameters: {'learning_rate': 0.012651044242345814, 'n_estimators': 1861, 'max_depth': 19, 'gamma': 0.21381381578592673, 'min_child_weight': 2.1339910270504028, 'subsample': 0.999909982735172, 'colsample_bytree': 0.5157570389807863, 'reg_lambda': 0.05979470606700279, 'reg_alpha': 0.0014380844211667153, 'scale_pos_weight': 5.495015600865454, 'max_delta_step': 8.910202450896179}. Best is trial 54 with value: 0.9970081595993433.\n"
          ]
        },
        {
          "name": "stderr",
          "output_type": "stream",
          "text": [
            "[I 2024-08-28 18:39:29,529] Trial 118 finished with value: 0.9970456548552994 and parameters: {'learning_rate': 0.01633581105409466, 'n_estimators': 1298, 'max_depth': 19, 'gamma': 0.19549597718675066, 'min_child_weight': 1.0577292574867116, 'subsample': 0.950660085491383, 'colsample_bytree': 0.5434842150999273, 'reg_lambda': 0.036726471285321506, 'reg_alpha': 0.22333351358069525, 'scale_pos_weight': 5.332726898195509, 'max_delta_step': 9.418970431556302}. Best is trial 118 with value: 0.9970456548552994.\n",
            "[I 2024-08-28 18:42:38,013] Trial 119 finished with value: 0.996976805427051 and parameters: {'learning_rate': 0.01967275172197127, 'n_estimators': 1188, 'max_depth': 19, 'gamma': 0.11900610578436988, 'min_child_weight': 1.0236332257201974, 'subsample': 0.9441298123533292, 'colsample_bytree': 0.5468569348124183, 'reg_lambda': 0.08719016226432823, 'reg_alpha': 0.23378074431535056, 'scale_pos_weight': 5.3585568832538595, 'max_delta_step': 9.327129223870129}. Best is trial 118 with value: 0.9970456548552994.\n",
            "[I 2024-08-28 18:46:10,641] Trial 120 finished with value: 0.9971188808096141 and parameters: {'learning_rate': 0.016172952785363646, 'n_estimators': 1228, 'max_depth': 19, 'gamma': 0.11359343809952747, 'min_child_weight': 1.501027566938788, 'subsample': 0.9469488733462289, 'colsample_bytree': 0.5452195465631817, 'reg_lambda': 0.09442099943583901, 'reg_alpha': 0.2318189697845367, 'scale_pos_weight': 5.275020381894066, 'max_delta_step': 8.626501913931685}. Best is trial 120 with value: 0.9971188808096141.\n",
            "[I 2024-08-28 18:48:56,888] Trial 121 finished with value: 0.9969602972216285 and parameters: {'learning_rate': 0.023886043930174797, 'n_estimators': 1136, 'max_depth': 20, 'gamma': 0.1179007896189719, 'min_child_weight': 1.5775858572412447, 'subsample': 0.9445173207270531, 'colsample_bytree': 0.5458277304781859, 'reg_lambda': 0.09018040506829371, 'reg_alpha': 0.2219534792088701, 'scale_pos_weight': 5.086058652614361, 'max_delta_step': 8.636617451933082}. Best is trial 120 with value: 0.9971188808096141.\n",
            "[I 2024-08-28 18:52:04,610] Trial 122 finished with value: 0.9970162962740293 and parameters: {'learning_rate': 0.01934363829044446, 'n_estimators': 1169, 'max_depth': 19, 'gamma': 0.11904392253774344, 'min_child_weight': 1.5487015965928552, 'subsample': 0.9414376390540312, 'colsample_bytree': 0.5438205537501037, 'reg_lambda': 0.07914090910899041, 'reg_alpha': 0.27155525745345027, 'scale_pos_weight': 5.209252185474436, 'max_delta_step': 9.329790786254437}. Best is trial 120 with value: 0.9971188808096141.\n",
            "[I 2024-08-28 18:55:13,376] Trial 123 finished with value: 0.9970059967957603 and parameters: {'learning_rate': 0.019633986432236114, 'n_estimators': 1165, 'max_depth': 18, 'gamma': 0.10574400768288099, 'min_child_weight': 1.030130154300676, 'subsample': 0.9428930712150086, 'colsample_bytree': 0.5477188385254432, 'reg_lambda': 0.09245538225937305, 'reg_alpha': 0.22663535508329488, 'scale_pos_weight': 5.023682393050685, 'max_delta_step': 9.490819338512972}. Best is trial 120 with value: 0.9971188808096141.\n",
            "[I 2024-08-28 18:58:15,265] Trial 124 finished with value: 0.9970458227080172 and parameters: {'learning_rate': 0.020278935325122583, 'n_estimators': 1166, 'max_depth': 18, 'gamma': 0.12059168217950089, 'min_child_weight': 1.3225253491788806, 'subsample': 0.9364562490778431, 'colsample_bytree': 0.5451028919016548, 'reg_lambda': 0.09143042226216076, 'reg_alpha': 0.2308612538346087, 'scale_pos_weight': 5.030370349232174, 'max_delta_step': 9.411706005553024}. Best is trial 120 with value: 0.9971188808096141.\n",
            "[I 2024-08-28 19:01:25,430] Trial 125 finished with value: 0.997016795185629 and parameters: {'learning_rate': 0.019675988552514765, 'n_estimators': 1156, 'max_depth': 17, 'gamma': 0.0906670001562466, 'min_child_weight': 1.0352317157211832, 'subsample': 0.9109478015664648, 'colsample_bytree': 0.5445647070466473, 'reg_lambda': 0.09033718524502966, 'reg_alpha': 0.2254957988894891, 'scale_pos_weight': 5.021976999317182, 'max_delta_step': 9.321552252059666}. Best is trial 120 with value: 0.9971188808096141.\n",
            "[I 2024-08-28 19:04:23,552] Trial 126 finished with value: 0.9969306571384692 and parameters: {'learning_rate': 0.022460241196092745, 'n_estimators': 1152, 'max_depth': 17, 'gamma': 0.08877076280703958, 'min_child_weight': 1.4580200820371427, 'subsample': 0.9407354762160725, 'colsample_bytree': 0.5222435744960662, 'reg_lambda': 0.08330930982983673, 'reg_alpha': 0.22207099007695688, 'scale_pos_weight': 4.597661314625046, 'max_delta_step': 9.357797540931465}. Best is trial 120 with value: 0.9971188808096141.\n",
            "[I 2024-08-28 19:07:47,123] Trial 127 finished with value: 0.9969409960851113 and parameters: {'learning_rate': 0.019243056545860802, 'n_estimators': 1186, 'max_depth': 18, 'gamma': 0.067141721796047, 'min_child_weight': 1.077677666702558, 'subsample': 0.9072075264788472, 'colsample_bytree': 0.544499902462441, 'reg_lambda': 0.0902211715471206, 'reg_alpha': 0.302975499448484, 'scale_pos_weight': 4.912996146269151, 'max_delta_step': 9.68103224250436}. Best is trial 120 with value: 0.9971188808096141.\n",
            "[I 2024-08-28 19:11:21,440] Trial 128 finished with value: 0.9967234054314005 and parameters: {'learning_rate': 0.01966017754373921, 'n_estimators': 1133, 'max_depth': 16, 'gamma': 0.011512406200931385, 'min_child_weight': 1.9949145135919601, 'subsample': 0.8798199201870802, 'colsample_bytree': 0.5445899710086531, 'reg_lambda': 0.05197024258324964, 'reg_alpha': 0.25195972416365486, 'scale_pos_weight': 6.040297516882962, 'max_delta_step': 9.442076265401727}. Best is trial 120 with value: 0.9971188808096141.\n",
            "[I 2024-08-28 19:14:33,973] Trial 129 finished with value: 0.9968605755852643 and parameters: {'learning_rate': 0.023041672188017955, 'n_estimators': 1062, 'max_depth': 18, 'gamma': 0.03157290288101332, 'min_child_weight': 1.0110959106286652, 'subsample': 0.940422118823544, 'colsample_bytree': 0.5028261767855733, 'reg_lambda': 0.1099091124170718, 'reg_alpha': 0.2784875448428844, 'scale_pos_weight': 4.294425634326089, 'max_delta_step': 9.798632231508222}. Best is trial 120 with value: 0.9971188808096141.\n",
            "[I 2024-08-28 19:17:35,514] Trial 130 finished with value: 0.9967690908515967 and parameters: {'learning_rate': 0.021583577860773, 'n_estimators': 1236, 'max_depth': 20, 'gamma': 0.11674583963952248, 'min_child_weight': 1.9037547322031383, 'subsample': 0.911396870787771, 'colsample_bytree': 0.5766110528198598, 'reg_lambda': 0.06713411103636757, 'reg_alpha': 0.3242298379111857, 'scale_pos_weight': 5.620894186587831, 'max_delta_step': 9.2095505667035}. Best is trial 120 with value: 0.9971188808096141.\n",
            "[I 2024-08-28 19:21:07,311] Trial 131 finished with value: 0.9970006369975101 and parameters: {'learning_rate': 0.017987104699189765, 'n_estimators': 1199, 'max_depth': 17, 'gamma': 0.0645376592874074, 'min_child_weight': 1.067196815947668, 'subsample': 0.90619934088979, 'colsample_bytree': 0.5534066407266758, 'reg_lambda': 0.09294874284754406, 'reg_alpha': 0.23302361170406635, 'scale_pos_weight': 4.894216666812694, 'max_delta_step': 9.591816255280504}. Best is trial 120 with value: 0.9971188808096141.\n",
            "[I 2024-08-28 19:24:05,396] Trial 132 finished with value: 0.9960097277634425 and parameters: {'learning_rate': 0.017796858159485472, 'n_estimators': 1027, 'max_depth': 16, 'gamma': 0.05460912222669122, 'min_child_weight': 1.0331606470984696, 'subsample': 0.32140832795166374, 'colsample_bytree': 0.5309286190162136, 'reg_lambda': 0.0977412614622578, 'reg_alpha': 0.2252102786818148, 'scale_pos_weight': 5.060116984234085, 'max_delta_step': 9.621989692517108}. Best is trial 120 with value: 0.9971188808096141.\n",
            "[I 2024-08-28 19:28:00,275] Trial 133 finished with value: 0.9968122392295806 and parameters: {'learning_rate': 0.012238355046778903, 'n_estimators': 1092, 'max_depth': 17, 'gamma': 0.10163498928686203, 'min_child_weight': 1.6349091415111991, 'subsample': 0.8676976151019052, 'colsample_bytree': 0.5554496095291692, 'reg_lambda': 0.12582305374481242, 'reg_alpha': 0.20104486591166057, 'scale_pos_weight': 5.362406390805651, 'max_delta_step': 8.929801199386262}. Best is trial 120 with value: 0.9971188808096141.\n",
            "[I 2024-08-28 19:31:34,573] Trial 134 finished with value: 0.99672284215261 and parameters: {'learning_rate': 0.021064737314471553, 'n_estimators': 1212, 'max_depth': 19, 'gamma': 0.03340188796251978, 'min_child_weight': 2.2268720603085512, 'subsample': 0.9655484331618517, 'colsample_bytree': 0.516138612661543, 'reg_lambda': 0.04694557127472705, 'reg_alpha': 0.26850224644592247, 'scale_pos_weight': 4.768799430760566, 'max_delta_step': 9.982835097319697}. Best is trial 120 with value: 0.9971188808096141.\n"
          ]
        },
        {
          "name": "stderr",
          "output_type": "stream",
          "text": [
            "[I 2024-08-28 19:33:59,223] Trial 135 finished with value: 0.9966885783665111 and parameters: {'learning_rate': 0.023359410648122497, 'n_estimators': 1281, 'max_depth': 21, 'gamma': 0.11961256094481923, 'min_child_weight': 1.4842730431328606, 'subsample': 0.889526635244446, 'colsample_bytree': 0.8532333553209301, 'reg_lambda': 0.07493550193863922, 'reg_alpha': 0.23931285450842898, 'scale_pos_weight': 5.712901044191189, 'max_delta_step': 9.286812119201832}. Best is trial 120 with value: 0.9971188808096141.\n",
            "[I 2024-08-28 19:37:24,623] Trial 136 finished with value: 0.9967713107730539 and parameters: {'learning_rate': 0.01456105756466665, 'n_estimators': 957, 'max_depth': 18, 'gamma': 0.08621014720474013, 'min_child_weight': 2.354368488652388, 'subsample': 0.9379860159270491, 'colsample_bytree': 0.5417035263325867, 'reg_lambda': 0.10060335230386641, 'reg_alpha': 0.20380408351912532, 'scale_pos_weight': 4.429955418057472, 'max_delta_step': 8.782960720156712}. Best is trial 120 with value: 0.9971188808096141.\n",
            "[I 2024-08-28 19:40:05,895] Trial 137 finished with value: 0.9962766030320844 and parameters: {'learning_rate': 0.024039145377335265, 'n_estimators': 1167, 'max_depth': 15, 'gamma': 0.06541736754484173, 'min_child_weight': 1.7919432639420252, 'subsample': 0.5697907491559537, 'colsample_bytree': 0.5707437906797359, 'reg_lambda': 0.041997713607245996, 'reg_alpha': 0.3565386861385369, 'scale_pos_weight': 6.2459958001941285, 'max_delta_step': 9.519246949457907}. Best is trial 120 with value: 0.9971188808096141.\n",
            "[I 2024-08-28 19:42:27,298] Trial 138 finished with value: 0.9951358514476493 and parameters: {'learning_rate': 0.02777341604253441, 'n_estimators': 1283, 'max_depth': 19, 'gamma': 0.1411709981090983, 'min_child_weight': 20.004629953687626, 'subsample': 0.982563451815264, 'colsample_bytree': 0.5558978481570308, 'reg_lambda': 0.07634208567581027, 'reg_alpha': 0.22521558162343516, 'scale_pos_weight': 5.021394318350657, 'max_delta_step': 9.099747651435656}. Best is trial 120 with value: 0.9971188808096141.\n",
            "[I 2024-08-28 19:45:36,138] Trial 139 finished with value: 0.9967118913275798 and parameters: {'learning_rate': 0.017751674360975307, 'n_estimators': 1098, 'max_depth': 18, 'gamma': 0.08909225041738482, 'min_child_weight': 2.8733162076175356, 'subsample': 0.9250564648718645, 'colsample_bytree': 0.53195073869682, 'reg_lambda': 0.13005927589561264, 'reg_alpha': 0.2838005678279093, 'scale_pos_weight': 5.459273776370242, 'max_delta_step': 9.773774683957756}. Best is trial 120 with value: 0.9971188808096141.\n",
            "[I 2024-08-28 19:47:57,633] Trial 140 finished with value: 0.9926089787545467 and parameters: {'learning_rate': 0.01999380284842124, 'n_estimators': 1225, 'max_depth': 15, 'gamma': 0.10345938132308437, 'min_child_weight': 29.79757359081445, 'subsample': 0.9474411595107464, 'colsample_bytree': 0.5480481378999051, 'reg_lambda': 0.06412918397475753, 'reg_alpha': 0.25500785777599305, 'scale_pos_weight': 5.854049134114584, 'max_delta_step': 8.665688206524491}. Best is trial 120 with value: 0.9971188808096141.\n",
            "[I 2024-08-28 19:51:17,168] Trial 141 finished with value: 0.9971165536299404 and parameters: {'learning_rate': 0.019531546764386693, 'n_estimators': 1196, 'max_depth': 16, 'gamma': 0.07118710104879608, 'min_child_weight': 1.0162406307483338, 'subsample': 0.8986110921580315, 'colsample_bytree': 0.5414184599578542, 'reg_lambda': 0.15081601284792337, 'reg_alpha': 0.3081471552915262, 'scale_pos_weight': 4.958804724786657, 'max_delta_step': 9.657055249158775}. Best is trial 120 with value: 0.9971188808096141.\n",
            "[I 2024-08-28 19:54:57,426] Trial 142 finished with value: 0.9968579064380141 and parameters: {'learning_rate': 0.01674266140066285, 'n_estimators': 1178, 'max_depth': 17, 'gamma': 0.05169296241539083, 'min_child_weight': 1.5230182185728096, 'subsample': 0.8980050801528866, 'colsample_bytree': 0.5612994878520831, 'reg_lambda': 0.16436647002651494, 'reg_alpha': 0.32456506336413915, 'scale_pos_weight': 3.998519065677117, 'max_delta_step': 9.463349854065608}. Best is trial 120 with value: 0.9971188808096141.\n",
            "[I 2024-08-28 19:59:07,763] Trial 143 finished with value: 0.9970491403134452 and parameters: {'learning_rate': 0.0118169356590619, 'n_estimators': 1146, 'max_depth': 20, 'gamma': 0.11677699239472328, 'min_child_weight': 1.0109874762823912, 'subsample': 0.9154764750231246, 'colsample_bytree': 0.5247153822788839, 'reg_lambda': 0.11143300893162914, 'reg_alpha': 0.23154748286965166, 'scale_pos_weight': 5.2273985975697235, 'max_delta_step': 9.288433416420363}. Best is trial 120 with value: 0.9971188808096141.\n",
            "[I 2024-08-28 20:03:17,714] Trial 144 finished with value: 0.9968410311192569 and parameters: {'learning_rate': 0.011965530631440223, 'n_estimators': 1256, 'max_depth': 20, 'gamma': 0.1207253421886729, 'min_child_weight': 2.3420722827388087, 'subsample': 0.847515947946981, 'colsample_bytree': 0.5406609917267925, 'reg_lambda': 0.11707040981231656, 'reg_alpha': 0.2271047799958999, 'scale_pos_weight': 5.223789469622547, 'max_delta_step': 9.311629609428604}. Best is trial 120 with value: 0.9971188808096141.\n",
            "[I 2024-08-28 20:06:30,089] Trial 145 finished with value: 0.9969787799918283 and parameters: {'learning_rate': 0.020013804332037505, 'n_estimators': 1074, 'max_depth': 17, 'gamma': 0.0693954414553127, 'min_child_weight': 1.2954644770182, 'subsample': 0.9086781411489726, 'colsample_bytree': 0.5160775540252689, 'reg_lambda': 0.14221293941723853, 'reg_alpha': 0.19137935672890305, 'scale_pos_weight': 4.794389604785092, 'max_delta_step': 9.634053360266186}. Best is trial 120 with value: 0.9971188808096141.\n",
            "[I 2024-08-28 20:10:06,228] Trial 146 finished with value: 0.9969005802569747 and parameters: {'learning_rate': 0.019111494894807693, 'n_estimators': 1062, 'max_depth': 14, 'gamma': 0.0014053500993632118, 'min_child_weight': 1.1583661104787126, 'subsample': 0.9133614729189532, 'colsample_bytree': 0.5159746920071655, 'reg_lambda': 0.13811921987208903, 'reg_alpha': 0.1709826115704383, 'scale_pos_weight': 4.774493993806802, 'max_delta_step': 9.702792399614614}. Best is trial 120 with value: 0.9971188808096141.\n",
            "[I 2024-08-28 20:13:39,641] Trial 147 finished with value: 0.9967826767353948 and parameters: {'learning_rate': 0.020410095330338437, 'n_estimators': 1206, 'max_depth': 16, 'gamma': 0.03737674289734057, 'min_child_weight': 1.0005359670706162, 'subsample': 0.8709918684892297, 'colsample_bytree': 0.5082836501771641, 'reg_lambda': 0.17665315972573972, 'reg_alpha': 0.19618131397124788, 'scale_pos_weight': 4.547413753931924, 'max_delta_step': 9.821241901360198}. Best is trial 120 with value: 0.9971188808096141.\n",
            "[I 2024-08-28 20:17:27,953] Trial 148 finished with value: 0.996752738735678 and parameters: {'learning_rate': 0.010301651591984559, 'n_estimators': 952, 'max_depth': 17, 'gamma': 0.09686046005919746, 'min_child_weight': 2.457346320949842, 'subsample': 0.8828301860837462, 'colsample_bytree': 0.5224489612236118, 'reg_lambda': 0.14923599882115607, 'reg_alpha': 0.2419112637028713, 'scale_pos_weight': 5.588156623199116, 'max_delta_step': 9.03673561202178}. Best is trial 120 with value: 0.9971188808096141.\n",
            "[I 2024-08-28 20:20:37,832] Trial 149 finished with value: 0.9968223799177375 and parameters: {'learning_rate': 0.01644101859578439, 'n_estimators': 1112, 'max_depth': 17, 'gamma': 0.07083772709542097, 'min_child_weight': 2.132845151803711, 'subsample': 0.8969517544917452, 'colsample_bytree': 0.5770231541439163, 'reg_lambda': 0.11025731682699577, 'reg_alpha': 0.30300801467739846, 'scale_pos_weight': 4.890524118150647, 'max_delta_step': 9.539141881713666}. Best is trial 120 with value: 0.9971188808096141.\n",
            "[I 2024-08-28 20:24:08,383] Trial 150 finished with value: 0.9968979187505589 and parameters: {'learning_rate': 0.018730621377124963, 'n_estimators': 1317, 'max_depth': 22, 'gamma': 0.07640717517400512, 'min_child_weight': 3.037452565873976, 'subsample': 0.9262517059788066, 'colsample_bytree': 0.5557862189869988, 'reg_lambda': 0.051708242270112094, 'reg_alpha': 0.27034600106235795, 'scale_pos_weight': 5.321311992436934, 'max_delta_step': 9.236010788897678}. Best is trial 120 with value: 0.9971188808096141.\n",
            "[I 2024-08-28 20:26:55,758] Trial 151 finished with value: 0.9968824743678907 and parameters: {'learning_rate': 0.023823231880928847, 'n_estimators': 1139, 'max_depth': 18, 'gamma': 0.12933573961440895, 'min_child_weight': 1.547683932429132, 'subsample': 0.9361460754710091, 'colsample_bytree': 0.5007051514160746, 'reg_lambda': 0.08845483561897446, 'reg_alpha': 0.21130764585024123, 'scale_pos_weight': 5.0722598341250755, 'max_delta_step': 8.90343317251224}. Best is trial 120 with value: 0.9971188808096141.\n"
          ]
        },
        {
          "name": "stderr",
          "output_type": "stream",
          "text": [
            "[I 2024-08-28 20:30:29,852] Trial 152 finished with value: 0.9970488557036286 and parameters: {'learning_rate': 0.014592255419837673, 'n_estimators': 1037, 'max_depth': 20, 'gamma': 0.1109174317391455, 'min_child_weight': 1.0296715679668385, 'subsample': 0.9082014453755004, 'colsample_bytree': 0.5374785326290292, 'reg_lambda': 0.09698896849630513, 'reg_alpha': 0.1848485939122324, 'scale_pos_weight': 5.060201819706927, 'max_delta_step': 9.981519003324683}. Best is trial 120 with value: 0.9971188808096141.\n",
            "[I 2024-08-28 20:33:52,756] Trial 153 finished with value: 0.9970489356019943 and parameters: {'learning_rate': 0.014451649122265802, 'n_estimators': 991, 'max_depth': 19, 'gamma': 0.1491913984137076, 'min_child_weight': 1.0093529812957693, 'subsample': 0.9173109180248195, 'colsample_bytree': 0.5322889582176196, 'reg_lambda': 0.10786675147284201, 'reg_alpha': 0.1841965563818565, 'scale_pos_weight': 5.422866781668762, 'max_delta_step': 9.904666708531868}. Best is trial 120 with value: 0.9971188808096141.\n",
            "[I 2024-08-28 20:36:15,009] Trial 154 finished with value: 0.9957970584222133 and parameters: {'learning_rate': 0.014998224294540969, 'n_estimators': 836, 'max_depth': 16, 'gamma': 0.14428857468632597, 'min_child_weight': 11.232822766418828, 'subsample': 0.9231088353187598, 'colsample_bytree': 0.5332690522902068, 'reg_lambda': 0.11736447852230976, 'reg_alpha': 0.1785122978485269, 'scale_pos_weight': 5.46892870708416, 'max_delta_step': 9.888543875700393}. Best is trial 120 with value: 0.9971188808096141.\n",
            "[I 2024-08-28 20:40:02,917] Trial 155 finished with value: 0.9969493362148578 and parameters: {'learning_rate': 0.012920436480749422, 'n_estimators': 990, 'max_depth': 19, 'gamma': 0.10551289599625134, 'min_child_weight': 1.147161657174159, 'subsample': 0.9071975592659806, 'colsample_bytree': 0.5162262811283453, 'reg_lambda': 0.1014694228091358, 'reg_alpha': 0.2492533465924537, 'scale_pos_weight': 4.75611665642925, 'max_delta_step': 9.595228815555606}. Best is trial 120 with value: 0.9971188808096141.\n",
            "[I 2024-08-28 20:42:55,655] Trial 156 finished with value: 0.9968416654983061 and parameters: {'learning_rate': 0.016866551060554954, 'n_estimators': 891, 'max_depth': 18, 'gamma': 0.15595132511827936, 'min_child_weight': 2.136644313506406, 'subsample': 0.8594702396463515, 'colsample_bytree': 0.5268906344076659, 'reg_lambda': 0.14964388921882907, 'reg_alpha': 0.19299146441704265, 'scale_pos_weight': 5.278333328510999, 'max_delta_step': 9.961631713859015}. Best is trial 120 with value: 0.9971188808096141.\n",
            "[I 2024-08-28 20:46:50,705] Trial 157 finished with value: 0.9970972177728148 and parameters: {'learning_rate': 0.015083691255039767, 'n_estimators': 1074, 'max_depth': 19, 'gamma': 0.041705967607119504, 'min_child_weight': 1.0644173474188148, 'subsample': 0.8855471584565975, 'colsample_bytree': 0.5345239777869748, 'reg_lambda': 0.1308754130960247, 'reg_alpha': 0.16681604298407307, 'scale_pos_weight': 5.807453602723881, 'max_delta_step': 9.43455253095765}. Best is trial 120 with value: 0.9971188808096141.\n",
            "[I 2024-08-28 20:51:38,384] Trial 158 finished with value: 0.9971079915755763 and parameters: {'learning_rate': 0.010092538911035485, 'n_estimators': 1081, 'max_depth': 21, 'gamma': 0.022344150128136175, 'min_child_weight': 1.0167590608161277, 'subsample': 0.8827570316446309, 'colsample_bytree': 0.53894100459265, 'reg_lambda': 0.18076908300878222, 'reg_alpha': 0.2646406551350414, 'scale_pos_weight': 5.766297795194414, 'max_delta_step': 9.408797923147146}. Best is trial 120 with value: 0.9971188808096141.\n",
            "[I 2024-08-28 20:56:05,531] Trial 159 finished with value: 0.9970590028654153 and parameters: {'learning_rate': 0.011602720667270512, 'n_estimators': 1029, 'max_depth': 21, 'gamma': 0.023305330022492327, 'min_child_weight': 1.0199000656430768, 'subsample': 0.8378048305752295, 'colsample_bytree': 0.5104804791169775, 'reg_lambda': 0.19002976460474802, 'reg_alpha': 0.29162298266497777, 'scale_pos_weight': 5.877762558960869, 'max_delta_step': 9.6781976095677}. Best is trial 120 with value: 0.9971188808096141.\n",
            "[I 2024-08-28 20:59:41,955] Trial 160 finished with value: 0.9967633114803224 and parameters: {'learning_rate': 0.013100567311592155, 'n_estimators': 1038, 'max_depth': 22, 'gamma': 0.028298326358677735, 'min_child_weight': 1.996693173056217, 'subsample': 0.8418237011062287, 'colsample_bytree': 0.7572710158380102, 'reg_lambda': 0.17056752378954876, 'reg_alpha': 0.2726849801568386, 'scale_pos_weight': 5.861806721050676, 'max_delta_step': 9.449979479351615}. Best is trial 120 with value: 0.9971188808096141.\n",
            "[I 2024-08-28 21:04:00,282] Trial 161 finished with value: 0.9969118556923877 and parameters: {'learning_rate': 0.010199823299299509, 'n_estimators': 984, 'max_depth': 21, 'gamma': 0.04675295486708925, 'min_child_weight': 1.5323179328099663, 'subsample': 0.8176603858437744, 'colsample_bytree': 0.5129488473546601, 'reg_lambda': 0.20294278102755575, 'reg_alpha': 0.3511746134012089, 'scale_pos_weight': 5.652389168944622, 'max_delta_step': 9.696723693968101}. Best is trial 120 with value: 0.9971188808096141.\n",
            "[I 2024-08-28 21:08:26,923] Trial 162 finished with value: 0.9969901745519181 and parameters: {'learning_rate': 0.011748320123077319, 'n_estimators': 1077, 'max_depth': 20, 'gamma': 0.018257738561868242, 'min_child_weight': 1.0468308104336226, 'subsample': 0.8866054097090681, 'colsample_bytree': 0.5352458611965194, 'reg_lambda': 0.1896987471236276, 'reg_alpha': 0.38063141738325484, 'scale_pos_weight': 4.882861430352205, 'max_delta_step': 9.980778445041036}. Best is trial 120 with value: 0.9971188808096141.\n",
            "[I 2024-08-28 21:12:48,900] Trial 163 finished with value: 0.9969606190793241 and parameters: {'learning_rate': 0.011611146266455813, 'n_estimators': 1019, 'max_depth': 21, 'gamma': 0.013715263993215644, 'min_child_weight': 1.0518420547592424, 'subsample': 0.8853405580572811, 'colsample_bytree': 0.5395462339687216, 'reg_lambda': 0.19003253730696507, 'reg_alpha': 0.3041834582431347, 'scale_pos_weight': 5.7942615772285295, 'max_delta_step': 9.978363954243648}. Best is trial 120 with value: 0.9971188808096141.\n",
            "[I 2024-08-28 21:16:19,192] Trial 164 finished with value: 0.9968824678801355 and parameters: {'learning_rate': 0.014254351919429894, 'n_estimators': 891, 'max_depth': 20, 'gamma': 0.021352072293413845, 'min_child_weight': 2.060808135353715, 'subsample': 0.8643056596491049, 'colsample_bytree': 0.532713019267266, 'reg_lambda': 0.22219356059788353, 'reg_alpha': 0.3124572685985156, 'scale_pos_weight': 5.0849150055329995, 'max_delta_step': 9.77837547064863}. Best is trial 120 with value: 0.9971188808096141.\n",
            "[I 2024-08-28 21:18:06,768] Trial 165 finished with value: 0.9966230806857592 and parameters: {'learning_rate': 0.09967193428006452, 'n_estimators': 1111, 'max_depth': 19, 'gamma': 0.04666516771607622, 'min_child_weight': 1.0306369276708218, 'subsample': 0.8322573984244136, 'colsample_bytree': 0.5245030216102186, 'reg_lambda': 0.1828106602559412, 'reg_alpha': 0.40219069373493954, 'scale_pos_weight': 6.282387559116868, 'max_delta_step': 9.437355656147727}. Best is trial 120 with value: 0.9971188808096141.\n",
            "[I 2024-08-28 21:22:07,276] Trial 166 finished with value: 0.9968123528975799 and parameters: {'learning_rate': 0.011457744101534908, 'n_estimators': 1054, 'max_depth': 20, 'gamma': 0.057371863925237396, 'min_child_weight': 2.511313343886817, 'subsample': 0.8851450247976876, 'colsample_bytree': 0.5361778200024342, 'reg_lambda': 0.24045458011482773, 'reg_alpha': 0.34015458713984625, 'scale_pos_weight': 4.412259740076361, 'max_delta_step': 9.992311016766351}. Best is trial 120 with value: 0.9971188808096141.\n",
            "[I 2024-08-28 21:24:33,095] Trial 167 finished with value: 0.992535920833123 and parameters: {'learning_rate': 0.01005480713769874, 'n_estimators': 799, 'max_depth': 21, 'gamma': 0.09094702361949487, 'min_child_weight': 14.86372758451996, 'subsample': 0.8961132155977112, 'colsample_bytree': 0.5677024658128765, 'reg_lambda': 0.15195157129571632, 'reg_alpha': 0.28932089040967107, 'scale_pos_weight': 4.941424582842559, 'max_delta_step': 9.159442596053708}. Best is trial 120 with value: 0.9971188808096141.\n",
            "[I 2024-08-28 21:27:44,920] Trial 168 finished with value: 0.9964827007368573 and parameters: {'learning_rate': 0.01489109363883791, 'n_estimators': 1155, 'max_depth': 18, 'gamma': 0.0003378561558740889, 'min_child_weight': 1.929361536057507, 'subsample': 0.8808008696302179, 'colsample_bytree': 0.9202257968309755, 'reg_lambda': 0.12417094910825525, 'reg_alpha': 0.5069847492519884, 'scale_pos_weight': 5.533763578316255, 'max_delta_step': 9.56952231490131}. Best is trial 120 with value: 0.9971188808096141.\n"
          ]
        },
        {
          "name": "stderr",
          "output_type": "stream",
          "text": [
            "[I 2024-08-28 21:31:00,685] Trial 169 finished with value: 0.9967824084971019 and parameters: {'learning_rate': 0.017442154373798282, 'n_estimators': 919, 'max_depth': 19, 'gamma': 0.04127256351262673, 'min_child_weight': 1.000852338133089, 'subsample': 0.6423300355505134, 'colsample_bytree': 0.5491400175701502, 'reg_lambda': 0.12937997269784973, 'reg_alpha': 0.2523283221824343, 'scale_pos_weight': 6.655394504232802, 'max_delta_step': 9.739319976321003}. Best is trial 120 with value: 0.9971188808096141.\n",
            "[I 2024-08-28 21:34:46,757] Trial 170 finished with value: 0.9966828862286101 and parameters: {'learning_rate': 0.012641423364948435, 'n_estimators': 1087, 'max_depth': 20, 'gamma': 0.022294010555361843, 'min_child_weight': 3.3601779463639305, 'subsample': 0.9276155359782565, 'colsample_bytree': 0.5260614598062591, 'reg_lambda': 0.2672926917602372, 'reg_alpha': 0.28450734745183215, 'scale_pos_weight': 4.671909900029988, 'max_delta_step': 9.325605116448658}. Best is trial 120 with value: 0.9971188808096141.\n",
            "[I 2024-08-28 21:37:54,240] Trial 171 finished with value: 0.9968607841181922 and parameters: {'learning_rate': 0.021069402792522757, 'n_estimators': 1076, 'max_depth': 17, 'gamma': 0.06899866794071118, 'min_child_weight': 1.6153383375710142, 'subsample': 0.9047630809881914, 'colsample_bytree': 0.5067182830552136, 'reg_lambda': 0.15973801517929012, 'reg_alpha': 0.21057957687151554, 'scale_pos_weight': 4.920375853732813, 'max_delta_step': 9.66508439650134}. Best is trial 120 with value: 0.9971188808096141.\n",
            "[I 2024-08-28 21:41:09,947] Trial 172 finished with value: 0.9967714373448769 and parameters: {'learning_rate': 0.01779942474357454, 'n_estimators': 998, 'max_depth': 18, 'gamma': 0.07971758267131937, 'min_child_weight': 1.5886165772375993, 'subsample': 0.9134295548078754, 'colsample_bytree': 0.5177621987044361, 'reg_lambda': 0.20669005451394967, 'reg_alpha': 0.37942019673029564, 'scale_pos_weight': 5.9758107965432, 'max_delta_step': 9.547646345719613}. Best is trial 120 with value: 0.9971188808096141.\n",
            "[I 2024-08-28 21:44:44,610] Trial 173 finished with value: 0.9966818478086253 and parameters: {'learning_rate': 0.014307911823555002, 'n_estimators': 1131, 'max_depth': 17, 'gamma': 0.062348566670504736, 'min_child_weight': 2.5524180318886183, 'subsample': 0.8672503772371675, 'colsample_bytree': 0.5402402680012216, 'reg_lambda': 0.13987199899965272, 'reg_alpha': 0.26236545673666456, 'scale_pos_weight': 5.194278959860567, 'max_delta_step': 9.101130434788873}. Best is trial 120 with value: 0.9971188808096141.\n",
            "[I 2024-08-28 21:47:28,833] Trial 174 finished with value: 0.9966734964784697 and parameters: {'learning_rate': 0.015525266967919952, 'n_estimators': 1044, 'max_depth': 19, 'gamma': 0.557392535292867, 'min_child_weight': 1.0159319114409873, 'subsample': 0.906331281631944, 'colsample_bytree': 0.5230099226734333, 'reg_lambda': 0.11489445435581574, 'reg_alpha': 0.19012592732777772, 'scale_pos_weight': 5.701701839947157, 'max_delta_step': 9.802866118414858}. Best is trial 120 with value: 0.9971188808096141.\n",
            "[I 2024-08-28 21:51:28,325] Trial 175 finished with value: 0.9969011274950471 and parameters: {'learning_rate': 0.012899043431861068, 'n_estimators': 1188, 'max_depth': 16, 'gamma': 0.09719755675570556, 'min_child_weight': 1.7435244251525186, 'subsample': 0.9639050365128219, 'colsample_bytree': 0.5330221120720984, 'reg_lambda': 0.07864433838351638, 'reg_alpha': 0.24112298493680748, 'scale_pos_weight': 4.814246014836529, 'max_delta_step': 9.338188574443308}. Best is trial 120 with value: 0.9971188808096141.\n",
            "[I 2024-08-28 21:54:45,438] Trial 176 finished with value: 0.9967419362378198 and parameters: {'learning_rate': 0.018221850580728772, 'n_estimators': 1243, 'max_depth': 18, 'gamma': 0.13446607485674802, 'min_child_weight': 2.166394816391536, 'subsample': 0.9322923334474922, 'colsample_bytree': 0.5508093695187114, 'reg_lambda': 0.7435195162612855, 'reg_alpha': 0.21827024412334153, 'scale_pos_weight': 5.085135477169499, 'max_delta_step': 9.608010405066697}. Best is trial 120 with value: 0.9971188808096141.\n",
            "[I 2024-08-28 21:57:40,368] Trial 177 finished with value: 0.9969703688040491 and parameters: {'learning_rate': 0.0219250289031698, 'n_estimators': 1085, 'max_depth': 19, 'gamma': 0.10926165242939295, 'min_child_weight': 1.5648695931016277, 'subsample': 0.8910917750509111, 'colsample_bytree': 0.5009730581242534, 'reg_lambda': 0.1000461284562625, 'reg_alpha': 0.20406485716119302, 'scale_pos_weight': 4.093225903112149, 'max_delta_step': 9.2414548921167}. Best is trial 120 with value: 0.9971188808096141.\n",
            "[I 2024-08-28 21:58:55,607] Trial 178 finished with value: 0.9967441151968199 and parameters: {'learning_rate': 0.015746880979604375, 'n_estimators': 219, 'max_depth': 17, 'gamma': 0.03821328951414704, 'min_child_weight': 2.8908333020375077, 'subsample': 0.8564347668108007, 'colsample_bytree': 0.514464523708721, 'reg_lambda': 0.1829892229361263, 'reg_alpha': 0.15519555908547877, 'scale_pos_weight': 5.499239161972374, 'max_delta_step': 9.821998439872727}. Best is trial 120 with value: 0.9971188808096141.\n",
            "[I 2024-08-28 22:02:53,665] Trial 179 finished with value: 0.9962277804983526 and parameters: {'learning_rate': 0.010037071096123116, 'n_estimators': 1161, 'max_depth': 15, 'gamma': 0.07620480513498734, 'min_child_weight': 1.022974614357648, 'subsample': 0.4365262387488362, 'colsample_bytree': 0.5395658802837618, 'reg_lambda': 0.14057416057628375, 'reg_alpha': 0.2624960736559402, 'scale_pos_weight': 4.52664661263189, 'max_delta_step': 8.99037355584724}. Best is trial 120 with value: 0.9971188808096141.\n",
            "[I 2024-08-28 22:04:50,142] Trial 180 finished with value: 0.9932749097530891 and parameters: {'learning_rate': 0.018983391134325293, 'n_estimators': 965, 'max_depth': 10, 'gamma': 0.051249565573899376, 'min_child_weight': 24.60348773107394, 'subsample': 0.9493991620213867, 'colsample_bytree': 0.7352347938989751, 'reg_lambda': 0.06898305857199521, 'reg_alpha': 0.18100031259167174, 'scale_pos_weight': 5.262830616380667, 'max_delta_step': 9.533369971026703}. Best is trial 120 with value: 0.9971188808096141.\n",
            "[I 2024-08-28 22:07:57,417] Trial 181 finished with value: 0.9971647378349546 and parameters: {'learning_rate': 0.019935063753921546, 'n_estimators': 1209, 'max_depth': 21, 'gamma': 0.13021237049313528, 'min_child_weight': 1.0037029366354757, 'subsample': 0.9397452843795323, 'colsample_bytree': 0.5483858560356617, 'reg_lambda': 0.09062574910114087, 'reg_alpha': 0.23614577547483448, 'scale_pos_weight': 5.421487621314032, 'max_delta_step': 9.323657555341919}. Best is trial 181 with value: 0.9971647378349546.\n",
            "[I 2024-08-28 22:11:16,975] Trial 182 finished with value: 0.9969409526917904 and parameters: {'learning_rate': 0.016993434584284182, 'n_estimators': 1209, 'max_depth': 22, 'gamma': 0.14594048362323983, 'min_child_weight': 1.6774952351645065, 'subsample': 0.9135815968048626, 'colsample_bytree': 0.5538625727347557, 'reg_lambda': 0.09717519475388739, 'reg_alpha': 0.23108834390158414, 'scale_pos_weight': 3.6531973700263993, 'max_delta_step': 9.417195151990049}. Best is trial 181 with value: 0.9971647378349546.\n",
            "[I 2024-08-28 22:15:18,318] Trial 183 finished with value: 0.996771876017353 and parameters: {'learning_rate': 0.013636339352972551, 'n_estimators': 1271, 'max_depth': 21, 'gamma': 0.10581240901515145, 'min_child_weight': 2.160176497002822, 'subsample': 0.9374954738368199, 'colsample_bytree': 0.5288916662739966, 'reg_lambda': 0.16279932480051684, 'reg_alpha': 0.23991366991382607, 'scale_pos_weight': 5.448246900426878, 'max_delta_step': 9.738633241356919}. Best is trial 181 with value: 0.9971647378349546.\n",
            "[I 2024-08-28 22:18:14,416] Trial 184 finished with value: 0.9968578584569444 and parameters: {'learning_rate': 0.020615230021344442, 'n_estimators': 1116, 'max_depth': 20, 'gamma': 0.12884795864882473, 'min_child_weight': 1.5282315134875701, 'subsample': 0.9228977232626945, 'colsample_bytree': 0.566835237647476, 'reg_lambda': 0.11769157160242316, 'reg_alpha': 0.47322947396283016, 'scale_pos_weight': 4.937106976853541, 'max_delta_step': 9.174075752224647}. Best is trial 181 with value: 0.9971647378349546.\n",
            "[I 2024-08-28 22:20:55,630] Trial 185 finished with value: 0.9968279954356056 and parameters: {'learning_rate': 0.025363878937909173, 'n_estimators': 1028, 'max_depth': 21, 'gamma': 0.0885588824219589, 'min_child_weight': 2.5010442984240155, 'subsample': 0.9675953581176328, 'colsample_bytree': 0.5456717949225024, 'reg_lambda': 0.8283186451374798, 'reg_alpha': 0.2770128421847266, 'scale_pos_weight': 5.6549604411095515, 'max_delta_step': 9.532640031422346}. Best is trial 181 with value: 0.9971647378349546.\n"
          ]
        },
        {
          "name": "stderr",
          "output_type": "stream",
          "text": [
            "[I 2024-08-28 22:25:04,332] Trial 186 finished with value: 0.9969786257364552 and parameters: {'learning_rate': 0.012262851367147557, 'n_estimators': 1168, 'max_depth': 19, 'gamma': 0.02225852522896373, 'min_child_weight': 1.0218232184919365, 'subsample': 0.9540671159003549, 'colsample_bytree': 0.789072782954296, 'reg_lambda': 0.06617669701703367, 'reg_alpha': 0.21192178746044313, 'scale_pos_weight': 4.729472962582659, 'max_delta_step': 9.872841595042084}. Best is trial 181 with value: 0.9971647378349546.\n",
            "[I 2024-08-28 22:27:37,205] Trial 187 finished with value: 0.9964699972355255 and parameters: {'learning_rate': 0.01651561214943655, 'n_estimators': 1221, 'max_depth': 7, 'gamma': 0.07657649004466055, 'min_child_weight': 1.6200562891352743, 'subsample': 0.8986692819231222, 'colsample_bytree': 0.538967031959779, 'reg_lambda': 0.04466217185925567, 'reg_alpha': 0.4305573768838299, 'scale_pos_weight': 5.251085139461419, 'max_delta_step': 9.98575911084385}. Best is trial 181 with value: 0.9971647378349546.\n",
            "[I 2024-08-28 22:30:53,024] Trial 188 finished with value: 0.9966931802336332 and parameters: {'learning_rate': 0.01934287118860717, 'n_estimators': 1307, 'max_depth': 18, 'gamma': 0.11673147586492805, 'min_child_weight': 2.0696558177886617, 'subsample': 0.8781680094307475, 'colsample_bytree': 0.5606766417034378, 'reg_lambda': 0.085251535486594, 'reg_alpha': 0.2974113816945939, 'scale_pos_weight': 5.112461236904477, 'max_delta_step': 8.995585408992996}. Best is trial 181 with value: 0.9971647378349546.\n",
            "[I 2024-08-28 22:33:29,783] Trial 189 finished with value: 0.9968490348833413 and parameters: {'learning_rate': 0.022168178590064553, 'n_estimators': 1071, 'max_depth': 20, 'gamma': 0.05754319164705657, 'min_child_weight': 2.8702892437815852, 'subsample': 0.9291785884240514, 'colsample_bytree': 0.7219605039364201, 'reg_lambda': 0.13910329508414815, 'reg_alpha': 0.257250463279127, 'scale_pos_weight': 5.867194639535279, 'max_delta_step': 9.391570022601526}. Best is trial 181 with value: 0.9971647378349546.\n",
            "[I 2024-08-28 22:37:07,281] Trial 190 finished with value: 0.9968310569228386 and parameters: {'learning_rate': 0.015021512265812324, 'n_estimators': 1132, 'max_depth': 16, 'gamma': 0.10029917407260658, 'min_child_weight': 1.4755343075562757, 'subsample': 0.9159689221499931, 'colsample_bytree': 0.51074782596035, 'reg_lambda': 0.10784010176245981, 'reg_alpha': 0.16406100655770395, 'scale_pos_weight': 4.295758388571451, 'max_delta_step': 9.63702274448545}. Best is trial 181 with value: 0.9971647378349546.\n",
            "[I 2024-08-28 22:41:21,612] Trial 191 finished with value: 0.996948967755418 and parameters: {'learning_rate': 0.01177188733511345, 'n_estimators': 1169, 'max_depth': 19, 'gamma': 0.015961881712686442, 'min_child_weight': 1.018763276024809, 'subsample': 0.951002725696493, 'colsample_bytree': 0.7919237050946254, 'reg_lambda': 0.060894277195090954, 'reg_alpha': 0.22336555400625777, 'scale_pos_weight': 4.683169677458011, 'max_delta_step': 9.999057448304592}. Best is trial 181 with value: 0.9971647378349546.\n",
            "[I 2024-08-28 22:45:46,205] Trial 192 finished with value: 0.9969792331931595 and parameters: {'learning_rate': 0.013271154408426801, 'n_estimators': 1188, 'max_depth': 19, 'gamma': 0.0341777166274205, 'min_child_weight': 1.492149568355477, 'subsample': 0.9770163045559287, 'colsample_bytree': 0.5285757644978298, 'reg_lambda': 0.07280703708554928, 'reg_alpha': 0.20350724532957296, 'scale_pos_weight': 4.99761869436339, 'max_delta_step': 9.797046267255247}. Best is trial 181 with value: 0.9971647378349546.\n",
            "[I 2024-08-28 22:50:00,317] Trial 193 finished with value: 0.996930451440457 and parameters: {'learning_rate': 0.013601416006742643, 'n_estimators': 1258, 'max_depth': 18, 'gamma': 0.06162816287950942, 'min_child_weight': 2.0440529137400616, 'subsample': 0.9860638460482656, 'colsample_bytree': 0.5230731912411072, 'reg_lambda': 0.07879088324435031, 'reg_alpha': 0.19206861395807534, 'scale_pos_weight': 5.397804487963735, 'max_delta_step': 9.263090354556683}. Best is trial 181 with value: 0.9971647378349546.\n",
            "[I 2024-08-28 22:53:52,219] Trial 194 finished with value: 0.996871590113737 and parameters: {'learning_rate': 0.017597736666468196, 'n_estimators': 1202, 'max_depth': 20, 'gamma': 0.03338888934244234, 'min_child_weight': 1.601200655800978, 'subsample': 0.9725047000183287, 'colsample_bytree': 0.5315221935578666, 'reg_lambda': 0.1229652951271097, 'reg_alpha': 0.24603177436063778, 'scale_pos_weight': 5.037743305894514, 'max_delta_step': 9.718223962132676}. Best is trial 181 with value: 0.9971647378349546.\n",
            "[I 2024-08-28 22:57:15,593] Trial 195 finished with value: 0.9969898060143259 and parameters: {'learning_rate': 0.014919339362095666, 'n_estimators': 1097, 'max_depth': 18, 'gamma': 0.15911107842260552, 'min_child_weight': 1.01420716212392, 'subsample': 0.9388551303569388, 'colsample_bytree': 0.546807585824746, 'reg_lambda': 0.03526446365786696, 'reg_alpha': 0.2038107547268531, 'scale_pos_weight': 4.914020132826143, 'max_delta_step': 9.474601290603912}. Best is trial 181 with value: 0.9971647378349546.\n",
            "[I 2024-08-28 23:00:41,250] Trial 196 finished with value: 0.9970462346693459 and parameters: {'learning_rate': 0.014803753296429347, 'n_estimators': 1113, 'max_depth': 19, 'gamma': 0.16443755463379486, 'min_child_weight': 1.0374418447323868, 'subsample': 0.9369456020265777, 'colsample_bytree': 0.550036272148823, 'reg_lambda': 0.036704222277539694, 'reg_alpha': 0.23385586192445396, 'scale_pos_weight': 4.896839991190416, 'max_delta_step': 9.423978126684526}. Best is trial 181 with value: 0.9971647378349546.\n",
            "[I 2024-08-28 23:04:01,331] Trial 197 finished with value: 0.9969766346241868 and parameters: {'learning_rate': 0.015690952762009377, 'n_estimators': 1109, 'max_depth': 21, 'gamma': 0.16240877637649295, 'min_child_weight': 1.0321545741285523, 'subsample': 0.9410246497567759, 'colsample_bytree': 0.5547476218952851, 'reg_lambda': 0.05186903211536001, 'reg_alpha': 0.2337649974576871, 'scale_pos_weight': 5.2068191826293715, 'max_delta_step': 9.124695926659802}. Best is trial 181 with value: 0.9971647378349546.\n",
            "[I 2024-08-28 23:07:46,734] Trial 198 finished with value: 0.9967126683612092 and parameters: {'learning_rate': 0.011525705743847868, 'n_estimators': 1028, 'max_depth': 18, 'gamma': 0.15186830735462942, 'min_child_weight': 2.218219965822086, 'subsample': 0.9376426789669252, 'colsample_bytree': 0.5480035753991702, 'reg_lambda': 0.03365114661860112, 'reg_alpha': 0.27555401447565897, 'scale_pos_weight': 5.53641779609492, 'max_delta_step': 9.410320238189106}. Best is trial 181 with value: 0.9971647378349546.\n",
            "[I 2024-08-28 23:11:09,096] Trial 199 finished with value: 0.9971456324401311 and parameters: {'learning_rate': 0.014998827338373644, 'n_estimators': 1146, 'max_depth': 20, 'gamma': 0.18448288657366807, 'min_child_weight': 1.01764495291148, 'subsample': 0.9568878760411971, 'colsample_bytree': 0.56689425811867, 'reg_lambda': 0.03470829180201216, 'reg_alpha': 0.3185199219983369, 'scale_pos_weight': 5.722540861995005, 'max_delta_step': 8.880418216791824}. Best is trial 181 with value: 0.9971647378349546.\n"
          ]
        },
        {
          "name": "stdout",
          "output_type": "stream",
          "text": [
            "Best hyperparameters: {'learning_rate': 0.019935063753921546, 'n_estimators': 1209, 'max_depth': 21, 'gamma': 0.13021237049313528, 'min_child_weight': 1.0037029366354757, 'subsample': 0.9397452843795323, 'colsample_bytree': 0.5483858560356617, 'reg_lambda': 0.09062574910114087, 'reg_alpha': 0.23614577547483448, 'scale_pos_weight': 5.421487621314032, 'max_delta_step': 9.323657555341919}\n"
          ]
        }
      ],
      "source": [
        "X = train_x_encoded[feature_order]\n",
        "y = train_y_encoded\n",
        "\n",
        "# Optuna를 사용하여 하이퍼파라미터 튜닝\n",
        "def objective(trial):\n",
        "    # XGB 하이퍼파라미터\n",
        "    xgb_params = {\n",
        "        'learning_rate': trial.suggest_float('learning_rate', 0.01, 0.1),\n",
        "        'n_estimators': trial.suggest_int('n_estimators', 200, 2000),\n",
        "        'max_depth': trial.suggest_int('max_depth', 4, 30),\n",
        "        'gamma': trial.suggest_float('gamma', 0.0, 0.9),\n",
        "        'min_child_weight': trial.suggest_float('min_child_weight', 1, 30),\n",
        "        'subsample': trial.suggest_float('subsample', 0.2, 1.0),\n",
        "        'colsample_bytree': trial.suggest_float('colsample_bytree', 0.5, 1.0),\n",
        "        'reg_lambda': trial.suggest_float('reg_lambda', 1e-3, 1.0),  # L2 정규화\n",
        "        'reg_alpha': trial.suggest_float('reg_alpha', 1e-3, 1.0),  # L1 정규화\n",
        "        'scale_pos_weight': trial.suggest_float('scale_pos_weight', 1.0, 10.0),\n",
        "        'max_delta_step': trial.suggest_float('max_delta_step', 0, 10),\n",
        "    }\n",
        "\n",
        "    # 개별 모델 정의\n",
        "    xgb = XGBClassifier(**xgb_params,\n",
        "                      device='cuda',\n",
        "                      random_state=42,\n",
        "                      class_weight='balanced')\n",
        "\n",
        "  # Perform k-fold cross-validation\n",
        "    kf = StratifiedKFold(n_splits=5, shuffle=True, random_state=42)\n",
        "    f1_scores = []\n",
        "\n",
        "    for train_index, val_index in kf.split(X, y):\n",
        "        X_train_fold, X_val_fold = X.iloc[train_index], X.iloc[val_index]\n",
        "        y_train_fold, y_val_fold = y[train_index], y[val_index]\n",
        "\n",
        "        # Fit StackingRegressor\n",
        "\n",
        "        xgb.fit(X_train_fold, y_train_fold, verbose=False)\n",
        "\n",
        "\n",
        "        # Evaluate performance using mean squared error\n",
        "        y_pred = xgb.predict(X_val_fold)\n",
        "        f1 = f1_score(y_val_fold, y_pred, average='macro')\n",
        "        f1_scores.append(f1)\n",
        "\n",
        "    # Compute mean cross-validation score\n",
        "    mean_score = sum(f1_scores) / len(f1_scores)\n",
        "\n",
        "    return mean_score\n",
        "\n",
        "# 시드 고정\n",
        "sampler = optuna.samplers.TPESampler(seed=42)\n",
        "\n",
        "# Perform hyperparameter optimization\n",
        "study2 = optuna.create_study(direction='maximize', sampler = sampler)\n",
        "study2.optimize(objective, n_trials=200)\n",
        "\n",
        "# Get the best hyperparameters\n",
        "best_params = study2.best_params\n",
        "print(\"Best hyperparameters:\", best_params)"
      ]
    },
    {
      "cell_type": "markdown",
      "metadata": {
        "id": "hPS8mFC7n8J_"
      },
      "source": [
        "# Model Define"
      ]
    },
    {
      "cell_type": "code",
      "execution_count": null,
      "metadata": {
        "id": "Iw-3-5WNIeq0",
        "outputId": "a37a297d-c829-4639-e48a-9b3a6c822334"
      },
      "outputs": [
        {
          "data": {
            "text/html": [
              "<style>#sk-container-id-4 {\n",
              "  /* Definition of color scheme common for light and dark mode */\n",
              "  --sklearn-color-text: black;\n",
              "  --sklearn-color-line: gray;\n",
              "  /* Definition of color scheme for unfitted estimators */\n",
              "  --sklearn-color-unfitted-level-0: #fff5e6;\n",
              "  --sklearn-color-unfitted-level-1: #f6e4d2;\n",
              "  --sklearn-color-unfitted-level-2: #ffe0b3;\n",
              "  --sklearn-color-unfitted-level-3: chocolate;\n",
              "  /* Definition of color scheme for fitted estimators */\n",
              "  --sklearn-color-fitted-level-0: #f0f8ff;\n",
              "  --sklearn-color-fitted-level-1: #d4ebff;\n",
              "  --sklearn-color-fitted-level-2: #b3dbfd;\n",
              "  --sklearn-color-fitted-level-3: cornflowerblue;\n",
              "\n",
              "  /* Specific color for light theme */\n",
              "  --sklearn-color-text-on-default-background: var(--sg-text-color, var(--theme-code-foreground, var(--jp-content-font-color1, black)));\n",
              "  --sklearn-color-background: var(--sg-background-color, var(--theme-background, var(--jp-layout-color0, white)));\n",
              "  --sklearn-color-border-box: var(--sg-text-color, var(--theme-code-foreground, var(--jp-content-font-color1, black)));\n",
              "  --sklearn-color-icon: #696969;\n",
              "\n",
              "  @media (prefers-color-scheme: dark) {\n",
              "    /* Redefinition of color scheme for dark theme */\n",
              "    --sklearn-color-text-on-default-background: var(--sg-text-color, var(--theme-code-foreground, var(--jp-content-font-color1, white)));\n",
              "    --sklearn-color-background: var(--sg-background-color, var(--theme-background, var(--jp-layout-color0, #111)));\n",
              "    --sklearn-color-border-box: var(--sg-text-color, var(--theme-code-foreground, var(--jp-content-font-color1, white)));\n",
              "    --sklearn-color-icon: #878787;\n",
              "  }\n",
              "}\n",
              "\n",
              "#sk-container-id-4 {\n",
              "  color: var(--sklearn-color-text);\n",
              "}\n",
              "\n",
              "#sk-container-id-4 pre {\n",
              "  padding: 0;\n",
              "}\n",
              "\n",
              "#sk-container-id-4 input.sk-hidden--visually {\n",
              "  border: 0;\n",
              "  clip: rect(1px 1px 1px 1px);\n",
              "  clip: rect(1px, 1px, 1px, 1px);\n",
              "  height: 1px;\n",
              "  margin: -1px;\n",
              "  overflow: hidden;\n",
              "  padding: 0;\n",
              "  position: absolute;\n",
              "  width: 1px;\n",
              "}\n",
              "\n",
              "#sk-container-id-4 div.sk-dashed-wrapped {\n",
              "  border: 1px dashed var(--sklearn-color-line);\n",
              "  margin: 0 0.4em 0.5em 0.4em;\n",
              "  box-sizing: border-box;\n",
              "  padding-bottom: 0.4em;\n",
              "  background-color: var(--sklearn-color-background);\n",
              "}\n",
              "\n",
              "#sk-container-id-4 div.sk-container {\n",
              "  /* jupyter's `normalize.less` sets `[hidden] { display: none; }`\n",
              "     but bootstrap.min.css set `[hidden] { display: none !important; }`\n",
              "     so we also need the `!important` here to be able to override the\n",
              "     default hidden behavior on the sphinx rendered scikit-learn.org.\n",
              "     See: https://github.com/scikit-learn/scikit-learn/issues/21755 */\n",
              "  display: inline-block !important;\n",
              "  position: relative;\n",
              "}\n",
              "\n",
              "#sk-container-id-4 div.sk-text-repr-fallback {\n",
              "  display: none;\n",
              "}\n",
              "\n",
              "div.sk-parallel-item,\n",
              "div.sk-serial,\n",
              "div.sk-item {\n",
              "  /* draw centered vertical line to link estimators */\n",
              "  background-image: linear-gradient(var(--sklearn-color-text-on-default-background), var(--sklearn-color-text-on-default-background));\n",
              "  background-size: 2px 100%;\n",
              "  background-repeat: no-repeat;\n",
              "  background-position: center center;\n",
              "}\n",
              "\n",
              "/* Parallel-specific style estimator block */\n",
              "\n",
              "#sk-container-id-4 div.sk-parallel-item::after {\n",
              "  content: \"\";\n",
              "  width: 100%;\n",
              "  border-bottom: 2px solid var(--sklearn-color-text-on-default-background);\n",
              "  flex-grow: 1;\n",
              "}\n",
              "\n",
              "#sk-container-id-4 div.sk-parallel {\n",
              "  display: flex;\n",
              "  align-items: stretch;\n",
              "  justify-content: center;\n",
              "  background-color: var(--sklearn-color-background);\n",
              "  position: relative;\n",
              "}\n",
              "\n",
              "#sk-container-id-4 div.sk-parallel-item {\n",
              "  display: flex;\n",
              "  flex-direction: column;\n",
              "}\n",
              "\n",
              "#sk-container-id-4 div.sk-parallel-item:first-child::after {\n",
              "  align-self: flex-end;\n",
              "  width: 50%;\n",
              "}\n",
              "\n",
              "#sk-container-id-4 div.sk-parallel-item:last-child::after {\n",
              "  align-self: flex-start;\n",
              "  width: 50%;\n",
              "}\n",
              "\n",
              "#sk-container-id-4 div.sk-parallel-item:only-child::after {\n",
              "  width: 0;\n",
              "}\n",
              "\n",
              "/* Serial-specific style estimator block */\n",
              "\n",
              "#sk-container-id-4 div.sk-serial {\n",
              "  display: flex;\n",
              "  flex-direction: column;\n",
              "  align-items: center;\n",
              "  background-color: var(--sklearn-color-background);\n",
              "  padding-right: 1em;\n",
              "  padding-left: 1em;\n",
              "}\n",
              "\n",
              "\n",
              "/* Toggleable style: style used for estimator/Pipeline/ColumnTransformer box that is\n",
              "clickable and can be expanded/collapsed.\n",
              "- Pipeline and ColumnTransformer use this feature and define the default style\n",
              "- Estimators will overwrite some part of the style using the `sk-estimator` class\n",
              "*/\n",
              "\n",
              "/* Pipeline and ColumnTransformer style (default) */\n",
              "\n",
              "#sk-container-id-4 div.sk-toggleable {\n",
              "  /* Default theme specific background. It is overwritten whether we have a\n",
              "  specific estimator or a Pipeline/ColumnTransformer */\n",
              "  background-color: var(--sklearn-color-background);\n",
              "}\n",
              "\n",
              "/* Toggleable label */\n",
              "#sk-container-id-4 label.sk-toggleable__label {\n",
              "  cursor: pointer;\n",
              "  display: block;\n",
              "  width: 100%;\n",
              "  margin-bottom: 0;\n",
              "  padding: 0.5em;\n",
              "  box-sizing: border-box;\n",
              "  text-align: center;\n",
              "}\n",
              "\n",
              "#sk-container-id-4 label.sk-toggleable__label-arrow:before {\n",
              "  /* Arrow on the left of the label */\n",
              "  content: \"▸\";\n",
              "  float: left;\n",
              "  margin-right: 0.25em;\n",
              "  color: var(--sklearn-color-icon);\n",
              "}\n",
              "\n",
              "#sk-container-id-4 label.sk-toggleable__label-arrow:hover:before {\n",
              "  color: var(--sklearn-color-text);\n",
              "}\n",
              "\n",
              "/* Toggleable content - dropdown */\n",
              "\n",
              "#sk-container-id-4 div.sk-toggleable__content {\n",
              "  max-height: 0;\n",
              "  max-width: 0;\n",
              "  overflow: hidden;\n",
              "  text-align: left;\n",
              "  /* unfitted */\n",
              "  background-color: var(--sklearn-color-unfitted-level-0);\n",
              "}\n",
              "\n",
              "#sk-container-id-4 div.sk-toggleable__content.fitted {\n",
              "  /* fitted */\n",
              "  background-color: var(--sklearn-color-fitted-level-0);\n",
              "}\n",
              "\n",
              "#sk-container-id-4 div.sk-toggleable__content pre {\n",
              "  margin: 0.2em;\n",
              "  border-radius: 0.25em;\n",
              "  color: var(--sklearn-color-text);\n",
              "  /* unfitted */\n",
              "  background-color: var(--sklearn-color-unfitted-level-0);\n",
              "}\n",
              "\n",
              "#sk-container-id-4 div.sk-toggleable__content.fitted pre {\n",
              "  /* unfitted */\n",
              "  background-color: var(--sklearn-color-fitted-level-0);\n",
              "}\n",
              "\n",
              "#sk-container-id-4 input.sk-toggleable__control:checked~div.sk-toggleable__content {\n",
              "  /* Expand drop-down */\n",
              "  max-height: 200px;\n",
              "  max-width: 100%;\n",
              "  overflow: auto;\n",
              "}\n",
              "\n",
              "#sk-container-id-4 input.sk-toggleable__control:checked~label.sk-toggleable__label-arrow:before {\n",
              "  content: \"▾\";\n",
              "}\n",
              "\n",
              "/* Pipeline/ColumnTransformer-specific style */\n",
              "\n",
              "#sk-container-id-4 div.sk-label input.sk-toggleable__control:checked~label.sk-toggleable__label {\n",
              "  color: var(--sklearn-color-text);\n",
              "  background-color: var(--sklearn-color-unfitted-level-2);\n",
              "}\n",
              "\n",
              "#sk-container-id-4 div.sk-label.fitted input.sk-toggleable__control:checked~label.sk-toggleable__label {\n",
              "  background-color: var(--sklearn-color-fitted-level-2);\n",
              "}\n",
              "\n",
              "/* Estimator-specific style */\n",
              "\n",
              "/* Colorize estimator box */\n",
              "#sk-container-id-4 div.sk-estimator input.sk-toggleable__control:checked~label.sk-toggleable__label {\n",
              "  /* unfitted */\n",
              "  background-color: var(--sklearn-color-unfitted-level-2);\n",
              "}\n",
              "\n",
              "#sk-container-id-4 div.sk-estimator.fitted input.sk-toggleable__control:checked~label.sk-toggleable__label {\n",
              "  /* fitted */\n",
              "  background-color: var(--sklearn-color-fitted-level-2);\n",
              "}\n",
              "\n",
              "#sk-container-id-4 div.sk-label label.sk-toggleable__label,\n",
              "#sk-container-id-4 div.sk-label label {\n",
              "  /* The background is the default theme color */\n",
              "  color: var(--sklearn-color-text-on-default-background);\n",
              "}\n",
              "\n",
              "/* On hover, darken the color of the background */\n",
              "#sk-container-id-4 div.sk-label:hover label.sk-toggleable__label {\n",
              "  color: var(--sklearn-color-text);\n",
              "  background-color: var(--sklearn-color-unfitted-level-2);\n",
              "}\n",
              "\n",
              "/* Label box, darken color on hover, fitted */\n",
              "#sk-container-id-4 div.sk-label.fitted:hover label.sk-toggleable__label.fitted {\n",
              "  color: var(--sklearn-color-text);\n",
              "  background-color: var(--sklearn-color-fitted-level-2);\n",
              "}\n",
              "\n",
              "/* Estimator label */\n",
              "\n",
              "#sk-container-id-4 div.sk-label label {\n",
              "  font-family: monospace;\n",
              "  font-weight: bold;\n",
              "  display: inline-block;\n",
              "  line-height: 1.2em;\n",
              "}\n",
              "\n",
              "#sk-container-id-4 div.sk-label-container {\n",
              "  text-align: center;\n",
              "}\n",
              "\n",
              "/* Estimator-specific */\n",
              "#sk-container-id-4 div.sk-estimator {\n",
              "  font-family: monospace;\n",
              "  border: 1px dotted var(--sklearn-color-border-box);\n",
              "  border-radius: 0.25em;\n",
              "  box-sizing: border-box;\n",
              "  margin-bottom: 0.5em;\n",
              "  /* unfitted */\n",
              "  background-color: var(--sklearn-color-unfitted-level-0);\n",
              "}\n",
              "\n",
              "#sk-container-id-4 div.sk-estimator.fitted {\n",
              "  /* fitted */\n",
              "  background-color: var(--sklearn-color-fitted-level-0);\n",
              "}\n",
              "\n",
              "/* on hover */\n",
              "#sk-container-id-4 div.sk-estimator:hover {\n",
              "  /* unfitted */\n",
              "  background-color: var(--sklearn-color-unfitted-level-2);\n",
              "}\n",
              "\n",
              "#sk-container-id-4 div.sk-estimator.fitted:hover {\n",
              "  /* fitted */\n",
              "  background-color: var(--sklearn-color-fitted-level-2);\n",
              "}\n",
              "\n",
              "/* Specification for estimator info (e.g. \"i\" and \"?\") */\n",
              "\n",
              "/* Common style for \"i\" and \"?\" */\n",
              "\n",
              ".sk-estimator-doc-link,\n",
              "a:link.sk-estimator-doc-link,\n",
              "a:visited.sk-estimator-doc-link {\n",
              "  float: right;\n",
              "  font-size: smaller;\n",
              "  line-height: 1em;\n",
              "  font-family: monospace;\n",
              "  background-color: var(--sklearn-color-background);\n",
              "  border-radius: 1em;\n",
              "  height: 1em;\n",
              "  width: 1em;\n",
              "  text-decoration: none !important;\n",
              "  margin-left: 1ex;\n",
              "  /* unfitted */\n",
              "  border: var(--sklearn-color-unfitted-level-1) 1pt solid;\n",
              "  color: var(--sklearn-color-unfitted-level-1);\n",
              "}\n",
              "\n",
              ".sk-estimator-doc-link.fitted,\n",
              "a:link.sk-estimator-doc-link.fitted,\n",
              "a:visited.sk-estimator-doc-link.fitted {\n",
              "  /* fitted */\n",
              "  border: var(--sklearn-color-fitted-level-1) 1pt solid;\n",
              "  color: var(--sklearn-color-fitted-level-1);\n",
              "}\n",
              "\n",
              "/* On hover */\n",
              "div.sk-estimator:hover .sk-estimator-doc-link:hover,\n",
              ".sk-estimator-doc-link:hover,\n",
              "div.sk-label-container:hover .sk-estimator-doc-link:hover,\n",
              ".sk-estimator-doc-link:hover {\n",
              "  /* unfitted */\n",
              "  background-color: var(--sklearn-color-unfitted-level-3);\n",
              "  color: var(--sklearn-color-background);\n",
              "  text-decoration: none;\n",
              "}\n",
              "\n",
              "div.sk-estimator.fitted:hover .sk-estimator-doc-link.fitted:hover,\n",
              ".sk-estimator-doc-link.fitted:hover,\n",
              "div.sk-label-container:hover .sk-estimator-doc-link.fitted:hover,\n",
              ".sk-estimator-doc-link.fitted:hover {\n",
              "  /* fitted */\n",
              "  background-color: var(--sklearn-color-fitted-level-3);\n",
              "  color: var(--sklearn-color-background);\n",
              "  text-decoration: none;\n",
              "}\n",
              "\n",
              "/* Span, style for the box shown on hovering the info icon */\n",
              ".sk-estimator-doc-link span {\n",
              "  display: none;\n",
              "  z-index: 9999;\n",
              "  position: relative;\n",
              "  font-weight: normal;\n",
              "  right: .2ex;\n",
              "  padding: .5ex;\n",
              "  margin: .5ex;\n",
              "  width: min-content;\n",
              "  min-width: 20ex;\n",
              "  max-width: 50ex;\n",
              "  color: var(--sklearn-color-text);\n",
              "  box-shadow: 2pt 2pt 4pt #999;\n",
              "  /* unfitted */\n",
              "  background: var(--sklearn-color-unfitted-level-0);\n",
              "  border: .5pt solid var(--sklearn-color-unfitted-level-3);\n",
              "}\n",
              "\n",
              ".sk-estimator-doc-link.fitted span {\n",
              "  /* fitted */\n",
              "  background: var(--sklearn-color-fitted-level-0);\n",
              "  border: var(--sklearn-color-fitted-level-3);\n",
              "}\n",
              "\n",
              ".sk-estimator-doc-link:hover span {\n",
              "  display: block;\n",
              "}\n",
              "\n",
              "/* \"?\"-specific style due to the `<a>` HTML tag */\n",
              "\n",
              "#sk-container-id-4 a.estimator_doc_link {\n",
              "  float: right;\n",
              "  font-size: 1rem;\n",
              "  line-height: 1em;\n",
              "  font-family: monospace;\n",
              "  background-color: var(--sklearn-color-background);\n",
              "  border-radius: 1rem;\n",
              "  height: 1rem;\n",
              "  width: 1rem;\n",
              "  text-decoration: none;\n",
              "  /* unfitted */\n",
              "  color: var(--sklearn-color-unfitted-level-1);\n",
              "  border: var(--sklearn-color-unfitted-level-1) 1pt solid;\n",
              "}\n",
              "\n",
              "#sk-container-id-4 a.estimator_doc_link.fitted {\n",
              "  /* fitted */\n",
              "  border: var(--sklearn-color-fitted-level-1) 1pt solid;\n",
              "  color: var(--sklearn-color-fitted-level-1);\n",
              "}\n",
              "\n",
              "/* On hover */\n",
              "#sk-container-id-4 a.estimator_doc_link:hover {\n",
              "  /* unfitted */\n",
              "  background-color: var(--sklearn-color-unfitted-level-3);\n",
              "  color: var(--sklearn-color-background);\n",
              "  text-decoration: none;\n",
              "}\n",
              "\n",
              "#sk-container-id-4 a.estimator_doc_link.fitted:hover {\n",
              "  /* fitted */\n",
              "  background-color: var(--sklearn-color-fitted-level-3);\n",
              "}\n",
              "</style><div id=\"sk-container-id-4\" class=\"sk-top-container\"><div class=\"sk-text-repr-fallback\"><pre>XGBClassifier(base_score=None, booster=None, callbacks=None,\n",
              "              class_weight=&#x27;balanced&#x27;, colsample_bylevel=None,\n",
              "              colsample_bynode=None, colsample_bytree=0.5483858560356617,\n",
              "              device=&#x27;cuda&#x27;, early_stopping_rounds=None,\n",
              "              enable_categorical=False, eval_metric=None, feature_types=None,\n",
              "              gamma=0.13021237049313528, grow_policy=None, importance_type=None,\n",
              "              interaction_constraints=None, learning_rate=0.019935063753921546,\n",
              "              max_bin=None, max_cat_threshold=None, max_cat_to_onehot=None,\n",
              "              max_delta_step=9.323657555341919, max_depth=21, max_leaves=None,\n",
              "              min_child_weight=1.0037029366354757, missing=nan,\n",
              "              monotone_constraints=None, multi_strategy=None, n_estimators=1209,\n",
              "              n_jobs=None, num_parallel_tree=None, ...)</pre><b>In a Jupyter environment, please rerun this cell to show the HTML representation or trust the notebook. <br />On GitHub, the HTML representation is unable to render, please try loading this page with nbviewer.org.</b></div><div class=\"sk-container\" hidden><div class=\"sk-item\"><div class=\"sk-estimator fitted sk-toggleable\"><input class=\"sk-toggleable__control sk-hidden--visually\" id=\"sk-estimator-id-4\" type=\"checkbox\" checked><label for=\"sk-estimator-id-4\" class=\"sk-toggleable__label fitted sk-toggleable__label-arrow fitted\">&nbsp;XGBClassifier<span class=\"sk-estimator-doc-link fitted\">i<span>Fitted</span></span></label><div class=\"sk-toggleable__content fitted\"><pre>XGBClassifier(base_score=None, booster=None, callbacks=None,\n",
              "              class_weight=&#x27;balanced&#x27;, colsample_bylevel=None,\n",
              "              colsample_bynode=None, colsample_bytree=0.5483858560356617,\n",
              "              device=&#x27;cuda&#x27;, early_stopping_rounds=None,\n",
              "              enable_categorical=False, eval_metric=None, feature_types=None,\n",
              "              gamma=0.13021237049313528, grow_policy=None, importance_type=None,\n",
              "              interaction_constraints=None, learning_rate=0.019935063753921546,\n",
              "              max_bin=None, max_cat_threshold=None, max_cat_to_onehot=None,\n",
              "              max_delta_step=9.323657555341919, max_depth=21, max_leaves=None,\n",
              "              min_child_weight=1.0037029366354757, missing=nan,\n",
              "              monotone_constraints=None, multi_strategy=None, n_estimators=1209,\n",
              "              n_jobs=None, num_parallel_tree=None, ...)</pre></div> </div></div></div></div>"
            ],
            "text/plain": [
              "XGBClassifier(base_score=None, booster=None, callbacks=None,\n",
              "              class_weight='balanced', colsample_bylevel=None,\n",
              "              colsample_bynode=None, colsample_bytree=0.5483858560356617,\n",
              "              device='cuda', early_stopping_rounds=None,\n",
              "              enable_categorical=False, eval_metric=None, feature_types=None,\n",
              "              gamma=0.13021237049313528, grow_policy=None, importance_type=None,\n",
              "              interaction_constraints=None, learning_rate=0.019935063753921546,\n",
              "              max_bin=None, max_cat_threshold=None, max_cat_to_onehot=None,\n",
              "              max_delta_step=9.323657555341919, max_depth=21, max_leaves=None,\n",
              "              min_child_weight=1.0037029366354757, missing=nan,\n",
              "              monotone_constraints=None, multi_strategy=None, n_estimators=1209,\n",
              "              n_jobs=None, num_parallel_tree=None, ...)"
            ]
          },
          "execution_count": 109,
          "metadata": {},
          "output_type": "execute_result"
        }
      ],
      "source": [
        "best_params = {'learning_rate': 0.019935063753921546, 'n_estimators': 1209, 'max_depth': 21, 'gamma': 0.13021237049313528, 'min_child_weight': 1.0037029366354757, 'subsample': 0.9397452843795323, 'colsample_bytree': 0.5483858560356617, 'reg_lambda': 0.09062574910114087, 'reg_alpha': 0.23614577547483448, 'scale_pos_weight': 5.421487621314032, 'max_delta_step': 9.323657555341919}\n",
        "\n",
        "model = XGBClassifier(**best_params,\n",
        "                      device='cuda',\n",
        "                      class_weight='balanced',\n",
        "                      random_state=42)\n",
        "\n",
        "model.fit(train_x_encoded[feature_order], train_y_encoded)"
      ]
    },
    {
      "cell_type": "code",
      "execution_count": null,
      "metadata": {
        "id": "_WjQW0Jdn8J_"
      },
      "outputs": [],
      "source": [
        "test_x_encoded = test_x.copy()\n",
        "\n",
        "# Ordinal 인코딩\n",
        "test_x_encoded[categorical_columns] = ordinal_encoder.transform(test_x[categorical_columns])\n",
        "\n",
        "# 원핫 인코딩 적용\n",
        "test_x_encoded = pd.get_dummies(test_x_encoded, columns=one_hot_columns, drop_first=True)\n",
        "\n",
        "# 특성 순서 맞추기 및 데이터 타입 일치\n",
        "test_x_encoded = test_x_encoded[feature_order]\n",
        "for col in feature_order:\n",
        "    test_x_encoded[col] = test_x_encoded[col].astype(train_x_encoded[col].dtype)"
      ]
    },
    {
      "cell_type": "code",
      "execution_count": null,
      "metadata": {
        "colab": {
          "base_uri": "https://localhost:8080/"
        },
        "id": "q8JFw9pDQ5E4",
        "outputId": "39372e19-3225-41d7-e911-d9d68950af89"
      },
      "outputs": [
        {
          "data": {
            "text/plain": [
              "(120000, 56)"
            ]
          },
          "execution_count": 111,
          "metadata": {},
          "output_type": "execute_result"
        }
      ],
      "source": [
        "test_x_encoded.shape"
      ]
    },
    {
      "cell_type": "code",
      "execution_count": null,
      "metadata": {
        "id": "Vl6D8kPDn8J_"
      },
      "outputs": [],
      "source": [
        "# 예측\n",
        "predictions = model.predict(test_x_encoded)\n",
        "predictions_label = le_subclass.inverse_transform(predictions)"
      ]
    },
    {
      "cell_type": "code",
      "execution_count": null,
      "metadata": {
        "id": "D9fkwqKmxIOW",
        "outputId": "ff060f60-6e5c-47c2-b0a9-4373f980de09"
      },
      "outputs": [
        {
          "data": {
            "text/plain": [
              "m    60667\n",
              "l     7869\n",
              "e     6753\n",
              "f     5829\n",
              "b     5820\n",
              "k     5384\n",
              "j     5332\n",
              "a     4916\n",
              "i     4794\n",
              "h     3594\n",
              "d     3445\n",
              "g     3261\n",
              "c     2336\n",
              "Name: count, dtype: int64"
            ]
          },
          "execution_count": 113,
          "metadata": {},
          "output_type": "execute_result"
        }
      ],
      "source": [
        "pd.DataFrame(predictions_label).value_counts()"
      ]
    },
    {
      "cell_type": "markdown",
      "metadata": {
        "id": "sSG_3hw5n8J_"
      },
      "source": [
        "# Submission"
      ]
    },
    {
      "cell_type": "code",
      "execution_count": null,
      "metadata": {
        "colab": {
          "base_uri": "https://localhost:8080/",
          "height": 206
        },
        "id": "BcCQ-thwn8J_",
        "outputId": "f5fce852-8929-4688-eb0e-fef1650ec8e0"
      },
      "outputs": [
        {
          "data": {
            "text/html": [
              "<div>\n",
              "<style scoped>\n",
              "    .dataframe tbody tr th:only-of-type {\n",
              "        vertical-align: middle;\n",
              "    }\n",
              "\n",
              "    .dataframe tbody tr th {\n",
              "        vertical-align: top;\n",
              "    }\n",
              "\n",
              "    .dataframe thead th {\n",
              "        text-align: right;\n",
              "    }\n",
              "</style>\n",
              "<table border=\"1\" class=\"dataframe\">\n",
              "  <thead>\n",
              "    <tr style=\"text-align: right;\">\n",
              "      <th></th>\n",
              "      <th>ID</th>\n",
              "      <th>Fraud_Type</th>\n",
              "    </tr>\n",
              "  </thead>\n",
              "  <tbody>\n",
              "    <tr>\n",
              "      <th>0</th>\n",
              "      <td>TEST_000000</td>\n",
              "      <td>l</td>\n",
              "    </tr>\n",
              "    <tr>\n",
              "      <th>1</th>\n",
              "      <td>TEST_000001</td>\n",
              "      <td>m</td>\n",
              "    </tr>\n",
              "    <tr>\n",
              "      <th>2</th>\n",
              "      <td>TEST_000002</td>\n",
              "      <td>m</td>\n",
              "    </tr>\n",
              "    <tr>\n",
              "      <th>3</th>\n",
              "      <td>TEST_000003</td>\n",
              "      <td>m</td>\n",
              "    </tr>\n",
              "    <tr>\n",
              "      <th>4</th>\n",
              "      <td>TEST_000004</td>\n",
              "      <td>m</td>\n",
              "    </tr>\n",
              "  </tbody>\n",
              "</table>\n",
              "</div>"
            ],
            "text/plain": [
              "            ID Fraud_Type\n",
              "0  TEST_000000          l\n",
              "1  TEST_000001          m\n",
              "2  TEST_000002          m\n",
              "3  TEST_000003          m\n",
              "4  TEST_000004          m"
            ]
          },
          "execution_count": 114,
          "metadata": {},
          "output_type": "execute_result"
        }
      ],
      "source": [
        "# 분류 예측 결과 제출 데이터프레임(DataFrame)\n",
        "# 분류 예측 결과 데이터프레임 파일명을 반드시 clf_submission.csv 로 지정해야합니다.\n",
        "clf_submission = pd.read_csv(\"/home/elicer/data/sample_submission.csv\")\n",
        "clf_submission[\"Fraud_Type\"] = predictions_label\n",
        "clf_submission.head()"
      ]
    },
    {
      "cell_type": "code",
      "execution_count": null,
      "metadata": {
        "colab": {
          "base_uri": "https://localhost:8080/",
          "height": 256
        },
        "id": "Rv6b6mSMn8J_",
        "outputId": "987247e0-88c4-46d2-ddd0-570485807529"
      },
      "outputs": [
        {
          "data": {
            "text/html": [
              "<div>\n",
              "<style scoped>\n",
              "    .dataframe tbody tr th:only-of-type {\n",
              "        vertical-align: middle;\n",
              "    }\n",
              "\n",
              "    .dataframe tbody tr th {\n",
              "        vertical-align: top;\n",
              "    }\n",
              "\n",
              "    .dataframe thead th {\n",
              "        text-align: right;\n",
              "    }\n",
              "</style>\n",
              "<table border=\"1\" class=\"dataframe\">\n",
              "  <thead>\n",
              "    <tr style=\"text-align: right;\">\n",
              "      <th></th>\n",
              "      <th>Customer_Birthyear</th>\n",
              "      <th>Customer_Gender</th>\n",
              "      <th>Customer_personal_identifier</th>\n",
              "      <th>Customer_identification_number</th>\n",
              "      <th>Customer_registration_datetime</th>\n",
              "      <th>Customer_credit_rating</th>\n",
              "      <th>Customer_flag_change_of_authentication_1</th>\n",
              "      <th>Customer_flag_change_of_authentication_2</th>\n",
              "      <th>Customer_flag_change_of_authentication_3</th>\n",
              "      <th>Customer_flag_change_of_authentication_4</th>\n",
              "      <th>...</th>\n",
              "      <th>Last_atm_transaction_datetime</th>\n",
              "      <th>Last_bank_branch_transaction_datetime</th>\n",
              "      <th>Flag_deposit_more_than_tenMillion</th>\n",
              "      <th>Unused_account_status</th>\n",
              "      <th>Recipient_account_suspend_status</th>\n",
              "      <th>Number_of_transaction_with_the_account</th>\n",
              "      <th>Transaction_history_with_the_account</th>\n",
              "      <th>First_time_iOS_by_vulnerable_user</th>\n",
              "      <th>Fraud_Type</th>\n",
              "      <th>Transaction_resumed_date</th>\n",
              "    </tr>\n",
              "  </thead>\n",
              "  <tbody>\n",
              "    <tr>\n",
              "      <th>0</th>\n",
              "      <td>1950</td>\n",
              "      <td>male</td>\n",
              "      <td>윤현숙</td>\n",
              "      <td>lJBEHU-BykuOFI</td>\n",
              "      <td>2007-09-28 14:16:02</td>\n",
              "      <td>C</td>\n",
              "      <td>1</td>\n",
              "      <td>1</td>\n",
              "      <td>1</td>\n",
              "      <td>1</td>\n",
              "      <td>...</td>\n",
              "      <td>2021-11-02 05:47:59</td>\n",
              "      <td>2012-06-20 19:05:27</td>\n",
              "      <td>0</td>\n",
              "      <td>1</td>\n",
              "      <td>0</td>\n",
              "      <td>2</td>\n",
              "      <td>0</td>\n",
              "      <td>0</td>\n",
              "      <td>a</td>\n",
              "      <td>2032-12-06 03:32:52</td>\n",
              "    </tr>\n",
              "    <tr>\n",
              "      <th>1</th>\n",
              "      <td>1957</td>\n",
              "      <td>female</td>\n",
              "      <td>박민수</td>\n",
              "      <td>tukfWe-XEGsGtB</td>\n",
              "      <td>2008-01-27 19:40:22</td>\n",
              "      <td>B</td>\n",
              "      <td>0</td>\n",
              "      <td>1</td>\n",
              "      <td>1</td>\n",
              "      <td>1</td>\n",
              "      <td>...</td>\n",
              "      <td>2035-09-01 05:23:45</td>\n",
              "      <td>2021-03-26 22:27:38</td>\n",
              "      <td>0</td>\n",
              "      <td>0</td>\n",
              "      <td>0</td>\n",
              "      <td>0</td>\n",
              "      <td>0</td>\n",
              "      <td>0</td>\n",
              "      <td>a</td>\n",
              "      <td>2021-02-14 09:03:59</td>\n",
              "    </tr>\n",
              "    <tr>\n",
              "      <th>2</th>\n",
              "      <td>1950</td>\n",
              "      <td>male</td>\n",
              "      <td>민성현</td>\n",
              "      <td>mCCycV-YyOCKxe</td>\n",
              "      <td>2003-02-22 06:08:59</td>\n",
              "      <td>A</td>\n",
              "      <td>0</td>\n",
              "      <td>1</td>\n",
              "      <td>0</td>\n",
              "      <td>1</td>\n",
              "      <td>...</td>\n",
              "      <td>2040-12-29 11:12:55</td>\n",
              "      <td>2006-05-15 06:29:58</td>\n",
              "      <td>0</td>\n",
              "      <td>0</td>\n",
              "      <td>0</td>\n",
              "      <td>0</td>\n",
              "      <td>0</td>\n",
              "      <td>0</td>\n",
              "      <td>a</td>\n",
              "      <td>2035-11-05 17:25:07</td>\n",
              "    </tr>\n",
              "    <tr>\n",
              "      <th>3</th>\n",
              "      <td>1960</td>\n",
              "      <td>female</td>\n",
              "      <td>송영철</td>\n",
              "      <td>pytIEg-LMwfKEl</td>\n",
              "      <td>2007-07-21 05:57:37</td>\n",
              "      <td>B</td>\n",
              "      <td>0</td>\n",
              "      <td>1</td>\n",
              "      <td>1</td>\n",
              "      <td>1</td>\n",
              "      <td>...</td>\n",
              "      <td>2027-11-13 12:10:03</td>\n",
              "      <td>2026-04-10 02:47:08</td>\n",
              "      <td>0</td>\n",
              "      <td>1</td>\n",
              "      <td>1</td>\n",
              "      <td>0</td>\n",
              "      <td>0</td>\n",
              "      <td>0</td>\n",
              "      <td>a</td>\n",
              "      <td>2043-02-08 08:36:07</td>\n",
              "    </tr>\n",
              "    <tr>\n",
              "      <th>4</th>\n",
              "      <td>1966</td>\n",
              "      <td>male</td>\n",
              "      <td>허현숙</td>\n",
              "      <td>tukfWe-XEGsGtB</td>\n",
              "      <td>2004-11-04 09:09:54</td>\n",
              "      <td>C</td>\n",
              "      <td>1</td>\n",
              "      <td>0</td>\n",
              "      <td>0</td>\n",
              "      <td>1</td>\n",
              "      <td>...</td>\n",
              "      <td>2034-05-07 08:24:39</td>\n",
              "      <td>2003-05-27 02:57:06</td>\n",
              "      <td>1</td>\n",
              "      <td>0</td>\n",
              "      <td>1</td>\n",
              "      <td>2</td>\n",
              "      <td>2</td>\n",
              "      <td>0</td>\n",
              "      <td>a</td>\n",
              "      <td>2043-02-08 08:36:07</td>\n",
              "    </tr>\n",
              "  </tbody>\n",
              "</table>\n",
              "<p>5 rows × 63 columns</p>\n",
              "</div>"
            ],
            "text/plain": [
              "   Customer_Birthyear Customer_Gender Customer_personal_identifier  \\\n",
              "0                1950            male                          윤현숙   \n",
              "1                1957          female                          박민수   \n",
              "2                1950            male                          민성현   \n",
              "3                1960          female                          송영철   \n",
              "4                1966            male                          허현숙   \n",
              "\n",
              "  Customer_identification_number Customer_registration_datetime  \\\n",
              "0                 lJBEHU-BykuOFI            2007-09-28 14:16:02   \n",
              "1                 tukfWe-XEGsGtB            2008-01-27 19:40:22   \n",
              "2                 mCCycV-YyOCKxe            2003-02-22 06:08:59   \n",
              "3                 pytIEg-LMwfKEl            2007-07-21 05:57:37   \n",
              "4                 tukfWe-XEGsGtB            2004-11-04 09:09:54   \n",
              "\n",
              "  Customer_credit_rating  Customer_flag_change_of_authentication_1  \\\n",
              "0                      C                                         1   \n",
              "1                      B                                         0   \n",
              "2                      A                                         0   \n",
              "3                      B                                         0   \n",
              "4                      C                                         1   \n",
              "\n",
              "   Customer_flag_change_of_authentication_2  \\\n",
              "0                                         1   \n",
              "1                                         1   \n",
              "2                                         1   \n",
              "3                                         1   \n",
              "4                                         0   \n",
              "\n",
              "   Customer_flag_change_of_authentication_3  \\\n",
              "0                                         1   \n",
              "1                                         1   \n",
              "2                                         0   \n",
              "3                                         1   \n",
              "4                                         0   \n",
              "\n",
              "   Customer_flag_change_of_authentication_4  ...  \\\n",
              "0                                         1  ...   \n",
              "1                                         1  ...   \n",
              "2                                         1  ...   \n",
              "3                                         1  ...   \n",
              "4                                         1  ...   \n",
              "\n",
              "   Last_atm_transaction_datetime  Last_bank_branch_transaction_datetime  \\\n",
              "0            2021-11-02 05:47:59                    2012-06-20 19:05:27   \n",
              "1            2035-09-01 05:23:45                    2021-03-26 22:27:38   \n",
              "2            2040-12-29 11:12:55                    2006-05-15 06:29:58   \n",
              "3            2027-11-13 12:10:03                    2026-04-10 02:47:08   \n",
              "4            2034-05-07 08:24:39                    2003-05-27 02:57:06   \n",
              "\n",
              "   Flag_deposit_more_than_tenMillion Unused_account_status  \\\n",
              "0                                  0                     1   \n",
              "1                                  0                     0   \n",
              "2                                  0                     0   \n",
              "3                                  0                     1   \n",
              "4                                  1                     0   \n",
              "\n",
              "   Recipient_account_suspend_status  Number_of_transaction_with_the_account  \\\n",
              "0                                 0                                       2   \n",
              "1                                 0                                       0   \n",
              "2                                 0                                       0   \n",
              "3                                 1                                       0   \n",
              "4                                 1                                       2   \n",
              "\n",
              "   Transaction_history_with_the_account  First_time_iOS_by_vulnerable_user  \\\n",
              "0                                     0                                  0   \n",
              "1                                     0                                  0   \n",
              "2                                     0                                  0   \n",
              "3                                     0                                  0   \n",
              "4                                     2                                  0   \n",
              "\n",
              "   Fraud_Type  Transaction_resumed_date  \n",
              "0           a       2032-12-06 03:32:52  \n",
              "1           a       2021-02-14 09:03:59  \n",
              "2           a       2035-11-05 17:25:07  \n",
              "3           a       2043-02-08 08:36:07  \n",
              "4           a       2043-02-08 08:36:07  \n",
              "\n",
              "[5 rows x 63 columns]"
            ]
          },
          "execution_count": 115,
          "metadata": {},
          "output_type": "execute_result"
        }
      ],
      "source": [
        "# 합성 데이터 생성 결과 제출 데이터프레임(DataFrame)\n",
        "# 합성 데이터 생성 결과 데이터프레임 파일명을 반드시 syn_submission.csv 로 지정해야합니다.\n",
        "synthetic_data.head()"
      ]
    },
    {
      "cell_type": "code",
      "execution_count": null,
      "metadata": {
        "colab": {
          "base_uri": "https://localhost:8080/"
        },
        "id": "P1PfnL5un8J_",
        "outputId": "d6633d79-d389-4784-f7a7-26edb7062827"
      },
      "outputs": [
        {
          "name": "stdout",
          "output_type": "stream",
          "text": [
            "Done.\n"
          ]
        }
      ],
      "source": [
        "'''\n",
        "(*) 저장 시 각 파일명을 반드시 확인해주세요.\n",
        "    1. 분류 예측 결과 데이터프레임 파일명 = clf_submission.csv\n",
        "    2. 합성 데이터 생성 결과 데이터프레임 파일명 = syn_submission.csv\n",
        "\n",
        "(*) 제출 파일(zip) 내에 두 개의 데이터프레임이 각각 위의 파일명으로 반드시 존재해야합니다.\n",
        "(*) 파일명을 일치시키지 않으면 채점이 불가능합니다.\n",
        "'''\n",
        "\n",
        "# 폴더 생성 및 작업 디렉토리 변경\n",
        "os.makedirs('./submission', exist_ok=True)\n",
        "os.chdir(\"./submission/\")\n",
        "\n",
        "# CSV 파일로 저장\n",
        "clf_submission.to_csv('./clf_submission.csv', encoding='UTF-8-sig', index=False)\n",
        "synthetic_data.to_csv('./syn_submission.csv', encoding='UTF-8-sig', index=False)\n",
        "\n",
        "# ZIP 파일 생성 및 CSV 파일 추가\n",
        "with zipfile.ZipFile(\"../XGBoost_24.zip\", 'w') as submission:\n",
        "    submission.write('clf_submission.csv')\n",
        "    submission.write('syn_submission.csv')\n",
        "\n",
        "print('Done.')"
      ]
    }
  ],
  "metadata": {
    "accelerator": "GPU",
    "colab": {
      "gpuType": "A100",
      "machine_shape": "hm",
      "provenance": [],
      "toc_visible": true,
      "include_colab_link": true
    },
    "kernelspec": {
      "display_name": "Python 3 (ipykernel)",
      "language": "python",
      "name": "python3"
    },
    "language_info": {
      "codemirror_mode": {
        "name": "ipython",
        "version": 3
      },
      "file_extension": ".py",
      "mimetype": "text/x-python",
      "name": "python",
      "nbconvert_exporter": "python",
      "pygments_lexer": "ipython3",
      "version": "3.10.13"
    }
  },
  "nbformat": 4,
  "nbformat_minor": 0
}